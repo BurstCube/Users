{
 "cells": [
  {
   "cell_type": "code",
   "execution_count": 1,
   "metadata": {},
   "outputs": [],
   "source": [
    "import numpy as np\n",
    "import matplotlib.pylab as plot\n",
    "from astropy.io import ascii,fits\n",
    "from scipy import interpolate\n",
    "import grb_catalogs_copy\n",
    "from BurstCube.LocSim.Detector import *\n",
    "from BurstCube.LocSim.Spacecraft import *\n",
    "from astropy.coordinates import SkyCoord\n",
    "from astropy import units as u\n",
    "from scipy.optimize import curve_fit\n",
    "import math"
   ]
  },
  {
   "cell_type": "code",
   "execution_count": 2,
   "metadata": {},
   "outputs": [],
   "source": [
    "# read in GBM GRB catalog (first 9 years)\n",
    "gbm=fits.open('gbmgrbcat_copy.fits')\n",
    "gbm=gbm[1].data\n",
    "\n",
    "#randomly select GRBs from GBM catalog in orer to create simulated sample\n",
    "\n",
    "#simsample = gbm[np.random.choice(gbm.shape[0], 6352, replace=True)]\n"
   ]
  },
  {
   "cell_type": "code",
   "execution_count": 3,
   "metadata": {},
   "outputs": [],
   "source": [
    "## code to use when reading in GBM effective area in order to get data into the desired format\n",
    "def getGBMdata(gbmfile=None):\n",
    "    \"\"\"Reads the GBM NaI effective area file and returns a numpy array\n",
    "    with two columns ``energy`` and ``aeff``.\n",
    "    Parameters\n",
    "    ----------\n",
    "    gbmfile : string\n",
    "       Name of file that contains the GBM data.\n",
    "    Returns\n",
    "    ----------\n",
    "    gbmdata : array \n",
    "    numpy array with two columns ``energy`` and ``aeff``\n",
    "    \"\"\"\n",
    "    \n",
    "    return np.genfromtxt(gbmfile,skip_header=2,names=('energy', 'aeff'))\n"
   ]
  },
  {
   "cell_type": "code",
   "execution_count": 4,
   "metadata": {},
   "outputs": [],
   "source": [
    "## bit of useful code for interpolating in log space\n",
    "def loginterpol(x,y,x1):\n",
    "\n",
    "    f=interpolate.interp1d(np.log10(x),np.log10(y),bounds_error=False,fill_value=\"extrapolate\",kind='linear')\n",
    "    y1=10**f(np.log10(x1))\n",
    "\n",
    "    return y1\n",
    "\n",
    "def loginterpol2d(x,y,z,x1,y1):\n",
    "\n",
    "    wz=np.where(z==0)[0]\n",
    "    zz=z\n",
    "    zz[wz]=1.\n",
    "    f=interpolate.interp2d(x,y,np.log10(zz),bounds_error=False,fill_value=\"extrapolate\",kind='linear')\n",
    "    z1=10**f(x1,y1)"
   ]
  },
  {
   "cell_type": "code",
   "execution_count": 5,
   "metadata": {},
   "outputs": [],
   "source": [
    "## generate random positions on the sky with equal area probability\n",
    "def random_sky(n=1):\n",
    "\n",
    "    u=np.random.rand(n)\n",
    "    v=np.random.rand(n)\n",
    "\n",
    "    phi=2*np.pi*u\n",
    "    theta=np.arccos(2*v-1.)\n",
    "\n",
    "    dec=-np.degrees(theta-np.pi/2.)\n",
    "    ra=np.degrees(np.pi*2-phi)\n",
    "\n",
    "    return ra,dec"
   ]
  },
  {
   "cell_type": "code",
   "execution_count": 6,
   "metadata": {},
   "outputs": [],
   "source": [
    "## read in the GBM Aeff\n",
    "aeff_gbm = getGBMdata('/home/alyson/NASA/Simulation/BurstCube/Users/ajoens/gbm_effective_area.dat')"
   ]
  },
  {
   "cell_type": "code",
   "execution_count": 7,
   "metadata": {},
   "outputs": [],
   "source": [
    "## separate GBM short & long GRBs\n",
    "w=np.where(gbm['FLUX_1024']>0)\n",
    "gbm=gbm[w]\n",
    "s=np.where(gbm['T90'] <= 2.)[0]\n",
    "l=np.where(gbm['T90'] > 2.)[0]\n",
    "m=np.where(gbm['PFLX_BEST_FITTING_MODEL'][s] == ' ')\n"
   ]
  },
  {
   "cell_type": "code",
   "execution_count": 8,
   "metadata": {},
   "outputs": [
    {
     "name": "stdout",
     "output_type": "stream",
     "text": [
      "(394,)\n"
     ]
    }
   ],
   "source": [
    "#Integrating the best fit spectrum for each GRB in the energy range of 50-300 KeV to get max. observed photon flux. \n",
    "#This will give us the photon flux in units of ph/cm^2/s. Currently only doing this for GBM and will then add in BurstCube\n",
    "# the parts below I have commented out are what I believe are for BC and currently I am focusing on GBM\n",
    "mo=gbm['PFLX_BEST_FITTING_MODEL'][s]\n",
    "#f=np.zeros([len(s),nsims]) # produces an array of zeros with the given shape and type\n",
    "pf=np.zeros(len(s))\n",
    "gbmcr=np.zeros(len(s))\n",
    "outE=np.logspace(np.log10(50),np.log10(300),100) # returns numbers spaced evenly on a log scale\n",
    "for i in range(len(s)):\n",
    "    #for j in range(nsims):\n",
    "        #E=np.array(eng[w[j]+1:w[j+1]+1])\n",
    "        #AeffBC=loginterpol(E,aeffs['aeff'][w[j]+1:w[j+1]+1],outE)\n",
    "        AeffGBM=loginterpol(aeff_gbm['energy'],aeff_gbm['aeff'],outE)#eng[w[j]+1:w[j+1]+1])\n",
    "        #Aratio=(AeffBC/AeffGBM)\n",
    "        # not sure what *grb_catalogs_copy.pl(outE,gbm['PFLX_PLAW_INDEX'][s[i]] is and why we need it. I think we only need the model photon flux times the aeffGBM and we want it integrated over the energy range provided in outE\n",
    "        # this should give us an array of the maximum observed photon flux for GBM\n",
    "        if mo[i]=='PFLX_PLAW':\n",
    "            gbmcr[i]=np.trapz(gbm['PFLX_PLAW_AMPL'][s[i]]*grb_catalogs_copy.pl(outE,gbm['PFLX_PLAW_INDEX'][s[i]])*AeffGBM,outE)\n",
    "            pf[i]=np.trapz(gbm['PFLX_PLAW_AMPL'][s[i]]*grb_catalogs_copy.pl(outE,gbm['PFLX_PLAW_INDEX'][s[i]]),outE)\n",
    "            #pf[i]=gbm['PFLX_PLAW_PHTFLUX'][s[i]]\n",
    "        if mo[i]=='PFLX_COMP':\n",
    "            gbmcr[i]=np.trapz(gbm['PFLX_COMP_AMPL'][s[i]]*grb_catalogs_copy.comp(outE,gbm['PFLX_COMP_INDEX'][s[i]],gbm['PFLX_COMP_EPEAK'][s[i]])*AeffGBM,outE)\n",
    "            pf[i]=np.trapz(gbm['PFLX_COMP_AMPL'][s[i]]*grb_catalogs_copy.comp(outE,gbm['PFLX_COMP_INDEX'][s[i]],gbm['PFLX_COMP_EPEAK'][s[i]]),outE)\n",
    "            #pf[i]=gbm['PFLX_COMP_PHTFLUX'][s[i]]\n",
    "        if mo[i]=='PFLX_BAND':\n",
    "            gbmcr[i]=np.trapz(gbm['PFLX_BAND_AMPL'][s[i]]*grb_catalogs_copy.band(outE,gbm['PFLX_BAND_ALPHA'][s[i]],gbm['PFLX_BAND_EPEAK'][s[i]],gbm['PFLX_BAND_BETA'][s[i]])*AeffGBM,outE)\n",
    "            pf[i]=np.trapz(gbm['PFLX_BAND_AMPL'][s[i]]*grb_catalogs_copy.band(outE,gbm['PFLX_BAND_ALPHA'][s[i]],gbm['PFLX_BAND_EPEAK'][s[i]],gbm['PFLX_BAND_BETA'][s[i]]),outE)\n",
    "            #pf[i]=gbm['PFLX_BAND_PHTFLUX'][s[i]]\n",
    "        if mo[i]=='PFLX_SBPL':\n",
    "            gbmcr[i]=np.trapz(gbm['PFLX_SBPL_AMPL'][s[i]]*grb_catalogs_copy.sbpl(outE,gbm['PFLX_SBPL_INDX1'][s[i]],gbm['PFLX_SBPL_BRKEN'][s[i]],gbm['PFLX_SBPL_INDX2'][s[i]])*AeffGBM,outE)\n",
    "            pf[i]=np.trapz(gbm['PFLX_SBPL_AMPL'][s[i]]*grb_catalogs_copy.sbpl(outE,gbm['PFLX_SBPL_INDX1'][s[i]],gbm['PFLX_SBPL_BRKEN'][s[i]],gbm['PFLX_SBPL_INDX2'][s[i]]),outE)\n",
    "            #pf[i]=gbm['PFLX_SBPL_PHTFLUX'][s[i]]\n",
    "\n",
    "pf = np.array(pf)\n",
    "gbmcr = np.array(gbmcr)\n",
    "#print(pf)\n",
    "sizepf =np.shape(pf)\n",
    "print(sizepf)"
   ]
  },
  {
   "cell_type": "code",
   "execution_count": 9,
   "metadata": {
    "scrolled": false
   },
   "outputs": [
    {
     "name": "stdout",
     "output_type": "stream",
     "text": [
      "(394,)\n"
     ]
    },
    {
     "data": {
      "image/png": "[encoded data removed]",
      "text/plain": [
       "<Figure size 1440x360 with 2 Axes>"
      ]
     },
     "metadata": {},
     "output_type": "display_data"
    },
    {
     "data": {
      "image/png": "[encoded data removed]",
      "text/plain": [
       "<Figure size 432x288 with 1 Axes>"
      ]
     },
     "metadata": {},
     "output_type": "display_data"
    }
   ],
   "source": [
    "#plot Batse[64] against pf to see if they are the same\n",
    "flux=gbm['FLUX_BATSE_64'][s]\n",
    "fluxshape=np.shape(flux)\n",
    "print(fluxshape)\n",
    "\n",
    "#Creating plot of peak flux versus counts for real and simulated GBM\n",
    "#print(np.log10(pf[w]))\n",
    "fig=plot.figure(figsize=(20,5))\n",
    "plot.subplot(1,2,1)\n",
    "plot.hist(pf,label='real GBM',bins=np.logspace(-1,4,40),color='orange')\n",
    "plot.hist(flux,label='flux batse',bins=np.logspace(-1,4,40),alpha=0.7,color='blue')\n",
    "plot.xscale('log')\n",
    "plot.legend()\n",
    "plot.subplot(1,2,2)\n",
    "#plot.hist(flux,label='All',bins=np.logspace(-1,2,40),color='green')\n",
    "#pf has been gathered from the GBM catalog\n",
    "plot.hist(pf,label='real GBM',bins=np.logspace(-1,4,40),color='orange')\n",
    "# this is the simulated GBM\n",
    "plot.hist(flux,label='flux batse',bins=np.logspace(-1,4,40),alpha=0.7,color='blue')\n",
    "#plot.hist(flux[w],label='BC',bins=np.logspace(-1,2,40),alpha=0.7,color='red')\n",
    "plot.xscale('log')\n",
    "plot.legend()\n",
    "\n",
    "plot.show()\n",
    "\n",
    "plot.plot(pf,flux, linestyle='None', marker='o')\n",
    "plot.xscale('log')\n",
    "plot.yscale('log')\n",
    "plot.plot([1e-1,1e3],[1e-1,1e3])\n",
    "plot.show()"
   ]
  },
  {
   "cell_type": "code",
   "execution_count": 10,
   "metadata": {},
   "outputs": [
    {
     "name": "stdout",
     "output_type": "stream",
     "text": [
      "(2351,)\n",
      "[1.65406891 2.49775967 2.52188146 ... 2.18806504 0.         7.94079749]\n",
      "[131 129 193 ... 254 135 166]\n"
     ]
    }
   ],
   "source": [
    "#randomly sample from peak flux\n",
    "i=np.random.choice(pf.shape[0], 2351, replace=True)\n",
    "simpfsample = np.array(pf[i])\n",
    "print(np.shape(simpfsample))\n",
    "print(simpfsample)\n",
    "print(i)"
   ]
  },
  {
   "cell_type": "code",
   "execution_count": 11,
   "metadata": {},
   "outputs": [
    {
     "name": "stdout",
     "output_type": "stream",
     "text": [
      "[ 207.4293126   313.2465511   316.28561442 ...  286.86167282    0.\n",
      " 1040.45985466]\n"
     ]
    }
   ],
   "source": [
    "#Doing the same as above but for our simulated sample in order to get the max observed photon flux of the sim. sample.\n",
    "outE=np.logspace(np.log10(50),np.log10(300),3940) \n",
    "simgbmcr=np.zeros(len(simpfsample))\n",
    "for i in range(len(simpfsample)):\n",
    "    AeffGBM=loginterpol(aeff_gbm['energy'],aeff_gbm['aeff'],outE)#eng[w[j]+1:w[j+1]+1])\n",
    "    simgbmcr[i] = simpfsample[i]*AeffGBM[i]\n",
    "print(simgbmcr)"
   ]
  },
  {
   "cell_type": "code",
   "execution_count": 12,
   "metadata": {},
   "outputs": [],
   "source": [
    "# we want to solve for the number of detected counts. We need to create two more arrays- 1 for exposure and the other for interval.\n",
    "#Interval is given in the GBM catalog however we need to know exposure. This should be found from the exposure map for each burst.\n",
    "#this all together will give us the number of source photons\n",
    "\n",
    "## setup GBM\n",
    "gbm_pointings = {'01': ('45:54:0','20:36:0'),\n",
    "            '02': ('45:6:0','45:18:0'),\n",
    "            '03': ('58:24:0','90:12:0'),\n",
    "            '04': ('314:54:0','45:12:0'),\n",
    "            '05': ('303:12:0','90:18:0'),\n",
    "            '06': ('3:24:0','89:48:0'),\n",
    "            '07': ('224:54:0','20:24:0'),\n",
    "            '08': ('224:36:0','46:12:0'),\n",
    "            '09': ('236:36:0','90:0:0'),\n",
    "            '10': ('135:12:0','45:36:0'),\n",
    "            '11': ('123:42:0','90:24:0'),\n",
    "            '12': ('183:42:0','90:18:0')}\n",
    "\n",
    "fermi = Spacecraft(gbm_pointings,window=0.1)\n",
    "\n",
    "res = 250\n",
    "rr,dd = np.meshgrid(np.linspace(0,360,res,endpoint=False),np.linspace(-90,90,res))\n",
    "exposure_positions = np.vstack([rr.ravel(),dd.ravel()])\n",
    "gbm_exposures = np.array([[ detector.exposure(position[0],position[1]) for position in exposure_positions.T] \n",
    "                      for detector in fermi.detectors])"
   ]
  },
  {
   "cell_type": "code",
   "execution_count": 13,
   "metadata": {},
   "outputs": [],
   "source": [
    "#using SkyCoord to convert coordinates to degrees and solve for distances.\n",
    "def separation(ra1,dec1,ra2,dec2):\n",
    "\n",
    "    c=SkyCoord(ra=ra1*u.deg,dec=dec1*u.deg)\n",
    "    d=SkyCoord(ra=ra2*u.deg,dec=dec2*u.deg)\n",
    "    dist=c.separation(d)\n",
    "    dist=dist.value\n",
    "\n",
    "    return dist"
   ]
  },
  {
   "cell_type": "code",
   "execution_count": 14,
   "metadata": {},
   "outputs": [],
   "source": [
    "# now that GBM's pointings are set up we will throw GRBs at it and determine it's exposure for each GRB. \n",
    "#generate GRBs and throw them at GBM\n",
    "\n",
    "def throw_grbs(fermi,minflux,maxflux):\n",
    "    \n",
    "    nsims=int(np.round(len(simgbmcr))) #why is nsims length of pf*2?\n",
    "    ra,dec=random_sky(nsims)\n",
    "    ra=np.array(ra)-180\n",
    "    dec=np.array(dec)\n",
    "    #sigma=0.65,mean=1.5\n",
    " \n",
    "    #change the sigma and mean in order to create a log fit for simulated GBM. Automate this fit.\n",
    "    #flux=np.random.lognormal(size=nsims,sigma=0.55,mean=0.6)*(np.log10(maxflux)-np.log10(minflux))+np.log10(minflux)\n",
    "\n",
    "    #GBM exposures for each random GRB. Believe this is an array with the different exposures for each detector\n",
    "    randgbmexposures = np.array([[detector.exposure(ra[i],dec[i]) for i in range(nsims)] for detector in fermi.detectors])\n",
    "    print(\"randgbmexposures=\", randgbmexposures)\n",
    "\n",
    "    #Order randgbmexposures into descending order\n",
    "    for column in randgbmexposures.T:\n",
    "        newrandgbm = -np.sort(-randgbmexposures.T) \n",
    "    gbmexposures = np.transpose(newrandgbm)\n",
    "    print(\"gbmexposures=\",gbmexposures)\n",
    "\n",
    "    #Select the second highest value. \n",
    "    #We will use this to ensure the second highest exposure detector has a sig >4.5\n",
    "    secondhighest = gbmexposures[1,:]\n",
    "    print(\"Second highest =\", secondhighest)\n",
    "\n",
    "        \n",
    "    return gbmexposures, secondhighest, randgbmexposures"
   ]
  },
  {
   "cell_type": "code",
   "execution_count": 15,
   "metadata": {},
   "outputs": [
    {
     "name": "stdout",
     "output_type": "stream",
     "text": [
      "[1.024 1.024 1.024 ... 1.024 0.064 0.064]\n",
      "(2351,)\n",
      "()\n",
      "0.064\n"
     ]
    }
   ],
   "source": [
    "#define the peak flux interval\n",
    "interval = gbm['PFLX_SPECTRUM_STOP']-gbm['PFLX_SPECTRUM_START']\n",
    "print(interval)\n",
    "#interval = gbm['PFLX_SPECTRUM_STOP'][s]-gbm['PFLX_SPECTRUM_START'][s]\n",
    "#print the interval of only the short bursts\n",
    "#print(interval[s])\n",
    "w=np.shape(interval)\n",
    "print(w)\n",
    "randinterval=np.array(interval[i])\n",
    "print(np.shape(randinterval))\n",
    "print(randinterval)"
   ]
  },
  {
   "cell_type": "code",
   "execution_count": 16,
   "metadata": {},
   "outputs": [
    {
     "name": "stdout",
     "output_type": "stream",
     "text": [
      "randgbmexposures= [[0.         0.87480032 0.         ... 0.         0.11826332 0.31117084]\n",
      " [0.         0.97210359 0.         ... 0.         0.         0.29320938]\n",
      " [0.         0.9551468  0.         ... 0.         0.0647736  0.60771579]\n",
      " ...\n",
      " [0.         0.10859283 0.82720112 ... 0.76736329 0.88478105 0.95131571]\n",
      " [0.         0.31895172 0.64427255 ... 0.41349324 0.92324834 0.88115248]\n",
      " [0.         0.         0.81881804 ... 0.59399144 0.76763531 0.21226454]]\n",
      "gbmexposures= [[0.         0.97210359 0.82720112 ... 0.76736329 0.92324834 0.95131571]\n",
      " [0.         0.9551468  0.81881804 ... 0.63252855 0.88478105 0.88115248]\n",
      " [0.         0.87480032 0.64427255 ... 0.60559398 0.76763531 0.60771579]\n",
      " ...\n",
      " [0.         0.         0.         ... 0.         0.         0.        ]\n",
      " [0.         0.         0.         ... 0.         0.         0.        ]\n",
      " [0.         0.         0.         ... 0.         0.         0.        ]]\n",
      "Second highest = [0.         0.9551468  0.81881804 ... 0.63252855 0.88478105 0.88115248]\n",
      "(2351,)\n"
     ]
    }
   ],
   "source": [
    "#flux=simpf this is in ph/sec\n",
    "flux=simpfsample[s]\n",
    "minflux=min(flux)\n",
    "maxflux=max(flux)\n",
    "gbmexposures, secondhighest, randgbmexposures = throw_grbs(fermi,minflux,maxflux)\n",
    "\n",
    "sechighestsize=np.shape(secondhighest)\n",
    "print(sechighestsize)\n",
    "#execute function defined above\n",
    "#throw_grbs(fermi,minflux,maxflux,pf)"
   ]
  },
  {
   "cell_type": "code",
   "execution_count": 17,
   "metadata": {},
   "outputs": [
    {
     "name": "stdout",
     "output_type": "stream",
     "text": [
      "(2351,)\n",
      "(2351,)\n",
      "(2351,)\n",
      "[0.         2.44298461 2.11452111 ... 1.41722994 0.         0.44781142]\n",
      "[1.024 1.024 1.024 ... 1.024 0.064 0.064]\n",
      "[0.         0.9551468  0.81881804 ... 0.63252855 0.88478105 0.88115248]\n",
      "[1.65406891 2.49775967 2.52188146 ... 2.18806504 0.         7.94079749]\n"
     ]
    }
   ],
   "source": [
    "#Solve for the number of detected counts which will equal our source photons\n",
    "#Should this really be multiplied by pf or should it be multiplied by flux? pf is calculated from GBM catalog#\n",
    "source = simpfsample*secondhighest*interval\n",
    "q=np.shape(simpfsample)\n",
    "print(q)\n",
    "y=np.shape(secondhighest)\n",
    "print(y)\n",
    "x=np.shape(interval)\n",
    "print(x)\n",
    "print(source)\n",
    "print(interval)\n",
    "print(secondhighest)\n",
    "print(simpfsample)"
   ]
  },
  {
   "cell_type": "code",
   "execution_count": 18,
   "metadata": {},
   "outputs": [
    {
     "name": "stdout",
     "output_type": "stream",
     "text": [
      "[  0.         978.07032543 838.46966852 ... 647.70923943  56.62598745\n",
      "  56.39375897]\n"
     ]
    }
   ],
   "source": [
    "#Assuming a background count rate. units: cts/s\n",
    "bckgrd= 1000\n",
    "#scale the background count rate \n",
    "scaledbckgrd = bckgrd*secondhighest*interval\n",
    "print(scaledbckgrd)"
   ]
  },
  {
   "cell_type": "code",
   "execution_count": 19,
   "metadata": {},
   "outputs": [
    {
     "name": "stdout",
     "output_type": "stream",
     "text": [
      "[0. 0. 0. ... 0. 0. 0.]\n"
     ]
    },
    {
     "name": "stderr",
     "output_type": "stream",
     "text": [
      "/home/alyson/anaconda3/lib/python3.6/site-packages/ipykernel_launcher.py:5: RuntimeWarning: invalid value encountered in double_scalars\n",
      "  \"\"\"\n"
     ]
    }
   ],
   "source": [
    "#calculate the significance of the second highest exposure detector. If the significance is greater than 4.5 sigma than the burst is detectable.\n",
    "#creating an array of zeros that I can \n",
    "detect = np.zeros(len(secondhighest))\n",
    "for u in range(len(secondhighest)):\n",
    "    sig = source[u] / (math.sqrt(source[u] + scaledbckgrd[u]))\n",
    "    if sig > 4.5:\n",
    "        detect[u] = 1.0\n",
    "    else:\n",
    "        detect[u] = 0.0\n",
    "\n",
    "print(detect)"
   ]
  },
  {
   "cell_type": "code",
   "execution_count": 21,
   "metadata": {},
   "outputs": [
    {
     "data": {
      "image/png": "[encoded data removed]",
      "text/plain": [
       "<Figure size 1440x360 with 2 Axes>"
      ]
     },
     "metadata": {},
     "output_type": "display_data"
    }
   ],
   "source": [
    "#Creating plot of peak flux versus counts for real and simulated GBM\n",
    "w=np.where(pf>0)[0]\n",
    "wg = np.where(simgbmcr*detect>0)[0]\n",
    "#print(np.log10(pf[w]))\n",
    "fig=plot.figure(figsize=(20,5))\n",
    "plot.subplot(1,2,1)\n",
    "plot.hist(gbmcr[w],label='real GBM',bins=np.logspace(1,6,40),color='orange')\n",
    "plot.hist(simgbmcr[wg],label='Simulated GBM',bins=np.logspace(1,6,40),alpha=0.7,color='blue')\n",
    "plot.xscale('log')\n",
    "plot.legend()\n",
    "plot.subplot(1,2,2)\n",
    "#plot.hist(flux,label='All',bins=np.logspace(-1,2,40),color='green')\n",
    "#pf has been gathered from the GBM catalog\n",
    "plot.hist(gbmcr[w],label='real GBM',bins=np.logspace(1,6,40),color='orange')\n",
    "# this is the simulated GBM\n",
    "plot.hist(simgbmcr[wg],label='GBM',bins=np.logspace(1,6,40),alpha=0.7,color='blue')\n",
    "#plot.hist(flux[w],label='BC',bins=np.logspace(-1,2,40),alpha=0.7,color='red')\n",
    "plot.xscale('log')\n",
    "plot.legend()\n",
    "\n",
    "plot.show()\n",
    "        "
   ]
  },
  {
   "cell_type": "code",
   "execution_count": null,
   "metadata": {},
   "outputs": [],
   "source": []
  },
  {
   "cell_type": "code",
   "execution_count": null,
   "metadata": {},
   "outputs": [],
   "source": []
  }
 ],
 "metadata": {
  "kernelspec": {
   "display_name": "Python 3",
   "language": "python",
   "name": "python3"
  },
  "language_info": {
   "codemirror_mode": {
    "name": "ipython",
    "version": 3
   },
   "file_extension": ".py",
   "mimetype": "text/x-python",
   "name": "python",
   "nbconvert_exporter": "python",
   "pygments_lexer": "ipython3",
   "version": "3.6.5"
  }
 },
 "nbformat": 4,
 "nbformat_minor": 2
}
