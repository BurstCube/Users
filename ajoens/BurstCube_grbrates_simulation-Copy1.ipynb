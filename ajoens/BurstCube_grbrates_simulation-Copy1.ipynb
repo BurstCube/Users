{
 "cells": [
  {
   "cell_type": "code",
   "execution_count": 1,
   "metadata": {},
   "outputs": [],
   "source": [
    "import numpy as np\n",
    "import matplotlib.pylab as plot\n",
    "from astropy.io import ascii,fits\n",
    "from scipy import interpolate\n",
    "import grb_catalogs_copy\n",
    "from BurstCube.LocSim.Detector import *\n",
    "from BurstCube.LocSim.Spacecraft import *\n",
    "from astropy.coordinates import SkyCoord\n",
    "from astropy import units as u\n",
    "from scipy.optimize import curve_fit\n",
    "import math"
   ]
  },
  {
   "cell_type": "code",
   "execution_count": 2,
   "metadata": {},
   "outputs": [],
   "source": [
    "# read in GBM GRB catalog (first 9 years)\n",
    "gbm=fits.open('gbmgrbcat_copy.fits')\n",
    "gbm=gbm[1].data\n",
    "\n",
    "#randomly select GRBs from GBM catalog in orer to create simulated sample\n",
    "\n",
    "simsample = gbm[np.random.choice(gbm.shape[0], 6352, replace=True)]\n"
   ]
  },
  {
   "cell_type": "code",
   "execution_count": 3,
   "metadata": {},
   "outputs": [],
   "source": [
    "## code to use when reading in GBM effective area in order to get data into the desired format\n",
    "def getGBMdata(gbmfile=None):\n",
    "    \"\"\"Reads the GBM NaI effective area file and returns a numpy array\n",
    "    with two columns ``energy`` and ``aeff``.\n",
    "    Parameters\n",
    "    ----------\n",
    "    gbmfile : string\n",
    "       Name of file that contains the GBM data.\n",
    "    Returns\n",
    "    ----------\n",
    "    gbmdata : array \n",
    "    numpy array with two columns ``energy`` and ``aeff``\n",
    "    \"\"\"\n",
    "    \n",
    "    return np.genfromtxt(gbmfile,skip_header=2,names=('energy', 'aeff'))\n"
   ]
  },
  {
   "cell_type": "code",
   "execution_count": 4,
   "metadata": {},
   "outputs": [],
   "source": [
    "## bit of useful code for interpolating in log space\n",
    "def loginterpol(x,y,x1):\n",
    "\n",
    "    f=interpolate.interp1d(np.log10(x),np.log10(y),bounds_error=False,fill_value=\"extrapolate\",kind='linear')\n",
    "    y1=10**f(np.log10(x1))\n",
    "\n",
    "    return y1\n",
    "\n",
    "def loginterpol2d(x,y,z,x1,y1):\n",
    "\n",
    "    wz=np.where(z==0)[0]\n",
    "    zz=z\n",
    "    zz[wz]=1.\n",
    "    f=interpolate.interp2d(x,y,np.log10(zz),bounds_error=False,fill_value=\"extrapolate\",kind='linear')\n",
    "    z1=10**f(x1,y1)"
   ]
  },
  {
   "cell_type": "code",
   "execution_count": 5,
   "metadata": {},
   "outputs": [],
   "source": [
    "## generate random positions on the sky with equal area probability\n",
    "def random_sky(n=1):\n",
    "\n",
    "    u=np.random.rand(n)\n",
    "    v=np.random.rand(n)\n",
    "\n",
    "    phi=2*np.pi*u\n",
    "    theta=np.arccos(2*v-1.)\n",
    "\n",
    "    dec=-np.degrees(theta-np.pi/2.)\n",
    "    ra=np.degrees(np.pi*2-phi)\n",
    "\n",
    "    return ra,dec"
   ]
  },
  {
   "cell_type": "code",
   "execution_count": 6,
   "metadata": {},
   "outputs": [],
   "source": [
    "## read in the GBM Aeff\n",
    "aeff_gbm = getGBMdata('/home/alyson/NASA/Simulation/BurstCube/Users/ajoens/gbm_effective_area.dat')"
   ]
  },
  {
   "cell_type": "code",
   "execution_count": 7,
   "metadata": {},
   "outputs": [],
   "source": [
    "## separate GBM short & long GRBs\n",
    "w=np.where(gbm['FLUX_1024']>0)\n",
    "gbm=gbm[w]\n",
    "s=np.where(gbm['T90'] <= 2.)[0]\n",
    "l=np.where(gbm['T90'] > 2.)[0]\n",
    "m=np.where(gbm['PFLX_BEST_FITTING_MODEL'][s] == ' ')\n"
   ]
  },
  {
   "cell_type": "code",
   "execution_count": 8,
   "metadata": {},
   "outputs": [
    {
     "name": "stdout",
     "output_type": "stream",
     "text": [
      "(394,)\n"
     ]
    }
   ],
   "source": [
    "#Integrating the best fit spectrum for each GRB in the energy range of 50-300 KeV to get max. observed photon flux. \n",
    "#This will give us the photon flux in units of ph/cm^2/s. Currently only doing this for GBM and will then add in BurstCube\n",
    "# the parts below I have commented out are what I believe are for BC and currently I am focusing on GBM\n",
    "mo=gbm['PFLX_BEST_FITTING_MODEL'][s]\n",
    "#f=np.zeros([len(s),nsims]) # produces an array of zeros with the given shape and type\n",
    "pf=np.zeros(len(s))\n",
    "gbmcr=np.zeros(len(s))\n",
    "outE=np.logspace(np.log10(50),np.log10(300),100) # returns numbers spaced evenly on a log scale\n",
    "for i in range(len(s)):\n",
    "    #for j in range(nsims):\n",
    "        #E=np.array(eng[w[j]+1:w[j+1]+1])\n",
    "        #AeffBC=loginterpol(E,aeffs['aeff'][w[j]+1:w[j+1]+1],outE)\n",
    "        AeffGBM=loginterpol(aeff_gbm['energy'],aeff_gbm['aeff'],outE)#eng[w[j]+1:w[j+1]+1])\n",
    "        #Aratio=(AeffBC/AeffGBM)\n",
    "        # not sure what *grb_catalogs_copy.pl(outE,gbm['PFLX_PLAW_INDEX'][s[i]] is and why we need it. I think we only need the model photon flux times the aeffGBM and we want it integrated over the energy range provided in outE\n",
    "        # this should give us an array of the maximum observed photon flux for GBM\n",
    "        if mo[i]=='PFLX_PLAW':\n",
    "            gbmcr[i]=np.trapz(gbm['PFLX_PLAW_AMPL'][s[i]]*grb_catalogs_copy.pl(outE,gbm['PFLX_PLAW_INDEX'][s[i]])*AeffGBM,outE)\n",
    "            pf[i]=np.trapz(gbm['PFLX_PLAW_AMPL'][s[i]]*grb_catalogs_copy.pl(outE,gbm['PFLX_PLAW_INDEX'][s[i]]),outE)\n",
    "            #pf[i]=gbm['PFLX_PLAW_PHTFLUX'][s[i]]\n",
    "        if mo[i]=='PFLX_COMP':\n",
    "            gbmcr[i]=np.trapz(gbm['PFLX_COMP_AMPL'][s[i]]*grb_catalogs_copy.comp(outE,gbm['PFLX_COMP_INDEX'][s[i]],gbm['PFLX_COMP_EPEAK'][s[i]])*AeffGBM,outE)\n",
    "            pf[i]=np.trapz(gbm['PFLX_COMP_AMPL'][s[i]]*grb_catalogs_copy.comp(outE,gbm['PFLX_COMP_INDEX'][s[i]],gbm['PFLX_COMP_EPEAK'][s[i]]),outE)\n",
    "            #pf[i]=gbm['PFLX_COMP_PHTFLUX'][s[i]]\n",
    "        if mo[i]=='PFLX_BAND':\n",
    "            gbmcr[i]=np.trapz(gbm['PFLX_BAND_AMPL'][s[i]]*grb_catalogs_copy.band(outE,gbm['PFLX_BAND_ALPHA'][s[i]],gbm['PFLX_BAND_EPEAK'][s[i]],gbm['PFLX_BAND_BETA'][s[i]])*AeffGBM,outE)\n",
    "            pf[i]=np.trapz(gbm['PFLX_BAND_AMPL'][s[i]]*grb_catalogs_copy.band(outE,gbm['PFLX_BAND_ALPHA'][s[i]],gbm['PFLX_BAND_EPEAK'][s[i]],gbm['PFLX_BAND_BETA'][s[i]]),outE)\n",
    "            #pf[i]=gbm['PFLX_BAND_PHTFLUX'][s[i]]\n",
    "        if mo[i]=='PFLX_SBPL':\n",
    "            gbmcr[i]=np.trapz(gbm['PFLX_SBPL_AMPL'][s[i]]*grb_catalogs_copy.sbpl(outE,gbm['PFLX_SBPL_INDX1'][s[i]],gbm['PFLX_SBPL_BRKEN'][s[i]],gbm['PFLX_SBPL_INDX2'][s[i]])*AeffGBM,outE)\n",
    "            pf[i]=np.trapz(gbm['PFLX_SBPL_AMPL'][s[i]]*grb_catalogs_copy.sbpl(outE,gbm['PFLX_SBPL_INDX1'][s[i]],gbm['PFLX_SBPL_BRKEN'][s[i]],gbm['PFLX_SBPL_INDX2'][s[i]]),outE)\n",
    "            #pf[i]=gbm['PFLX_SBPL_PHTFLUX'][s[i]]\n",
    "\n",
    "pf = np.array(pf)\n",
    "gbmcr = np.array(gbmcr)\n",
    "#print(pf)\n",
    "sizepf =np.shape(pf)\n",
    "print(sizepf)"
   ]
  },
  {
   "cell_type": "code",
   "execution_count": 20,
   "metadata": {},
   "outputs": [
    {
     "ename": "IndexError",
     "evalue": "index 394 is out of bounds for axis 0 with size 394",
     "output_type": "error",
     "traceback": [
      "\u001b[0;31m---------------------------------------------------------------------------\u001b[0m",
      "\u001b[0;31mIndexError\u001b[0m                                Traceback (most recent call last)",
      "\u001b[0;32m<ipython-input-20-7615f6ca85ec>\u001b[0m in \u001b[0;36m<module>\u001b[0;34m()\u001b[0m\n\u001b[1;32m     13\u001b[0m         \u001b[0;31m# not sure what *grb_catalogs_copy.pl(outE,gbm['PFLX_PLAW_INDEX'][s[i]] is and why we need it. I think we only need the model photon flux times the aeffGBM and we want it integrated over the energy range provided in outE\u001b[0m\u001b[0;34m\u001b[0m\u001b[0;34m\u001b[0m\u001b[0m\n\u001b[1;32m     14\u001b[0m         \u001b[0;31m# this should give us an array of the maximum observed photon flux for GBM\u001b[0m\u001b[0;34m\u001b[0m\u001b[0;34m\u001b[0m\u001b[0m\n\u001b[0;32m---> 15\u001b[0;31m         \u001b[0;32mif\u001b[0m \u001b[0mms\u001b[0m\u001b[0;34m[\u001b[0m\u001b[0mi\u001b[0m\u001b[0;34m]\u001b[0m\u001b[0;34m==\u001b[0m\u001b[0;34m'PFLX_PLAW'\u001b[0m\u001b[0;34m:\u001b[0m\u001b[0;34m\u001b[0m\u001b[0m\n\u001b[0m\u001b[1;32m     16\u001b[0m             \u001b[0msimgbmcr\u001b[0m\u001b[0;34m[\u001b[0m\u001b[0mi\u001b[0m\u001b[0;34m]\u001b[0m\u001b[0;34m=\u001b[0m\u001b[0mnp\u001b[0m\u001b[0;34m.\u001b[0m\u001b[0mtrapz\u001b[0m\u001b[0;34m(\u001b[0m\u001b[0msimsample\u001b[0m\u001b[0;34m[\u001b[0m\u001b[0;34m'PFLX_PLAW_AMPL'\u001b[0m\u001b[0;34m]\u001b[0m\u001b[0;34m[\u001b[0m\u001b[0ms\u001b[0m\u001b[0;34m[\u001b[0m\u001b[0mi\u001b[0m\u001b[0;34m]\u001b[0m\u001b[0;34m]\u001b[0m\u001b[0;34m*\u001b[0m\u001b[0mgrb_catalogs_copy\u001b[0m\u001b[0;34m.\u001b[0m\u001b[0mpl\u001b[0m\u001b[0;34m(\u001b[0m\u001b[0moutE\u001b[0m\u001b[0;34m,\u001b[0m\u001b[0msimsample\u001b[0m\u001b[0;34m[\u001b[0m\u001b[0;34m'PFLX_PLAW_INDEX'\u001b[0m\u001b[0;34m]\u001b[0m\u001b[0;34m[\u001b[0m\u001b[0ms\u001b[0m\u001b[0;34m[\u001b[0m\u001b[0mi\u001b[0m\u001b[0;34m]\u001b[0m\u001b[0;34m]\u001b[0m\u001b[0;34m)\u001b[0m\u001b[0;34m*\u001b[0m\u001b[0mAeffGBM\u001b[0m\u001b[0;34m,\u001b[0m\u001b[0moutE\u001b[0m\u001b[0;34m)\u001b[0m\u001b[0;34m\u001b[0m\u001b[0m\n\u001b[1;32m     17\u001b[0m             \u001b[0msimpf\u001b[0m\u001b[0;34m[\u001b[0m\u001b[0mi\u001b[0m\u001b[0;34m]\u001b[0m\u001b[0;34m=\u001b[0m\u001b[0mnp\u001b[0m\u001b[0;34m.\u001b[0m\u001b[0mtrapz\u001b[0m\u001b[0;34m(\u001b[0m\u001b[0msimsample\u001b[0m\u001b[0;34m[\u001b[0m\u001b[0;34m'PFLX_PLAW_AMPL'\u001b[0m\u001b[0;34m]\u001b[0m\u001b[0;34m[\u001b[0m\u001b[0ms\u001b[0m\u001b[0;34m[\u001b[0m\u001b[0mi\u001b[0m\u001b[0;34m]\u001b[0m\u001b[0;34m]\u001b[0m\u001b[0;34m*\u001b[0m\u001b[0mgrb_catalogs_copy\u001b[0m\u001b[0;34m.\u001b[0m\u001b[0mpl\u001b[0m\u001b[0;34m(\u001b[0m\u001b[0moutE\u001b[0m\u001b[0;34m,\u001b[0m\u001b[0msimsample\u001b[0m\u001b[0;34m[\u001b[0m\u001b[0;34m'PFLX_PLAW_INDEX'\u001b[0m\u001b[0;34m]\u001b[0m\u001b[0;34m[\u001b[0m\u001b[0ms\u001b[0m\u001b[0;34m[\u001b[0m\u001b[0mi\u001b[0m\u001b[0;34m]\u001b[0m\u001b[0;34m]\u001b[0m\u001b[0;34m)\u001b[0m\u001b[0;34m,\u001b[0m\u001b[0moutE\u001b[0m\u001b[0;34m)\u001b[0m\u001b[0;34m\u001b[0m\u001b[0m\n",
      "\u001b[0;32m~/anaconda3/lib/python3.6/site-packages/numpy/core/defchararray.py\u001b[0m in \u001b[0;36m__getitem__\u001b[0;34m(self, obj)\u001b[0m\n\u001b[1;32m   1850\u001b[0m \u001b[0;34m\u001b[0m\u001b[0m\n\u001b[1;32m   1851\u001b[0m     \u001b[0;32mdef\u001b[0m \u001b[0m__getitem__\u001b[0m\u001b[0;34m(\u001b[0m\u001b[0mself\u001b[0m\u001b[0;34m,\u001b[0m \u001b[0mobj\u001b[0m\u001b[0;34m)\u001b[0m\u001b[0;34m:\u001b[0m\u001b[0;34m\u001b[0m\u001b[0m\n\u001b[0;32m-> 1852\u001b[0;31m         \u001b[0mval\u001b[0m \u001b[0;34m=\u001b[0m \u001b[0mndarray\u001b[0m\u001b[0;34m.\u001b[0m\u001b[0m__getitem__\u001b[0m\u001b[0;34m(\u001b[0m\u001b[0mself\u001b[0m\u001b[0;34m,\u001b[0m \u001b[0mobj\u001b[0m\u001b[0;34m)\u001b[0m\u001b[0;34m\u001b[0m\u001b[0m\n\u001b[0m\u001b[1;32m   1853\u001b[0m \u001b[0;34m\u001b[0m\u001b[0m\n\u001b[1;32m   1854\u001b[0m         \u001b[0;32mif\u001b[0m \u001b[0misinstance\u001b[0m\u001b[0;34m(\u001b[0m\u001b[0mval\u001b[0m\u001b[0;34m,\u001b[0m \u001b[0mcharacter\u001b[0m\u001b[0;34m)\u001b[0m\u001b[0;34m:\u001b[0m\u001b[0;34m\u001b[0m\u001b[0m\n",
      "\u001b[0;31mIndexError\u001b[0m: index 394 is out of bounds for axis 0 with size 394"
     ]
    }
   ],
   "source": [
    "#Finding the peak flux and count rate of our simulated sample.\n",
    "ms=simsample['PFLX_BEST_FITTING_MODEL'][s]\n",
    "#f=np.zeros([len(s),nsims]) # produces an array of zeros with the given shape and type\n",
    "simpf=np.zeros(len(s))\n",
    "simgbmcr=np.zeros(len(s))\n",
    "outE=np.logspace(np.log10(50),np.log10(300),100) # returns numbers spaced evenly on a log scale\n",
    "for i in range(len(s)):\n",
    "    #for j in range(nsims):\n",
    "        #E=np.array(eng[w[j]+1:w[j+1]+1])\n",
    "        #AeffBC=loginterpol(E,aeffs['aeff'][w[j]+1:w[j+1]+1],outE)\n",
    "        AeffGBM=loginterpol(aeff_gbm['energy'],aeff_gbm['aeff'],outE)#eng[w[j]+1:w[j+1]+1])\n",
    "        #Aratio=(AeffBC/AeffGBM)\n",
    "        # not sure what *grb_catalogs_copy.pl(outE,gbm['PFLX_PLAW_INDEX'][s[i]] is and why we need it. I think we only need the model photon flux times the aeffGBM and we want it integrated over the energy range provided in outE\n",
    "        # this should give us an array of the maximum observed photon flux for GBM\n",
    "        if ms[i]=='PFLX_PLAW':\n",
    "            simgbmcr[i]=np.trapz(simsample['PFLX_PLAW_AMPL'][s[i]]*grb_catalogs_copy.pl(outE,simsample['PFLX_PLAW_INDEX'][s[i]])*AeffGBM,outE)\n",
    "            simpf[i]=np.trapz(simsample['PFLX_PLAW_AMPL'][s[i]]*grb_catalogs_copy.pl(outE,simsample['PFLX_PLAW_INDEX'][s[i]]),outE)\n",
    "        if ms[i]=='PFLX_COMP':\n",
    "            simgbmcr[i]=np.trapz(simsample['PFLX_COMP_AMPL'][s[i]]*grb_catalogs_copy.comp(outE,simsample['PFLX_COMP_INDEX'][s[i]],simsample['PFLX_COMP_EPEAK'][s[i]])*AeffGBM,outE)\n",
    "            simpf[i]=np.trapz(simsample['PFLX_COMP_AMPL'][s[i]]*grb_catalogs_copy.comp(outE,simsample['PFLX_COMP_INDEX'][s[i]],simsample['PFLX_COMP_EPEAK'][s[i]]),outE)\n",
    "            #pf[i]=gbm['PFLX_COMP_PHTFLUX'][s[i]]\n",
    "        if ms[i]=='PFLX_BAND':\n",
    "            simgbmcr[i]=np.trapz(simsample['PFLX_BAND_AMPL'][s[i]]*grb_catalogs_copy.band(outE,simsample['PFLX_BAND_ALPHA'][s[i]],simsample['PFLX_BAND_EPEAK'][s[i]],simsample['PFLX_BAND_BETA'][s[i]])*AeffGBM,outE)\n",
    "            simpf[i]=np.trapz(simsample['PFLX_BAND_AMPL'][s[i]]*grb_catalogs_copy.band(outE,simsample['PFLX_BAND_ALPHA'][s[i]],simsample['PFLX_BAND_EPEAK'][s[i]],simsample['PFLX_BAND_BETA'][s[i]]),outE)\n",
    "            #pf[i]=gbm['PFLX_BAND_PHTFLUX'][s[i]]\n",
    "        if ms[i]=='PFLX_SBPL':\n",
    "            simgbmcr[i]=np.trapz(simsample['PFLX_SBPL_AMPL'][s[i]]*grb_catalogs_copy.sbpl(outE,simsample['PFLX_SBPL_INDX1'][s[i]],simsample['PFLX_SBPL_BRKEN'][s[i]],simsample['PFLX_SBPL_INDX2'][s[i]])*AeffGBM,outE)\n",
    "            simpf[i]=np.trapz(simsample['PFLX_SBPL_AMPL'][s[i]]*grb_catalogs_copy.sbpl(outE,simsample['PFLX_SBPL_INDX1'][s[i]],simsample['PFLX_SBPL_BRKEN'][s[i]],simsample['PFLX_SBPL_INDX2'][s[i]]),outE)\n",
    "            #pf[i]=gbm['PFLX_SBPL_PHTFLUX'][s[i]]\n",
    "\n",
    "simpf = np.array(simpf)\n",
    "simgbmcr = np.array(simgbmcr)\n",
    "#print(pf)\n",
    "sizepf =np.shape(simpf)\n",
    "print(sizepf)"
   ]
  },
  {
   "cell_type": "code",
   "execution_count": 10,
   "metadata": {},
   "outputs": [
    {
     "name": "stdout",
     "output_type": "stream",
     "text": [
      "(394,)\n"
     ]
    },
    {
     "data": {
      "image/png": "[encoded data removed]",
      "text/plain": [
       "<Figure size 1440x360 with 2 Axes>"
      ]
     },
     "metadata": {},
     "output_type": "display_data"
    },
    {
     "data": {
      "image/png": "[encoded data removed]",
      "text/plain": [
       "<Figure size 432x288 with 1 Axes>"
      ]
     },
     "metadata": {},
     "output_type": "display_data"
    }
   ],
   "source": [
    "#plot Batse[64] against pf to see if they are the same\n",
    "flux=gbm['FLUX_BATSE_64'][s]\n",
    "fluxshape=np.shape(flux)\n",
    "print(fluxshape)\n",
    "\n",
    "#Creating plot of peak flux versus counts for real and simulated GBM\n",
    "#print(np.log10(pf[w]))\n",
    "fig=plot.figure(figsize=(20,5))\n",
    "plot.subplot(1,2,1)\n",
    "plot.hist(pf,label='real GBM',bins=np.logspace(-1,4,40),color='orange')\n",
    "plot.hist(flux,label='flux batse',bins=np.logspace(-1,4,40),alpha=0.7,color='blue')\n",
    "plot.xscale('log')\n",
    "plot.legend()\n",
    "plot.subplot(1,2,2)\n",
    "#plot.hist(flux,label='All',bins=np.logspace(-1,2,40),color='green')\n",
    "#pf has been gathered from the GBM catalog\n",
    "plot.hist(pf,label='real GBM',bins=np.logspace(-1,4,40),color='orange')\n",
    "# this is the simulated GBM\n",
    "plot.hist(flux,label='flux batse',bins=np.logspace(-1,4,40),alpha=0.7,color='blue')\n",
    "#plot.hist(flux[w],label='BC',bins=np.logspace(-1,2,40),alpha=0.7,color='red')\n",
    "plot.xscale('log')\n",
    "plot.legend()\n",
    "\n",
    "plot.show()\n",
    "\n",
    "plot.plot(pf,flux, linestyle='None', marker='o')\n",
    "plot.xscale('log')\n",
    "plot.yscale('log')\n",
    "plot.plot([1e-1,1e3],[1e-1,1e3])\n",
    "plot.show()"
   ]
  },
  {
   "cell_type": "code",
   "execution_count": 11,
   "metadata": {},
   "outputs": [],
   "source": [
    "# we want to solve for the number of detected counts. We need to create two more arrays- 1 for exposure and the other for interval.\n",
    "#Interval is given in the GBM catalog however we need to know exposure. This should be found from the exposure map for each burst.\n",
    "#this all together will give us the number of source photons\n",
    "\n",
    "## setup GBM\n",
    "gbm_pointings = {'01': ('45:54:0','20:36:0'),\n",
    "            '02': ('45:6:0','45:18:0'),\n",
    "            '03': ('58:24:0','90:12:0'),\n",
    "            '04': ('314:54:0','45:12:0'),\n",
    "            '05': ('303:12:0','90:18:0'),\n",
    "            '06': ('3:24:0','89:48:0'),\n",
    "            '07': ('224:54:0','20:24:0'),\n",
    "            '08': ('224:36:0','46:12:0'),\n",
    "            '09': ('236:36:0','90:0:0'),\n",
    "            '10': ('135:12:0','45:36:0'),\n",
    "            '11': ('123:42:0','90:24:0'),\n",
    "            '12': ('183:42:0','90:18:0')}\n",
    "\n",
    "fermi = Spacecraft(gbm_pointings,window=0.1)\n",
    "\n",
    "res = 250\n",
    "rr,dd = np.meshgrid(np.linspace(0,360,res,endpoint=False),np.linspace(-90,90,res))\n",
    "exposure_positions = np.vstack([rr.ravel(),dd.ravel()])\n",
    "gbm_exposures = np.array([[ detector.exposure(position[0],position[1]) for position in exposure_positions.T] \n",
    "                      for detector in fermi.detectors])"
   ]
  },
  {
   "cell_type": "code",
   "execution_count": 12,
   "metadata": {},
   "outputs": [],
   "source": [
    "#using SkyCoord to convert coordinates to degrees and solve for distances.\n",
    "def separation(ra1,dec1,ra2,dec2):\n",
    "\n",
    "    c=SkyCoord(ra=ra1*u.deg,dec=dec1*u.deg)\n",
    "    d=SkyCoord(ra=ra2*u.deg,dec=dec2*u.deg)\n",
    "    dist=c.separation(d)\n",
    "    dist=dist.value\n",
    "\n",
    "    return dist"
   ]
  },
  {
   "cell_type": "code",
   "execution_count": 13,
   "metadata": {},
   "outputs": [],
   "source": [
    "# now that GBM's pointings are set up we will throw GRBs at it and determine it's exposure for each GRB. \n",
    "#generate GRBs and throw them at GBM\n",
    "\n",
    "def throw_grbs(fermi,minflux,maxflux):\n",
    "    \n",
    "    nsims=int(np.round(len(simgbmcr))) #why is nsims length of pf*2?\n",
    "    ra,dec=random_sky(nsims)\n",
    "    ra=np.array(ra)-180\n",
    "    dec=np.array(dec)\n",
    "    #sigma=0.65,mean=1.5\n",
    " \n",
    "    #change the sigma and mean in order to create a log fit for simulated GBM. Automate this fit.\n",
    "    #flux=np.random.lognormal(size=nsims,sigma=0.55,mean=0.6)*(np.log10(maxflux)-np.log10(minflux))+np.log10(minflux)\n",
    "\n",
    "    #GBM exposures for each random GRB. Believe this is an array with the different exposures for each detector\n",
    "    randgbmexposures = np.array([[detector.exposure(ra[i],dec[i]) for i in range(nsims)] for detector in fermi.detectors])\n",
    "    print(\"randgbmexposures=\", randgbmexposures)\n",
    "\n",
    "    #Order randgbmexposures into descending order\n",
    "    for column in randgbmexposures.T:\n",
    "        newrandgbm = -np.sort(-randgbmexposures.T) \n",
    "    gbmexposures = np.transpose(newrandgbm)\n",
    "    print(\"gbmexposures=\",gbmexposures)\n",
    "\n",
    "    #Select the second highest value. \n",
    "    #We will use this to ensure the second highest exposure detector has a sig >4.5\n",
    "    secondhighest = gbmexposures[1,:]\n",
    "    print(\"Second highest =\", secondhighest)\n",
    "\n",
    "        \n",
    "    return gbmexposures, secondhighest, randgbmexposures"
   ]
  },
  {
   "cell_type": "code",
   "execution_count": 14,
   "metadata": {},
   "outputs": [
    {
     "name": "stdout",
     "output_type": "stream",
     "text": [
      "[1.024 1.024 1.024 ... 1.024 1.024 1.024]\n",
      "(6352,)\n"
     ]
    }
   ],
   "source": [
    "#define the peak flux interval\n",
    "interval = simsample['PFLX_SPECTRUM_STOP']-simsample['PFLX_SPECTRUM_START']\n",
    "print(interval)\n",
    "#interval = gbm['PFLX_SPECTRUM_STOP'][s]-gbm['PFLX_SPECTRUM_START'][s]\n",
    "#print the interval of only the short bursts\n",
    "#print(interval[s])\n",
    "w=np.shape(interval)\n",
    "print(w)\n"
   ]
  },
  {
   "cell_type": "code",
   "execution_count": 15,
   "metadata": {},
   "outputs": [
    {
     "name": "stdout",
     "output_type": "stream",
     "text": [
      "randgbmexposures= [[0.0970838  0.         0.45854817 ... 0.         0.8988282  0.        ]\n",
      " [0.         0.         0.40064338 ... 0.         0.97774093 0.        ]\n",
      " [0.07376012 0.         0.62757451 ... 0.         0.81030922 0.        ]\n",
      " ...\n",
      " [0.90195658 0.         0.91267678 ... 0.         0.         0.        ]\n",
      " [0.91999472 0.         0.94463557 ... 0.         0.10670995 0.        ]\n",
      " [0.7561461  0.         0.25036343 ... 0.         0.         0.07661192]]\n",
      "gbmexposures= [[0.91999472 0.99236579 0.94463557 ... 0.         0.97774093 0.8414408 ]\n",
      " [0.90195658 0.92069391 0.91267678 ... 0.         0.8988282  0.8300274 ]\n",
      " [0.7561461  0.50195432 0.62757451 ... 0.         0.81030922 0.7154714 ]\n",
      " ...\n",
      " [0.         0.         0.         ... 0.         0.         0.        ]\n",
      " [0.         0.         0.         ... 0.         0.         0.        ]\n",
      " [0.         0.         0.         ... 0.         0.         0.        ]]\n",
      "Second highest = [0.90195658 0.92069391 0.91267678 0.88634197 0.82869186 0.\n",
      " 0.         0.         0.         0.85169713 0.61374358 0.86993586\n",
      " 0.80518931 0.74753011 0.         0.71814012 0.         0.\n",
      " 0.88748679 0.95968629 0.56831253 0.         0.         0.79652752\n",
      " 0.         0.         0.         0.         0.8841266  0.92761604\n",
      " 0.78494388 0.         0.         0.         0.88287482 0.\n",
      " 0.         0.81595221 0.93140722 0.88990611 0.86737939 0.78439355\n",
      " 0.91777622 0.         0.7511994  0.         0.         0.\n",
      " 0.         0.96293843 0.         0.9137245  0.95117495 0.88444691\n",
      " 0.75223851 0.95763398 0.82630355 0.         0.47120426 0.\n",
      " 0.81444261 0.78689515 0.84782729 0.82170535 0.77380645 0.\n",
      " 0.92359949 0.         0.74864603 0.         0.82359203 0.\n",
      " 0.82980811 0.         0.65098013 0.71457938 0.89126444 0.71463602\n",
      " 0.93892299 0.         0.         0.90797206 0.         0.83840881\n",
      " 0.         0.         0.         0.         0.94174995 0.73059691\n",
      " 0.         0.8903909  0.         0.87124765 0.         0.98610038\n",
      " 0.60023461 0.79147285 0.80867362 0.93405897 0.         0.83590539\n",
      " 0.         0.9389025  0.93958329 0.         0.95390035 0.85121664\n",
      " 0.5535328  0.         0.91712002 0.6840586  0.         0.89002356\n",
      " 0.         0.         0.62347304 0.         0.         0.\n",
      " 0.96632038 0.79062637 0.86207683 0.         0.76951041 0.81434804\n",
      " 0.         0.93936124 0.89325206 0.75719771 0.87153825 0.85924795\n",
      " 0.         0.81525307 0.         0.76894077 0.82546865 0.91807787\n",
      " 0.78245682 0.83880055 0.         0.81828282 0.82568179 0.9284678\n",
      " 0.         0.         0.         0.76198541 0.92961397 0.80355942\n",
      " 0.83866813 0.         0.84629514 0.88382155 0.62355432 0.\n",
      " 0.         0.         0.58797883 0.         0.92945905 0.\n",
      " 0.         0.81114952 0.61817233 0.         0.86650422 0.\n",
      " 0.         0.78853637 0.91213931 0.         0.78428998 0.\n",
      " 0.93030598 0.94593664 0.         0.77190178 0.86609062 0.89934613\n",
      " 0.         0.82836513 0.86035768 0.81387853 0.         0.\n",
      " 0.95546297 0.61993219 0.         0.69613299 0.55135555 0.83003259\n",
      " 0.93891741 0.71321844 0.71496716 0.6811484  0.         0.6542336\n",
      " 0.         0.         0.80632126 0.88416992 0.81488872 0.\n",
      " 0.80741012 0.         0.         0.81780831 0.         0.82496618\n",
      " 0.         0.76851505 0.         0.78344531 0.         0.\n",
      " 0.90907248 0.         0.         0.83926092 0.8059131  0.\n",
      " 0.70708378 0.         0.83285062 0.84415517 0.88526455 0.\n",
      " 0.         0.         0.77237796 0.         0.77925433 0.8785247\n",
      " 0.         0.91506635 0.         0.         0.87807378 0.89079487\n",
      " 0.80896999 0.53573814 0.73582129 0.67303305 0.81765861 0.94057959\n",
      " 0.78014757 0.71269697 0.         0.         0.         0.\n",
      " 0.93205254 0.         0.         0.96009971 0.92105011 0.83478086\n",
      " 0.         0.         0.         0.8072184  0.76043918 0.81862468\n",
      " 0.8702057  0.         0.         0.         0.98154554 0.\n",
      " 0.         0.         0.         0.66853056 0.         0.90494462\n",
      " 0.85683568 0.80742261 0.61500393 0.         0.         0.\n",
      " 0.8707527  0.         0.81562964 0.         0.91442717 0.\n",
      " 0.89861283 0.         0.90385326 0.         0.63896338 0.80736396\n",
      " 0.         0.         0.         0.         0.5920055  0.69558917\n",
      " 0.87995489 0.79940478 0.82867956 0.85083434 0.86925287 0.91272278\n",
      " 0.         0.9302067  0.81183546 0.91851841 0.         0.\n",
      " 0.93764069 0.         0.85524025 0.87409302 0.92595564 0.77094769\n",
      " 0.62190682 0.64098593 0.82144648 0.         0.83582313 0.84611874\n",
      " 0.         0.         0.         0.8649167  0.76272857 0.\n",
      " 0.81175765 0.         0.82756508 0.         0.79649391 0.\n",
      " 0.94309344 0.84929422 0.86285952 0.75975166 0.75157562 0.\n",
      " 0.         0.         0.93128236 0.         0.86806925 0.\n",
      " 0.8531375  0.         0.79374769 0.         0.89098414 0.91996895\n",
      " 0.87836951 0.         0.84292302 0.65640992 0.         0.83390603\n",
      " 0.         0.84292678 0.         0.88634081 0.         0.8678732\n",
      " 0.79654441 0.         0.77398361 0.         0.         0.57354406\n",
      " 0.85457355 0.93724025 0.83067413 0.86719289 0.         0.83859145\n",
      " 0.87373057 0.75731676 0.         0.93430713 0.         0.91700015\n",
      " 0.7477207  0.86392338 0.8629409  0.85638015 0.         0.82071383\n",
      " 0.8464776  0.         0.8988282  0.8300274 ]\n",
      "(394,)\n"
     ]
    }
   ],
   "source": [
    "#flux=simpf this is in ph/sec\n",
    "flux=simpf\n",
    "minflux=min(flux)\n",
    "maxflux=max(flux)\n",
    "gbmexposures, secondhighest, randgbmexposures = throw_grbs(fermi,minflux,maxflux)\n",
    "\n",
    "sechighestsize=np.shape(secondhighest)\n",
    "print(sechighestsize)\n",
    "#execute function defined above\n",
    "#throw_grbs(fermi,minflux,maxflux,pf)"
   ]
  },
  {
   "cell_type": "code",
   "execution_count": 16,
   "metadata": {},
   "outputs": [
    {
     "name": "stdout",
     "output_type": "stream",
     "text": [
      "(394,)\n",
      "(394,)\n",
      "(394,)\n"
     ]
    }
   ],
   "source": [
    "#Solve for the number of detected counts which will equal our source photons\n",
    "#Should this really be multiplied by pf or should it be multiplied by flux? pf is calculated from GBM catalog#\n",
    "source = simpf*secondhighest*interval[s]\n",
    "q=np.shape(simpf)\n",
    "print(q)\n",
    "y=np.shape(secondhighest)\n",
    "print(y)\n",
    "x=np.shape(interval[s])\n",
    "print(x)"
   ]
  },
  {
   "cell_type": "code",
   "execution_count": 17,
   "metadata": {},
   "outputs": [
    {
     "name": "stdout",
     "output_type": "stream",
     "text": [
      "[ 923.60353314  942.79056021  934.58102027  907.61417762  848.58046098\n",
      "    0.            0.            0.            0.           54.50861602\n",
      "  628.47342852   55.67589517  824.51384915  765.47083692    0.\n",
      "  735.37548221    0.            0.           56.79915475  982.71875931\n",
      "   36.37200214    0.            0.           50.97776138    0.\n",
      "    0.            0.            0.          905.34563345  949.87882701\n",
      "  803.78253054    0.            0.            0.          904.06381491\n",
      "    0.            0.          835.53505875  953.76099388  911.26385171\n",
      "  888.19649522  803.21899465  939.80284844    0.          769.22818518\n",
      "    0.            0.            0.            0.          986.04895175\n",
      "    0.          935.6538904   974.0031476   905.67363247  770.29223916\n",
      "   61.28857462  846.13483569    0.          482.51316095    0.\n",
      "  833.98923262  805.78063448  868.17514048  841.42627594  792.37780362\n",
      "    0.          945.76587613    0.          766.61353161    0.\n",
      "  843.35823519    0.          849.72350689    0.          666.60365202\n",
      "  731.72928996  912.65479052  731.78728145 3845.82856357    0.\n",
      "    0.          929.76339111    0.          858.53062132    0.\n",
      "    0.            0.            0.          964.35194804  748.13123732\n",
      "    0.         1478.04888977    0.           55.75984951    0.\n",
      " 1009.76678749  614.64024522  810.46820171  828.08178224  956.47638656\n",
      "    0.           53.49794471    0.            0.          962.13328398\n",
      "    0.          976.79395888  871.64584096  566.8175842     0.\n",
      "   58.69568111    0.            0.            0.            0.\n",
      "    0.          638.43639348    0.            0.            0.\n",
      "  989.51206436  809.60139864  882.76667476    0.          787.97866294\n",
      "  833.89239243    0.          961.90590754  914.69010815  775.37045707\n",
      "  892.45517045  879.86990513    0.          834.81914546    0.\n",
      "  787.39535055  845.27989473    0.          801.23578199  858.93176626\n",
      "    0.          837.92161218  845.4981576   950.75102359    0.\n",
      "    0.            0.          780.27305626   59.49529403  822.84485106\n",
      "  858.79616345    0.          866.60622153  905.03326971  638.51962869\n",
      "    0.            0.            0.           37.6306449     0.\n",
      "  951.7660626     0.            0.          843.59550214  633.00846316\n",
      "    0.          887.30032109    0.            0.            0.\n",
      "  934.03065126    0.          803.11294297    0.          952.63332815\n",
      "  968.63912197    0.          790.4274261   886.87679819  920.93043452\n",
      "    0.          848.24588949  886.16841306  833.41161175    0.\n",
      "    0.          978.39407742  634.81056722    0.          712.84017737\n",
      "  562.38266599   53.122086    961.45143172  730.3356798   732.12636861\n",
      "  697.49595998    0.           41.87095066    0.            0.\n",
      "  825.6729656   905.39000116  834.44604669    0.          826.78796131\n",
      "    0.            0.          837.43571256    0.          844.76537329\n",
      "    0.          786.95940761    0.          802.2479972     0.\n",
      "    0.          930.89021876    0.            0.          859.40317729\n",
      "   51.57843818    0.            0.            0.          852.83903766\n",
      "  864.41489049  906.51090287    0.            0.            0.\n",
      "  790.91502988    0.          797.95643568  899.60928958    0.\n",
      "  937.02794132    0.            0.          899.14755124  912.17394437\n",
      "    0.          548.59585263    0.          689.1858409   837.28241663\n",
      "  963.15350421   49.9294445     0.            0.            0.\n",
      "    0.            0.          960.01412105    0.            0.\n",
      " 1226.04732668  943.1553119   854.81559577    0.            0.\n",
      "    0.            0.          778.68971539  838.2716767   891.09064173\n",
      "    0.            0.            0.         1005.10263571    0.\n",
      "    0.            0.            0.          684.57528972    0.\n",
      "  926.66329224  877.39973428  826.80075276    0.            0.\n",
      "    0.            0.          891.65076115    0.          835.20475534\n",
      "    0.          936.37342258    0.            0.            0.\n",
      "  925.54573997    0.          654.29849957    0.            0.\n",
      "    0.            0.            0.          606.21362873  712.2833111\n",
      "    0.          818.59049522  848.56787033 3485.01746938    0.\n",
      "  934.62813109    0.          952.53166057  831.31951094  940.56285354\n",
      "    0.            0.          960.14406595    0.          875.76601096\n",
      "  895.07125204  948.17857366  789.45043656  636.83258213  656.36959378\n",
      "  841.1612        0.          855.88288945    0.            0.\n",
      "    0.            0.          885.67470401  781.03405477    0.\n",
      "  831.23983162    0.           52.96416495    0.          815.60976654\n",
      "    0.            0.          869.67728198  883.56814751   48.62410619\n",
      "  769.61343765    0.            0.            0.          953.63313931\n",
      "    0.          888.90290705    0.          873.61280204    0.\n",
      "  812.7976363     0.           57.02298524  942.04820496  899.45037684\n",
      "    0.           53.94707313  672.16375864    0.          853.91977471\n",
      "    0.           53.94731397    0.         1250.62688151    0.\n",
      "  888.70215321   50.97884227    0.          792.55922018    0.\n",
      "    0.          587.30911847   54.69270732    0.            0.\n",
      "  888.00551669    0.          858.71764114  894.70010651  775.49236544\n",
      "    0.          956.73050196    0.            0.          765.6660009\n",
      "  884.65753632   55.2282176   876.93327829    0.           52.52568488\n",
      "  866.7930598     0.          920.40007351  849.94805617]\n"
     ]
    }
   ],
   "source": [
    "#Assuming a background count rate. units: cts/s\n",
    "bckgrd= 1000\n",
    "#scale the background count rate \n",
    "scaledbckgrd = bckgrd*secondhighest*interval[s]\n",
    "print(scaledbckgrd)"
   ]
  },
  {
   "cell_type": "code",
   "execution_count": 18,
   "metadata": {},
   "outputs": [
    {
     "name": "stdout",
     "output_type": "stream",
     "text": [
      "[0. 0. 0. 0. 0. 0. 0. 0. 0. 0. 0. 0. 0. 0. 0. 0. 0. 0. 0. 0. 0. 0. 0. 0.\n",
      " 0. 0. 0. 0. 0. 0. 0. 0. 0. 0. 0. 0. 0. 0. 0. 0. 0. 0. 0. 0. 0. 0. 0. 0.\n",
      " 0. 0. 0. 0. 0. 0. 0. 0. 0. 0. 0. 0. 0. 0. 0. 0. 0. 0. 0. 0. 0. 0. 0. 0.\n",
      " 0. 0. 0. 0. 0. 0. 0. 0. 0. 0. 0. 0. 0. 0. 0. 0. 0. 0. 0. 0. 0. 0. 0. 0.\n",
      " 0. 0. 0. 0. 0. 0. 0. 0. 0. 0. 0. 0. 0. 0. 0. 0. 0. 0. 0. 0. 0. 0. 0. 0.\n",
      " 0. 0. 0. 0. 0. 0. 0. 0. 0. 0. 0. 0. 0. 0. 0. 0. 0. 0. 0. 0. 0. 0. 0. 0.\n",
      " 0. 0. 0. 0. 0. 0. 0. 0. 0. 0. 0. 0. 0. 0. 0. 0. 0. 0. 0. 0. 0. 0. 0. 0.\n",
      " 0. 0. 0. 0. 0. 0. 0. 0. 0. 0. 0. 0. 0. 0. 0. 0. 0. 0. 0. 0. 0. 0. 0. 0.\n",
      " 0. 0. 0. 0. 0. 0. 0. 0. 0. 0. 0. 0. 0. 0. 0. 0. 0. 0. 0. 0. 0. 0. 0. 0.\n",
      " 0. 0. 0. 0. 0. 0. 0. 0. 0. 0. 0. 0. 0. 0. 0. 0. 0. 0. 0. 0. 0. 0. 0. 0.\n",
      " 0. 0. 0. 0. 0. 0. 0. 0. 0. 0. 0. 0. 0. 0. 0. 0. 0. 0. 0. 0. 0. 0. 0. 0.\n",
      " 0. 0. 0. 0. 0. 0. 0. 0. 0. 0. 0. 0. 0. 0. 0. 0. 0. 0. 0. 0. 0. 0. 0. 0.\n",
      " 0. 0. 0. 0. 0. 0. 0. 0. 0. 0. 0. 0. 0. 0. 0. 0. 0. 0. 0. 0. 0. 0. 0. 0.\n",
      " 0. 0. 0. 0. 0. 0. 0. 0. 0. 0. 0. 0. 0. 0. 0. 0. 0. 0. 0. 0. 0. 0. 0. 0.\n",
      " 0. 0. 0. 0. 0. 0. 0. 0. 0. 0. 0. 0. 0. 0. 0. 0. 0. 0. 0. 0. 0. 0. 0. 0.\n",
      " 0. 0. 0. 0. 0. 0. 0. 0. 0. 0. 0. 0. 0. 0. 0. 0. 0. 0. 0. 0. 0. 0. 0. 0.\n",
      " 0. 0. 0. 0. 0. 0. 0. 0. 0. 0.]\n"
     ]
    },
    {
     "name": "stderr",
     "output_type": "stream",
     "text": [
      "/home/alyson/anaconda3/lib/python3.6/site-packages/ipykernel_launcher.py:5: RuntimeWarning: invalid value encountered in double_scalars\n",
      "  \"\"\"\n"
     ]
    }
   ],
   "source": [
    "#calculate the significance of the second highest exposure detector. If the significance is greater than 4.5 sigma than the burst is detectable.\n",
    "#creating an array of zeros that I can \n",
    "detect = np.zeros(len(secondhighest))\n",
    "for i in range(len(secondhighest)):\n",
    "    sig = source[i] / (math.sqrt(source[i] + scaledbckgrd[i]))\n",
    "    if sig > 4.5:\n",
    "        detect[i] = 1.0\n",
    "    else:\n",
    "        detect[i] = 0.0\n",
    "\n",
    "print(detect)"
   ]
  },
  {
   "cell_type": "code",
   "execution_count": 19,
   "metadata": {},
   "outputs": [
    {
     "data": {
      "image/png": "[encoded data removed]",
      "text/plain": [
       "<Figure size 1440x360 with 2 Axes>"
      ]
     },
     "metadata": {},
     "output_type": "display_data"
    }
   ],
   "source": [
    "#Creating plot of peak flux versus counts for real and simulated GBM\n",
    "w=np.where(pf>0)[0]\n",
    "wg = np.where(simgbmcr*detect>0)[0]\n",
    "#print(np.log10(pf[w]))\n",
    "fig=plot.figure(figsize=(20,5))\n",
    "plot.subplot(1,2,1)\n",
    "plot.hist(gbmcr[w],label='real GBM',bins=np.logspace(1,4,40),color='orange')\n",
    "plot.hist(simgbmcr[wg],label='Simulated GBM',bins=np.logspace(1,4,40),alpha=0.7,color='blue')\n",
    "plot.xscale('log')\n",
    "plot.legend()\n",
    "plot.subplot(1,2,2)\n",
    "#plot.hist(flux,label='All',bins=np.logspace(-1,2,40),color='green')\n",
    "#pf has been gathered from the GBM catalog\n",
    "plot.hist(gbmcr[w],label='real GBM',bins=np.logspace(1,4,40),color='orange')\n",
    "# this is the simulated GBM\n",
    "plot.hist(simgbmcr[wg],label='GBM',bins=np.logspace(1,4,40),alpha=0.7,color='blue')\n",
    "#plot.hist(flux[w],label='BC',bins=np.logspace(-1,2,40),alpha=0.7,color='red')\n",
    "plot.xscale('log')\n",
    "plot.legend()\n",
    "\n",
    "plot.show()\n",
    "        "
   ]
  },
  {
   "cell_type": "code",
   "execution_count": null,
   "metadata": {},
   "outputs": [],
   "source": []
  },
  {
   "cell_type": "code",
   "execution_count": null,
   "metadata": {},
   "outputs": [],
   "source": []
  }
 ],
 "metadata": {
  "kernelspec": {
   "display_name": "Python 3",
   "language": "python",
   "name": "python3"
  },
  "language_info": {
   "codemirror_mode": {
    "name": "ipython",
    "version": 3
   },
   "file_extension": ".py",
   "mimetype": "text/x-python",
   "name": "python",
   "nbconvert_exporter": "python",
   "pygments_lexer": "ipython3",
   "version": "3.6.5"
  }
 },
 "nbformat": 4,
 "nbformat_minor": 2
}
