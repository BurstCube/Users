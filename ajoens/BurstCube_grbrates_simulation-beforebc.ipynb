{
 "cells": [
  {
   "cell_type": "code",
   "execution_count": 1,
   "metadata": {},
   "outputs": [],
   "source": [
    "import numpy as np\n",
    "import matplotlib.pylab as plot\n",
    "from astropy.io import ascii,fits\n",
    "from scipy import interpolate\n",
    "import grb_catalogs_copy\n",
    "from BurstCube.LocSim.Detector import *\n",
    "from BurstCube.LocSim.Spacecraft import *\n",
    "from astropy.coordinates import SkyCoord\n",
    "from astropy import units as u\n",
    "from scipy.optimize import curve_fit\n",
    "import math\n",
    "from astropy.table import Table\n",
    "import pandas as pd"
   ]
  },
  {
   "cell_type": "code",
   "execution_count": 2,
   "metadata": {},
   "outputs": [],
   "source": [
    "## code to use when reading in GBM effective area in order to get data into the desired format\n",
    "def getGBMdata(gbmfile=None):\n",
    "    \"\"\"Reads the GBM NaI effective area file and returns a numpy array\n",
    "    with two columns ``energy`` and ``aeff``.\n",
    "    Parameters\n",
    "    ----------\n",
    "    gbmfile : string\n",
    "       Name of file that contains the GBM data.\n",
    "    Returns\n",
    "    ----------\n",
    "    gbmdata : array \n",
    "    numpy array with two columns ``energy`` and ``aeff``\n",
    "    \"\"\"\n",
    "    \n",
    "    return np.genfromtxt(gbmfile,skip_header=2,names=('energy', 'aeff'))\n"
   ]
  },
  {
   "cell_type": "code",
   "execution_count": 3,
   "metadata": {},
   "outputs": [],
   "source": [
    "## bit of useful code for interpolating in log space\n",
    "def loginterpol(x,y,x1):\n",
    "\n",
    "    f=interpolate.interp1d(np.log10(x),np.log10(y),bounds_error=False,fill_value=\"extrapolate\",kind='linear')\n",
    "    y1=10**f(np.log10(x1))\n",
    "\n",
    "    return y1\n",
    "\n",
    "def loginterpol2d(x,y,z,x1,y1):\n",
    "\n",
    "    wz=np.where(z==0)[0]\n",
    "    zz=z\n",
    "    zz[wz]=1.\n",
    "    f=interpolate.interp2d(x,y,np.log10(zz),bounds_error=False,fill_value=\"extrapolate\",kind='linear')\n",
    "    z1=10**f(x1,y1)"
   ]
  },
  {
   "cell_type": "code",
   "execution_count": 4,
   "metadata": {
    "scrolled": true
   },
   "outputs": [],
   "source": [
    "#read in GBM Trigger Catalog\n",
    "trigfit=fits.open('gbmtrigcat.fits')\n",
    "trig=trigfit[1].data\n",
    "\n",
    "#read in GBM Burst Catalog\n",
    "gbmfit=fits.open('gbmgrbcat_copy.fits')\n",
    "gbm=gbmfit[1].data\n",
    "\n",
    "\n"
   ]
  },
  {
   "cell_type": "code",
   "execution_count": 5,
   "metadata": {},
   "outputs": [],
   "source": [
    "## generate random positions on the sky with equal area probability\n",
    "def random_sky(n=1):\n",
    "\n",
    "    u=np.random.rand(n)\n",
    "    v=np.random.rand(n)\n",
    "\n",
    "    phi=2*np.pi*u\n",
    "    theta=np.arccos(2*v-1.)\n",
    "\n",
    "    dec=-np.degrees(theta-np.pi/2.)\n",
    "    ra=np.degrees(np.pi*2-phi)\n",
    "\n",
    "    return ra,dec"
   ]
  },
  {
   "cell_type": "code",
   "execution_count": 6,
   "metadata": {},
   "outputs": [],
   "source": [
    "#function to match GRBs in the Trigger catalog to those in the grb catalog so that we can create an array of the arrays in both\n",
    "#we will ultimately use this to compare the timescales of the trigger timescale and the peak flux interval\n",
    "\n",
    "def match_catalogs_name(name1,name2):\n",
    "\n",
    "    ind_dict = dict((q,e) for e,q in enumerate(name1))\n",
    "    inter = set(ind_dict).intersection(name2)\n",
    "    m1 = [ind_dict[element] for element in inter]\n",
    "    print(np.shape(m1))\n",
    "    \n",
    "    ind_dict = dict((q,e) for e,q in enumerate(name2))\n",
    "    inter = set(ind_dict).intersection(name1)\n",
    "    m2 = [ind_dict[element] for element in inter]\n",
    "    print(np.shape(m2))\n",
    "    \n",
    "    return m1,m2\n"
   ]
  },
  {
   "cell_type": "code",
   "execution_count": 7,
   "metadata": {},
   "outputs": [
    {
     "name": "stdout",
     "output_type": "stream",
     "text": [
      "(2352,)\n",
      "(2352,)\n",
      "['GRB120920003' 'GRB160503567' 'GRB121220311' ... 'GRB120716712'\n",
      " 'GRB170726794' 'GRB150622393']\n",
      "['GRB120920003' 'GRB160503567' 'GRB121220311' ... 'GRB120716712'\n",
      " 'GRB170726794' 'GRB150622393']\n"
     ]
    }
   ],
   "source": [
    "#ordering the trig and gbm catalog so that they are in the same order\n",
    "so=np.argsort(np.array(trig['NAME']))\n",
    "trig=trig[so]\n",
    "so=np.argsort(np.array(gbm['NAME']))\n",
    "gbm=gbm[so]\n",
    "\n",
    "#creating array of grbs\n",
    "m1, m2 = match_catalogs_name(trig['NAME'],gbm['NAME'])\n",
    "\n",
    "#defining our two samples of bursts that are found in both catalogs so that we can utilize them further down\n",
    "trigbursts = trig[m1]\n",
    "gbmbursts = gbm[m2]\n",
    "\n",
    "print(trigbursts['NAME'])\n",
    "print(gbmbursts['NAME'])"
   ]
  },
  {
   "cell_type": "code",
   "execution_count": 8,
   "metadata": {},
   "outputs": [],
   "source": [
    "## read in the GBM Aeff\n",
    "aeff_gbm = getGBMdata('/home/alyson/NASA/Simulation/BurstCube/Users/ajoens/gbm_effective_area.dat')"
   ]
  },
  {
   "cell_type": "code",
   "execution_count": 9,
   "metadata": {},
   "outputs": [],
   "source": [
    "## separate GBM short & long GRBs\n",
    "w=np.where(gbmbursts['FLUX_1024']>0)\n",
    "gbmbursts=gbmbursts[w]\n",
    "s=np.where((gbmbursts['T90'] <= 2.)&((gbmbursts['PFLX_SPECTRUM_STOP']-gbmbursts['PFLX_SPECTRUM_START'])>0))[0]\n",
    "l=np.where(gbmbursts['T90'] > 2.)[0]\n",
    "m=np.where(gbmbursts['PFLX_BEST_FITTING_MODEL'][s] == ' ')\n",
    "\n"
   ]
  },
  {
   "cell_type": "code",
   "execution_count": 10,
   "metadata": {},
   "outputs": [],
   "source": [
    "#This code works just for GBM. Commenting it out so I can go back to it in case I mess up doing it for BurstCube\n",
    "\n",
    "\n",
    "# #Integrating the best fit spectrum for each GRB in the energy range of 50-300 KeV to get max. observed photon flux. \n",
    "# #This will give us the photon flux in units of ph/cm^2/s. Currently only doing this for GBM and will then add in BurstCube\n",
    "mo=gbmbursts['PFLX_BEST_FITTING_MODEL'][s]\n",
    "# #f=np.zeros([len(s),nsims]) # produces an array of zeros with the given shape and type\n",
    "pf=np.zeros(len(s))\n",
    "gbmcr=np.zeros(len(s))\n",
    "outE=np.logspace(np.log10(50),np.log10(300),100) # returns numbers spaced evenly on a log scale\n",
    "for i in range(len(s)):\n",
    "#     #for j in range(nsims):\n",
    "#         #E=np.array(eng[w[j]+1:w[j+1]+1])\n",
    "#         #AeffBC=loginterpol(E,aeffs['aeff'][w[j]+1:w[j+1]+1],outE)\n",
    "         AeffGBM=loginterpol(aeff_gbm['energy'],aeff_gbm['aeff'],outE) #eng[w[j]+1:w[j+1]+1])\n",
    "        \n",
    "#         #Aratio=(AeffBC/AeffGBM)\n",
    "#         # not sure what *grb_catalogs_copy.pl(outE,gbm['PFLX_PLAW_INDEX'][s[i]] is and why we need it. I think we only need the model photon flux times the aeffGBM and we want it integrated over the energy range provided in outE\n",
    "#         # this should give us an array of the maximum observed photon flux for GBM\n",
    "         if mo[i]=='PFLX_PLAW':\n",
    "             gbmcr[i]=np.trapz(gbmbursts['PFLX_PLAW_AMPL'][s[i]]*grb_catalogs_copy.pl(outE,gbmbursts['PFLX_PLAW_INDEX'][s[i]])*AeffGBM,outE)\n",
    "             pf[i]=np.trapz(gbmbursts['PFLX_PLAW_AMPL'][s[i]]*grb_catalogs_copy.pl(outE,gbmbursts['PFLX_PLAW_INDEX'][s[i]]),outE)\n",
    "#             #pf[i]=gbm['PFLX_PLAW_PHTFLUX'][s[i]]\n",
    "         if mo[i]=='PFLX_COMP':\n",
    "             gbmcr[i]=np.trapz(gbmbursts['PFLX_COMP_AMPL'][s[i]]*grb_catalogs_copy.comp(outE,gbmbursts['PFLX_COMP_INDEX'][s[i]],gbmbursts['PFLX_COMP_EPEAK'][s[i]])*AeffGBM,outE)\n",
    "             pf[i]=np.trapz(gbmbursts['PFLX_COMP_AMPL'][s[i]]*grb_catalogs_copy.comp(outE,gbmbursts['PFLX_COMP_INDEX'][s[i]],gbmbursts['PFLX_COMP_EPEAK'][s[i]]),outE)\n",
    "#             #pf[i]=gbm['PFLX_COMP_PHTFLUX'][s[i]]\n",
    "         if mo[i]=='PFLX_BAND':\n",
    "             gbmcr[i]=np.trapz(gbmbursts['PFLX_BAND_AMPL'][s[i]]*grb_catalogs_copy.band(outE,gbmbursts['PFLX_BAND_ALPHA'][s[i]],gbmbursts['PFLX_BAND_EPEAK'][s[i]],gbmbursts['PFLX_BAND_BETA'][s[i]])*AeffGBM,outE)\n",
    "             pf[i]=np.trapz(gbmbursts['PFLX_BAND_AMPL'][s[i]]*grb_catalogs_copy.band(outE,gbmbursts['PFLX_BAND_ALPHA'][s[i]],gbmbursts['PFLX_BAND_EPEAK'][s[i]],gbmbursts['PFLX_BAND_BETA'][s[i]]),outE)\n",
    "#             #pf[i]=gbm['PFLX_BAND_PHTFLUX'][s[i]]\n",
    "         if mo[i]=='PFLX_SBPL':\n",
    "             gbmcr[i]=np.trapz(gbmbursts['PFLX_SBPL_AMPL'][s[i]]*grb_catalogs_copy.sbpl(outE,gbmbursts['PFLX_SBPL_INDX1'][s[i]],gbmbursts['PFLX_SBPL_BRKEN'][s[i]],gbm['PFLX_SBPL_INDX2'][s[i]])*AeffGBM,outE)\n",
    "             pf[i]=np.trapz(gbmbursts['PFLX_SBPL_AMPL'][s[i]]*grb_catalogs_copy.sbpl(outE,gbmbursts['PFLX_SBPL_INDX1'][s[i]],gbmbursts['PFLX_SBPL_BRKEN'][s[i]],gbm['PFLX_SBPL_INDX2'][s[i]]),outE)\n",
    "#             #pf[i]=gbm['PFLX_SBPL_PHTFLUX'][s[i]]\n",
    "# print(np.shape(gbmcr))\n",
    "# #pf = np.array(pf)\n",
    "# gbmcr = np.array(gbmcr)\n",
    "# #print(gbmcr)"
   ]
  },
  {
   "cell_type": "code",
   "execution_count": 11,
   "metadata": {
    "scrolled": false
   },
   "outputs": [
    {
     "name": "stdout",
     "output_type": "stream",
     "text": [
      "(339,)\n"
     ]
    }
   ],
   "source": [
    "#plot Batse[64] against pf to see if they are the same\n",
    "flux=gbmbursts['FLUX_BATSE_64'][s]\n",
    "fluxshape=np.shape(flux)\n",
    "print(fluxshape)\n",
    "\n",
    "# #Creating plot of peak flux versus counts for real and simulated GBM\n",
    "# #print(np.log10(pf[w]))\n",
    "# fig=plot.figure(figsize=(20,5))\n",
    "# plot.subplot(1,2,1)\n",
    "# plot.hist(pf,label='real GBM',bins=np.logspace(-1,4,40),color='orange')\n",
    "# plot.hist(flux,label='flux batse',bins=np.logspace(-1,4,40),alpha=0.7,color='blue')\n",
    "# plot.xscale('log')\n",
    "# plot.legend()\n",
    "# plot.subplot(1,2,2)\n",
    "# #plot.hist(flux,label='All',bins=np.logspace(-1,2,40),color='green')\n",
    "# #pf has been gathered from the GBM catalog\n",
    "# plot.hist(pf,label='real GBM',bins=np.logspace(-1,4,40),color='orange')\n",
    "# # this is the simulated GBM\n",
    "# plot.hist(flux,label='flux batse',bins=np.logspace(-1,4,40),alpha=0.7,color='blue')\n",
    "# #plot.hist(flux[w],label='BC',bins=np.logspace(-1,2,40),alpha=0.7,color='red')\n",
    "# plot.xscale('log')\n",
    "# plot.legend()\n",
    "\n",
    "# plot.show()\n",
    "\n",
    "# plot.plot(pf,flux, linestyle='None', marker='o')\n",
    "# plot.xscale('log')\n",
    "# plot.yscale('log')\n",
    "# plot.plot([1e-1,1e3],[1e-1,1e3])\n",
    "# plot.show()\n",
    "\n",
    "# #print(flux)\n",
    "# #print(pf)"
   ]
  },
  {
   "cell_type": "code",
   "execution_count": 12,
   "metadata": {},
   "outputs": [
    {
     "name": "stdout",
     "output_type": "stream",
     "text": [
      "0 337\n"
     ]
    }
   ],
   "source": [
    "#define probability\n",
    "#p = np.array((np.arange(pf.shape[0])+1)**(-1.0))\n",
    "p = np.array((np.arange(pf.shape[0])+1.5)**(-0.4))\n",
    "p=p/sum(p)\n",
    "#randomly sample from the array of peak fluxes found above using our probability function found above so we draw more low peak fluxes\n",
    "# This is creating our \"intrinsic\" sample\n",
    "r=np.random.choice(pf.shape[0], 1000, replace=True, p=p)\n",
    "print(min(r),max(r))\n",
    "simpfsample = np.array(pf[r])\n",
    "simgbmcr = np.array(gbmcr[r])\n",
    "#print(np.shape(simpfsample))\n",
    "#print(simpfsample)\n",
    "#print(r)"
   ]
  },
  {
   "cell_type": "code",
   "execution_count": 13,
   "metadata": {},
   "outputs": [
    {
     "name": "stdout",
     "output_type": "stream",
     "text": [
      "0.001821401561192068 0.015933277216497444\n"
     ]
    },
    {
     "data": {
      "text/plain": [
       "(array([259.,  48.,  16.,   7.,   4.,   2.,   1.,   1.,   0.,   1.]),\n",
       " array([0.0018214 , 0.00323259, 0.00464378, 0.00605496, 0.00746615,\n",
       "        0.00887734, 0.01028853, 0.01169971, 0.0131109 , 0.01452209,\n",
       "        0.01593328]),\n",
       " <a list of 10 Patch objects>)"
      ]
     },
     "execution_count": 13,
     "metadata": {},
     "output_type": "execute_result"
    },
    {
     "data": {
      "image/png": "[encoded data removed]",
      "text/plain": [
       "<Figure size 432x288 with 1 Axes>"
      ]
     },
     "metadata": {},
     "output_type": "display_data"
    }
   ],
   "source": [
    "print(min(p),max(p))\n",
    "plot.hist(p)"
   ]
  },
  {
   "cell_type": "code",
   "execution_count": 14,
   "metadata": {},
   "outputs": [],
   "source": [
    "# we want to solve for the number of detected counts. We need to create two more arrays- 1 for exposure and the other for interval.\n",
    "#Interval is given in the GBM catalog however we need to know exposure. This should be found from the exposure map for each burst.\n",
    "#this all together will give us the number of source photons\n",
    "\n",
    "## setup GBM\n",
    "gbm_pointings = {'01': ('45:54:0','20:36:0'),\n",
    "            '02': ('45:6:0','45:18:0'),\n",
    "            '03': ('58:24:0','90:12:0'),\n",
    "            '04': ('314:54:0','45:12:0'),\n",
    "            '05': ('303:12:0','90:18:0'),\n",
    "            '06': ('3:24:0','89:48:0'),\n",
    "            '07': ('224:54:0','20:24:0'),\n",
    "            '08': ('224:36:0','46:12:0'),\n",
    "            '09': ('236:36:0','90:0:0'),\n",
    "            '10': ('135:12:0','45:36:0'),\n",
    "            '11': ('123:42:0','90:24:0'),\n",
    "            '12': ('183:42:0','90:18:0')}\n",
    "\n",
    "fermi = Spacecraft(gbm_pointings,window=0.1)\n",
    "\n",
    "res = 250\n",
    "rr,dd = np.meshgrid(np.linspace(0,360,res,endpoint=False),np.linspace(-90,90,res))\n",
    "exposure_positions = np.vstack([rr.ravel(),dd.ravel()])\n",
    "gbm_exposures = np.array([[ detector.exposure(position[0],position[1]) for position in exposure_positions.T] \n",
    "                      for detector in fermi.detectors])"
   ]
  },
  {
   "cell_type": "code",
   "execution_count": 15,
   "metadata": {},
   "outputs": [],
   "source": [
    "#using SkyCoord to convert coordinates to degrees and solve for distances.\n",
    "def separation(ra1,dec1,ra2,dec2):\n",
    "\n",
    "    c=SkyCoord(ra=ra1*u.deg,dec=dec1*u.deg)\n",
    "    d=SkyCoord(ra=ra2*u.deg,dec=dec2*u.deg)\n",
    "    dist=c.separation(d)\n",
    "    dist=dist.value\n",
    "\n",
    "    return dist"
   ]
  },
  {
   "cell_type": "code",
   "execution_count": 16,
   "metadata": {},
   "outputs": [],
   "source": [
    "# now that GBM's pointings are set up we will throw GRBs at it and determine it's exposure for each GRB. \n",
    "#generate GRBs and throw them at GBM\n",
    "\n",
    "def throw_grbs(fermi,minflux,maxflux):\n",
    "    \n",
    "    nsims=int(np.round(len(simpfsample))) \n",
    "    ra,dec=random_sky(nsims)\n",
    "    ra=np.array(ra)-180\n",
    "    dec=np.array(dec)\n",
    "    #sigma=0.65,mean=1.5\n",
    " \n",
    "    #change the sigma and mean in order to create a log fit for simulated GBM. Automate this fit.\n",
    "    #flux=np.random.lognormal(size=nsims,sigma=0.55,mean=0.6)*(np.log10(maxflux)-np.log10(minflux))+np.log10(minflux)\n",
    "\n",
    "    #GBM exposures for each random GRB. Believe this is an array with the different exposures for each detector\n",
    "    randgbmexposures = np.array([[detector.exposure(ra[i],dec[i]) for i in range(nsims)] for detector in fermi.detectors])\n",
    " #   print(\"randgbmexposures=\", randgbmexposures)\n",
    " \n",
    "    #Order randgbmexposures into descending order\n",
    "    for column in randgbmexposures.T:\n",
    "        newrandgbm = -np.sort(-randgbmexposures.T) \n",
    "    gbmexposures = np.transpose(newrandgbm)\n",
    "   # print(\"gbmexposures=\",gbmexposures)\n",
    "    \n",
    "\n",
    "    #Select the second highest value. \n",
    "    #We will use this to ensure the second highest exposure detector has a sig >4.5\n",
    "    secondhighestgbm = gbmexposures[1,:]\n",
    " #   print(\"Second highest =\", secondhighest)\n",
    "\n",
    "        \n",
    "    return gbmexposures, secondhighestgbm, randgbmexposures"
   ]
  },
  {
   "cell_type": "code",
   "execution_count": 17,
   "metadata": {},
   "outputs": [],
   "source": [
    "#define the peak flux interval using the trigger catalog\n",
    "msinterval = trigbursts['Trigger_Timescale'][s] \n",
    "interval = msinterval/1000\n",
    "\n",
    "#print(interval)\n"
   ]
  },
  {
   "cell_type": "code",
   "execution_count": 18,
   "metadata": {},
   "outputs": [],
   "source": [
    "#trigvsgbm = plot.scatter(triginterval, interval)"
   ]
  },
  {
   "cell_type": "code",
   "execution_count": 19,
   "metadata": {},
   "outputs": [],
   "source": [
    "#triggertimescale = plot.plot(triginterval)"
   ]
  },
  {
   "cell_type": "code",
   "execution_count": 20,
   "metadata": {},
   "outputs": [],
   "source": [
    "#gbmtrigger = plot.plot(interval)"
   ]
  },
  {
   "cell_type": "code",
   "execution_count": 21,
   "metadata": {},
   "outputs": [],
   "source": [
    "#flux=simpf this is in ph/sec\n",
    "flux=simpfsample\n",
    "minflux=min(flux)\n",
    "maxflux=max(flux)\n",
    "gbmexposures, secondhighest, randgbmexposures = throw_grbs(fermi,minflux,maxflux)\n",
    "\n",
    "#sechighestsize=np.shape(secondhighest)\n",
    "#print(sechighestsize)\n",
    "#execute function defined above\n",
    "#throw_grbs(fermi,minflux,maxflux,pf)"
   ]
  },
  {
   "cell_type": "code",
   "execution_count": 22,
   "metadata": {},
   "outputs": [
    {
     "name": "stdout",
     "output_type": "stream",
     "text": [
      "(1000,)\n"
     ]
    }
   ],
   "source": [
    "#Solve for the number of detected counts which will equal our source photons\n",
    "#Should this really be multiplied by pf or should it be multiplied by flux? pf is calculated from GBM catalog#\n",
    "#secondhighest=1\n",
    "source = simgbmcr*secondhighest*interval[r]\n",
    "#sourcetrig = simgbmcr*secondhighest*triginterval[r]\n",
    "#q=np.shape(simpfsample)\n",
    "#print(q)\n",
    "#y=np.shape(secondhighesit)\n",
    "#print(y)\n",
    "x=np.shape(interval[r])\n",
    "print(x)\n",
    "#print(source)\n",
    "#print(sourcetrig)\n",
    "#print(type(interval[r]))\n",
    "#print(type(secondhighest))\n",
    "#print(type(simgbmcr))\n",
    "#print(simpfsample)"
   ]
  },
  {
   "cell_type": "code",
   "execution_count": 23,
   "metadata": {},
   "outputs": [],
   "source": [
    "#Assuming a background count rate. units: cts/s\n",
    "bckgrd=300\n",
    "#scale the background count rate \n",
    "scaledbckgrd = bckgrd*secondhighest*interval[r]\n",
    "#print(scaledbckgrd)\n",
    "\n",
    "\n",
    "#scaledbckgrdtrig = bckgrd*secondhighest*triginterval[r]\n",
    "#print(scaledbckgrdtrig)"
   ]
  },
  {
   "cell_type": "code",
   "execution_count": 24,
   "metadata": {},
   "outputs": [
    {
     "name": "stderr",
     "output_type": "stream",
     "text": [
      "/home/alyson/anaconda3/lib/python3.6/site-packages/ipykernel_launcher.py:7: RuntimeWarning: invalid value encountered in double_scalars\n",
      "  import sys\n"
     ]
    }
   ],
   "source": [
    "#calculate the significance of the second highest exposure detector. If the significance is greater than 4.5 sigma than the burst is detectable.\n",
    "#creating an array of zeros that I can \n",
    "detect = np.zeros(len(simpfsample))\n",
    "#detecttrig = np.zeros(len(simpfsample))\n",
    "\n",
    "for u in range(len(simpfsample)):\n",
    "    sig = source[u] / (math.sqrt(source[u] + scaledbckgrd[u]))\n",
    "    if sig > 4.5:\n",
    "        detect[u] = 1.0\n",
    "    else:\n",
    "        detect[u] = 0.0\n",
    "\n",
    "#print(detect)\n",
    "\n",
    "\n",
    "#for tr in range(len(simpfsample)):\n",
    "#    sig = sourcetrig[tr] / (math.sqrt(sourcetrig[tr] + scaledbckgrdtrig[tr]))\n",
    "#    if sig > 4.5:\n",
    "#        detect[tr] = 1.0\n",
    "#    else:\n",
    "#        detect[tr] = 0.0\n",
    "\n",
    "#print(detecttrig)\n"
   ]
  },
  {
   "cell_type": "code",
   "execution_count": 25,
   "metadata": {},
   "outputs": [
    {
     "name": "stdout",
     "output_type": "stream",
     "text": [
      "308\n",
      "0.308\n"
     ]
    }
   ],
   "source": [
    "det = np.where(detect == 1)[0]\n",
    "print(len(det))\n",
    "ratio = len(det) / len(detect)\n",
    "print(ratio)"
   ]
  },
  {
   "cell_type": "code",
   "execution_count": 26,
   "metadata": {},
   "outputs": [
    {
     "data": {
      "image/png": "[encoded data removed]",
      "text/plain": [
       "<Figure size 1440x360 with 2 Axes>"
      ]
     },
     "metadata": {},
     "output_type": "display_data"
    }
   ],
   "source": [
    "#Creating plot of peak flux versus counts for real and simulated GBM\n",
    "w=np.where(pf>0)[0]\n",
    "wg = np.where(simgbmcr*detect>0)[0]\n",
    "#wgtrig = np.where(simgbmcr*detecttrig>0)[0]\n",
    "#print(np.log10(pf[w]))\n",
    "fig=plot.figure(figsize=(20,5))\n",
    "plot.subplot(1,2,1)\n",
    "plot.hist(gbmcr[w],label='real GBM',bins=np.logspace(1,6,40),color='orange')\n",
    "plot.hist(simgbmcr[wg],label='Simulated GBM',bins=np.logspace(1,6,40),alpha=0.7,color='blue')\n",
    "#plot.hist(simgbmcr[wgtrig],label='Simulated GBM trigger interval',bins=np.logspace(1,6,40),alpha=0.7,color='red')\n",
    "plot.xscale('log')\n",
    "plot.legend()\n",
    "plot.subplot(1,2,2)\n",
    "#plot.hist(flux,label='All',bins=np.logspace(-1,2,40),color='green')\n",
    "#pf has been gathered from the GBM catalog\n",
    "plot.hist(pf[w],label='real GBM',bins=np.logspace(-1,4,40),color='orange')\n",
    "# this is the simulated GBM\n",
    "plot.hist(simpfsample[wg],label='Simulated GBM',bins=np.logspace(-1,4,40),alpha=0.7,color='blue')\n",
    "#plot.hist(flux[w],label='BC',bins=np.logspace(-1,2,40),alpha=0.7,color='red')\n",
    "plot.xscale('log')\n",
    "plot.legend()\n",
    "\n",
    "plot.show()\n",
    "        "
   ]
  },
  {
   "cell_type": "code",
   "execution_count": null,
   "metadata": {},
   "outputs": [],
   "source": []
  },
  {
   "cell_type": "code",
   "execution_count": null,
   "metadata": {},
   "outputs": [],
   "source": []
  }
 ],
 "metadata": {
  "kernelspec": {
   "display_name": "Python 3",
   "language": "python",
   "name": "python3"
  },
  "language_info": {
   "codemirror_mode": {
    "name": "ipython",
    "version": 3
   },
   "file_extension": ".py",
   "mimetype": "text/x-python",
   "name": "python",
   "nbconvert_exporter": "python",
   "pygments_lexer": "ipython3",
   "version": "3.6.5"
  }
 },
 "nbformat": 4,
 "nbformat_minor": 2
}
