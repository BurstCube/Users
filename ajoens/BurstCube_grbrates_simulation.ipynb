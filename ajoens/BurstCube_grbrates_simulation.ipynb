{
 "cells": [
  {
   "cell_type": "code",
   "execution_count": 1,
   "metadata": {},
   "outputs": [],
   "source": [
    "import numpy as np\n",
    "import matplotlib.pylab as plot\n",
    "from astropy.io import ascii,fits\n",
    "from scipy import interpolate\n",
    "import grb_catalogs_copy\n",
    "from BurstCube.LocSim.Detector import *\n",
    "from BurstCube.LocSim.Spacecraft import *\n",
    "from astropy.coordinates import SkyCoord\n",
    "from astropy import units as u\n",
    "from scipy.optimize import curve_fit\n",
    "import math\n",
    "from astropy.table import Table"
   ]
  },
  {
   "cell_type": "code",
   "execution_count": 21,
   "metadata": {
    "scrolled": false
   },
   "outputs": [
    {
     "name": "stdout",
     "output_type": "stream",
     "text": [
      "TRIGGER_NAME      NAME         RA    ...   TRIGGER_TIME  TRIGGER_TIMESCALE\n",
      "                             DEGREE  ...       MJD               MS       \n",
      "------------ -------------- -------- ... --------------- -----------------\n",
      "BN120403857  GRB120403857    55.3384 ... 56020.856927003              1024\n",
      "BN140912846  TGF140912846      44.05 ... 56912.845875803                16\n",
      "BN120227725  GRB120227725     256.73 ... 55984.725475166              1024\n",
      "BN140630748  TGF140630748   128.7667 ... 56838.747788306                16\n",
      "BN141205018  GRB141205018     294.61 ... 56996.017706164              2048\n",
      "BN180630467  GRB180630467    48.9589 ... 58299.466601915              1024\n",
      "BN170116238  GRB170116238      72.94 ... 57769.238371056              1024\n",
      "BN170909434  TGF170909434      43.85 ... 58005.433674278                16\n",
      "BN100911473  TGF100911473      176.0 ... 55450.472675715                16\n",
      "BN091026550  GRB091026550    276.573 ... 55130.549687727              4096\n",
      "         ...            ...      ... ...             ...               ...\n",
      "BN150430558  TGF150430558   145.2167 ... 57142.557698745                16\n",
      "BN150309958  GRB150309958    277.102 ... 57090.958225209               256\n",
      "BN150616594  LOCLPAR1506165  58.3167 ... 57189.594483725              4096\n",
      "BN100920971  TGF100920971    51.6667 ... 55459.971004803                16\n",
      "BN091012783  GRB091012783      109.4 ... 55116.782670946                64\n",
      "BN130528695  GRB130528695    138.738 ... 56440.695421398               256\n",
      "BN180304259  LOCLPAR1803042    159.3 ... 58181.258880402              2048\n",
      "BN090813174  GRB090813174    225.802 ... 55056.174104081               256\n",
      "BN110201399  GRB110201399     137.58 ... 55593.399424207              2048\n",
      "BN150705660  LOCLPAR1507056   257.75 ...  57208.65994033              4096\n",
      "Length = 6509 rows\n",
      "    NAME        RA     DEC   ... BCATALOG SCATALOG  LAST_MODIFIED \n",
      "              DEGREE  DEGREE ...                         MJD      \n",
      "------------ ------- ------- ... -------- -------- ---------------\n",
      "GRB120830212  337.87  -80.04 ...        0        3 58285.951655093\n",
      "GRB140323433 356.959 -79.905 ...        0        3 58295.957071759\n",
      "GRB100325246  209.14   -79.1 ...        1        3 58252.719699074\n",
      "GRB100507577     2.9  -79.01 ...        1        3 58255.903391204\n",
      "GRB171206122    9.48   -78.2 ...        3        4  58151.75681713\n",
      "GRB140518709  244.04  -77.86 ...        0        3 57995.704212963\n",
      "GRB130623488  20.723 -77.784 ...        0        3 58290.900173611\n",
      "GRB141004150   30.44   -77.3 ...        3        3 58299.722013889\n",
      "GRB090304216   195.9   -73.4 ...        1        3 58240.721400463\n",
      "GRB151026523  107.39  -73.32 ...        3        3 57332.993449074\n",
      "         ...     ...     ... ...      ...      ...             ...\n",
      "GRB131118958 349.863 -66.833 ...        0        3 58292.958252315\n",
      "GRB170323775  348.83  -66.81 ...        3        3 57926.699236111\n",
      "GRB120114433  263.23  -75.64 ...        2        3 58270.890972222\n",
      "GRB170121067    3.03  -75.62 ...        3        3 57837.701122685\n",
      "GRB170124874  282.04  -75.51 ...        3        3  57837.70931713\n",
      "GRB141022087  119.39  -75.17 ...        3        3 56975.711388889\n",
      "GRB180614327   52.22  -75.17 ...        3          58284.917488426\n",
      "GRB100112418  240.14   -75.1 ...        1        3  58251.02431713\n",
      "GRB121116459  180.88  -74.79 ...        3        3 57996.725104167\n",
      "GRB110212550  311.33   -74.5 ...        2        3  58281.95525463\n",
      "Length = 2352 rows\n"
     ]
    }
   ],
   "source": [
    "# read in GBM GRB catalog (first 9 years)\n",
    "#gbmfit=fits.open('gbmgrbcat_copy.fits')\n",
    "#gbm=gbmfit[1].data\n",
    "\n",
    "#read in GBM Trigger Catalog\n",
    "#trigfit=fits.open('gbmtrigcat.fits')\n",
    "#trig=trigfit[1].data\n",
    "#(np.shape(gbm))\n",
    "#print(Table.read('gbmtrigcat.fits'))\n",
    "#print(Table.read('gbmgrbcat_copy.fits'))\n",
    "\n",
    "\n",
    "\n",
    "\n",
    "\n",
    "gbmfit=fits.open('GBMsamplecat.fits')\n",
    "gbm=gbmfit[1].data\n",
    "\n",
    "trigfit=fits.open('gbmtrigcat.fits')\n",
    "trig=trigfit[1].data"
   ]
  },
  {
   "cell_type": "code",
   "execution_count": 3,
   "metadata": {},
   "outputs": [],
   "source": [
    "## code to use when reading in GBM effective area in order to get data into the desired format\n",
    "def getGBMdata(gbmfile=None):\n",
    "    \"\"\"Reads the GBM NaI effective area file and returns a numpy array\n",
    "    with two columns ``energy`` and ``aeff``.\n",
    "    Parameters\n",
    "    ----------\n",
    "    gbmfile : string\n",
    "       Name of file that contains the GBM data.\n",
    "    Returns\n",
    "    ----------\n",
    "    gbmdata : array \n",
    "    numpy array with two columns ``energy`` and ``aeff``\n",
    "    \"\"\"\n",
    "    \n",
    "    return np.genfromtxt(gbmfile,skip_header=2,names=('energy', 'aeff'))\n"
   ]
  },
  {
   "cell_type": "code",
   "execution_count": 4,
   "metadata": {},
   "outputs": [],
   "source": [
    "## bit of useful code for interpolating in log space\n",
    "def loginterpol(x,y,x1):\n",
    "\n",
    "    f=interpolate.interp1d(np.log10(x),np.log10(y),bounds_error=False,fill_value=\"extrapolate\",kind='linear')\n",
    "    y1=10**f(np.log10(x1))\n",
    "\n",
    "    return y1\n",
    "\n",
    "def loginterpol2d(x,y,z,x1,y1):\n",
    "\n",
    "    wz=np.where(z==0)[0]\n",
    "    zz=z\n",
    "    zz[wz]=1.\n",
    "    f=interpolate.interp2d(x,y,np.log10(zz),bounds_error=False,fill_value=\"extrapolate\",kind='linear')\n",
    "    z1=10**f(x1,y1)"
   ]
  },
  {
   "cell_type": "code",
   "execution_count": 5,
   "metadata": {},
   "outputs": [],
   "source": [
    "## generate random positions on the sky with equal area probability\n",
    "def random_sky(n=1):\n",
    "\n",
    "    u=np.random.rand(n)\n",
    "    v=np.random.rand(n)\n",
    "\n",
    "    phi=2*np.pi*u\n",
    "    theta=np.arccos(2*v-1.)\n",
    "\n",
    "    dec=-np.degrees(theta-np.pi/2.)\n",
    "    ra=np.degrees(np.pi*2-phi)\n",
    "\n",
    "    return ra,dec"
   ]
  },
  {
   "cell_type": "code",
   "execution_count": 27,
   "metadata": {},
   "outputs": [],
   "source": [
    "#function to match GRBs in the Trigger catalog to those in the grb catalog so that we can create an array of the arrays in both\n",
    "#we will ultimately use this to compare the timescales of the trigger timescale and the peak flux interval\n",
    "\n",
    "def match_catalogs_name(name1,name2):\n",
    "\n",
    "    ind_dict = dict((q,e) for e,q in enumerate(name1))\n",
    "    inter = set(ind_dict).intersection(name2)\n",
    "    m1 = [ind_dict[element] for element in inter]\n",
    "    print(np.shape(m1))\n",
    "    \n",
    "    ind_dict = dict((q,e) for q,e in enumerate(name2))\n",
    "    inter = set(ind_dict).intersection(name1)\n",
    "    m2 = [ind_dict[element] for element in inter]\n",
    "    print(np.shape(m2))\n",
    "    \n",
    "    return m1,m2"
   ]
  },
  {
   "cell_type": "code",
   "execution_count": 34,
   "metadata": {},
   "outputs": [
    {
     "name": "stdout",
     "output_type": "stream",
     "text": [
      "(2352,)\n",
      "(0,)\n",
      "[('BN090809978', 'GRB090809978', 95.25, 0.16, 55052.976346868, 55052.98345808, 55052.977946889, 2048)\n",
      " ('BN110509142', 'GRB110509142', 180.81, -34.0, 55690.140527488, 55690.147638724, 55690.142115662, 4096)\n",
      " ('BN100522157', 'GRB100522157', 6.9867, 9.4023, 55338.155260414, 55338.162371626, 55338.156855251, 128)\n",
      " ...\n",
      " ('BN160924253', 'GRB160924253', 97.12, 71.32, 57655.251294227, 57655.258405451, 57655.252882399, 4096)\n",
      " ('BN090726218', 'GRB090726218', 240.45, 36.75, 55038.216531423, 55038.218285526, 55038.218137375, 1024)\n",
      " ('BN151211672', 'GRB151211672', 262.49, 39.26, 57367.670402847, 57367.677419258, 57367.671927315, 256)]\n"
     ]
    },
    {
     "data": {
      "text/plain": [
       "(2352,)"
      ]
     },
     "execution_count": 34,
     "metadata": {},
     "output_type": "execute_result"
    }
   ],
   "source": [
    "#creating array of grbs\n",
    "m1, m2 = match_catalogs_name(trig['NAME'],gbm['NAME'])\n",
    "#np.shape(matched)\n",
    "type(m1)\n",
    "\n",
    "\n",
    "triggergrbs = trig[m1]\n",
    "print(triggergrbs)\n",
    "\n",
    "np.shape(triggergrbs)"
   ]
  },
  {
   "cell_type": "code",
   "execution_count": 35,
   "metadata": {},
   "outputs": [],
   "source": [
    "## read in the GBM Aeff\n",
    "aeff_gbm = getGBMdata('/home/alyson/NASA/Simulation/BurstCube/Users/ajoens/gbm_effective_area.dat')"
   ]
  },
  {
   "cell_type": "code",
   "execution_count": 36,
   "metadata": {},
   "outputs": [],
   "source": [
    "## separate GBM short & long GRBs\n",
    "w=np.where(gbm['FLUX_1024']>0)\n",
    "gbm=gbm[w]\n",
    "s=np.where((gbm['T90'] <= 2.)&((gbm['PFLX_SPECTRUM_STOP']-gbm['PFLX_SPECTRUM_START'])>0))[0]\n",
    "l=np.where(gbm['T90'] > 2.)[0]\n",
    "m=np.where(gbm['PFLX_BEST_FITTING_MODEL'][s] == ' ')\n"
   ]
  },
  {
   "cell_type": "code",
   "execution_count": 37,
   "metadata": {},
   "outputs": [],
   "source": [
    "#Integrating the best fit spectrum for each GRB in the energy range of 50-300 KeV to get max. observed photon flux. \n",
    "#This will give us the photon flux in units of ph/cm^2/s. Currently only doing this for GBM and will then add in BurstCube\n",
    "mo=gbm['PFLX_BEST_FITTING_MODEL'][s]\n",
    "#f=np.zeros([len(s),nsims]) # produces an array of zeros with the given shape and type\n",
    "pf=np.zeros(len(s))\n",
    "gbmcr=np.zeros(len(s))\n",
    "outE=np.logspace(np.log10(50),np.log10(300),100) # returns numbers spaced evenly on a log scale\n",
    "for i in range(len(s)):\n",
    "    #for j in range(nsims):\n",
    "        #E=np.array(eng[w[j]+1:w[j+1]+1])\n",
    "        #AeffBC=loginterpol(E,aeffs['aeff'][w[j]+1:w[j+1]+1],outE)\n",
    "        AeffGBM=loginterpol(aeff_gbm['energy'],aeff_gbm['aeff'],outE) #eng[w[j]+1:w[j+1]+1])\n",
    "        \n",
    "        #Aratio=(AeffBC/AeffGBM)\n",
    "        # not sure what *grb_catalogs_copy.pl(outE,gbm['PFLX_PLAW_INDEX'][s[i]] is and why we need it. I think we only need the model photon flux times the aeffGBM and we want it integrated over the energy range provided in outE\n",
    "        # this should give us an array of the maximum observed photon flux for GBM\n",
    "        if mo[i]=='PFLX_PLAW':\n",
    "            gbmcr[i]=np.trapz(gbm['PFLX_PLAW_AMPL'][s[i]]*grb_catalogs_copy.pl(outE,gbm['PFLX_PLAW_INDEX'][s[i]])*AeffGBM,outE)\n",
    "            pf[i]=np.trapz(gbm['PFLX_PLAW_AMPL'][s[i]]*grb_catalogs_copy.pl(outE,gbm['PFLX_PLAW_INDEX'][s[i]]),outE)\n",
    "            #pf[i]=gbm['PFLX_PLAW_PHTFLUX'][s[i]]\n",
    "        if mo[i]=='PFLX_COMP':\n",
    "            gbmcr[i]=np.trapz(gbm['PFLX_COMP_AMPL'][s[i]]*grb_catalogs_copy.comp(outE,gbm['PFLX_COMP_INDEX'][s[i]],gbm['PFLX_COMP_EPEAK'][s[i]])*AeffGBM,outE)\n",
    "            pf[i]=np.trapz(gbm['PFLX_COMP_AMPL'][s[i]]*grb_catalogs_copy.comp(outE,gbm['PFLX_COMP_INDEX'][s[i]],gbm['PFLX_COMP_EPEAK'][s[i]]),outE)\n",
    "            #pf[i]=gbm['PFLX_COMP_PHTFLUX'][s[i]]\n",
    "        if mo[i]=='PFLX_BAND':\n",
    "            gbmcr[i]=np.trapz(gbm['PFLX_BAND_AMPL'][s[i]]*grb_catalogs_copy.band(outE,gbm['PFLX_BAND_ALPHA'][s[i]],gbm['PFLX_BAND_EPEAK'][s[i]],gbm['PFLX_BAND_BETA'][s[i]])*AeffGBM,outE)\n",
    "            pf[i]=np.trapz(gbm['PFLX_BAND_AMPL'][s[i]]*grb_catalogs_copy.band(outE,gbm['PFLX_BAND_ALPHA'][s[i]],gbm['PFLX_BAND_EPEAK'][s[i]],gbm['PFLX_BAND_BETA'][s[i]]),outE)\n",
    "            #pf[i]=gbm['PFLX_BAND_PHTFLUX'][s[i]]\n",
    "        if mo[i]=='PFLX_SBPL':\n",
    "            gbmcr[i]=np.trapz(gbm['PFLX_SBPL_AMPL'][s[i]]*grb_catalogs_copy.sbpl(outE,gbm['PFLX_SBPL_INDX1'][s[i]],gbm['PFLX_SBPL_BRKEN'][s[i]],gbm['PFLX_SBPL_INDX2'][s[i]])*AeffGBM,outE)\n",
    "            pf[i]=np.trapz(gbm['PFLX_SBPL_AMPL'][s[i]]*grb_catalogs_copy.sbpl(outE,gbm['PFLX_SBPL_INDX1'][s[i]],gbm['PFLX_SBPL_BRKEN'][s[i]],gbm['PFLX_SBPL_INDX2'][s[i]]),outE)\n",
    "            #pf[i]=gbm['PFLX_SBPL_PHTFLUX'][s[i]]\n",
    "\n",
    "pf = np.array(pf)\n",
    "gbmcr = np.array(gbmcr)\n"
   ]
  },
  {
   "cell_type": "code",
   "execution_count": 38,
   "metadata": {
    "scrolled": false
   },
   "outputs": [
    {
     "name": "stdout",
     "output_type": "stream",
     "text": [
      "(339,)\n"
     ]
    },
    {
     "data": {
      "image/png": "[encoded data removed]",
      "text/plain": [
       "<Figure size 1440x360 with 2 Axes>"
      ]
     },
     "metadata": {},
     "output_type": "display_data"
    },
    {
     "data": {
      "image/png": "[encoded data removed]",
      "text/plain": [
       "<Figure size 432x288 with 1 Axes>"
      ]
     },
     "metadata": {},
     "output_type": "display_data"
    }
   ],
   "source": [
    "#plot Batse[64] against pf to see if they are the same\n",
    "flux=gbm['FLUX_BATSE_64'][s]\n",
    "fluxshape=np.shape(flux)\n",
    "print(fluxshape)\n",
    "\n",
    "#Creating plot of peak flux versus counts for real and simulated GBM\n",
    "#print(np.log10(pf[w]))\n",
    "fig=plot.figure(figsize=(20,5))\n",
    "plot.subplot(1,2,1)\n",
    "plot.hist(pf,label='real GBM',bins=np.logspace(-1,4,40),color='orange')\n",
    "plot.hist(flux,label='flux batse',bins=np.logspace(-1,4,40),alpha=0.7,color='blue')\n",
    "plot.xscale('log')\n",
    "plot.legend()\n",
    "plot.subplot(1,2,2)\n",
    "#plot.hist(flux,label='All',bins=np.logspace(-1,2,40),color='green')\n",
    "#pf has been gathered from the GBM catalog\n",
    "plot.hist(pf,label='real GBM',bins=np.logspace(-1,4,40),color='orange')\n",
    "# this is the simulated GBM\n",
    "plot.hist(flux,label='flux batse',bins=np.logspace(-1,4,40),alpha=0.7,color='blue')\n",
    "#plot.hist(flux[w],label='BC',bins=np.logspace(-1,2,40),alpha=0.7,color='red')\n",
    "plot.xscale('log')\n",
    "plot.legend()\n",
    "\n",
    "plot.show()\n",
    "\n",
    "plot.plot(pf,flux, linestyle='None', marker='o')\n",
    "plot.xscale('log')\n",
    "plot.yscale('log')\n",
    "plot.plot([1e-1,1e3],[1e-1,1e3])\n",
    "plot.show()"
   ]
  },
  {
   "cell_type": "code",
   "execution_count": 39,
   "metadata": {},
   "outputs": [
    {
     "name": "stdout",
     "output_type": "stream",
     "text": [
      "0 338\n",
      "(3000,)\n",
      "[7.98899872 7.59656757 2.29712374 ... 8.35482784 2.52680473 2.23203975]\n",
      "[196 171   0 ...  35  23 329]\n"
     ]
    }
   ],
   "source": [
    "#define probability\n",
    "p = np.array((np.arange(pf.shape[0])+1)**(-1.0))\n",
    "p=p/sum(p)\n",
    "#randomly sample from the array of peak fluxes found above using our probability function found above so we draw more low peak fluxes\n",
    "# This is creating our \"intrinsic\" sample\n",
    "r=np.random.choice(pf.shape[0], 3000, replace=True, p=p)\n",
    "print(min(r),max(r))\n",
    "simpfsample = np.array(pf[r])\n",
    "simgbmcr = np.array(gbmcr[r])\n",
    "#print(np.shape(simpfsample))\n",
    "#print(simpfsample)\n",
    "#print(r)"
   ]
  },
  {
   "cell_type": "code",
   "execution_count": 40,
   "metadata": {},
   "outputs": [],
   "source": [
    "#Doing the same as above but for our simulated sample in order to get the max observed photon flux of the sim. sample.\n",
    "#outE=np.logspace(np.log10(50),np.log10(300),3940) \n",
    "#simgbmcr=np.zeros(len(simpfsample))\n",
    "#for i in range(len(simpfsample)):\n",
    "#    AeffGBM=loginterpol(aeff_gbm['energy'],aeff_gbm['aeff'],outE)#eng[w[j]+1:w[j+1]+1])\n",
    "#    simgbmcr[i] = simpfsample[i]*AeffGBM\n",
    "#print(simgbmcr)"
   ]
  },
  {
   "cell_type": "code",
   "execution_count": 41,
   "metadata": {},
   "outputs": [],
   "source": [
    "# we want to solve for the number of detected counts. We need to create two more arrays- 1 for exposure and the other for interval.\n",
    "#Interval is given in the GBM catalog however we need to know exposure. This should be found from the exposure map for each burst.\n",
    "#this all together will give us the number of source photons\n",
    "\n",
    "## setup GBM\n",
    "gbm_pointings = {'01': ('45:54:0','20:36:0'),\n",
    "            '02': ('45:6:0','45:18:0'),\n",
    "            '03': ('58:24:0','90:12:0'),\n",
    "            '04': ('314:54:0','45:12:0'),\n",
    "            '05': ('303:12:0','90:18:0'),\n",
    "            '06': ('3:24:0','89:48:0'),\n",
    "            '07': ('224:54:0','20:24:0'),\n",
    "            '08': ('224:36:0','46:12:0'),\n",
    "            '09': ('236:36:0','90:0:0'),\n",
    "            '10': ('135:12:0','45:36:0'),\n",
    "            '11': ('123:42:0','90:24:0'),\n",
    "            '12': ('183:42:0','90:18:0')}\n",
    "\n",
    "fermi = Spacecraft(gbm_pointings,window=0.1)\n",
    "\n",
    "res = 250\n",
    "rr,dd = np.meshgrid(np.linspace(0,360,res,endpoint=False),np.linspace(-90,90,res))\n",
    "exposure_positions = np.vstack([rr.ravel(),dd.ravel()])\n",
    "gbm_exposures = np.array([[ detector.exposure(position[0],position[1]) for position in exposure_positions.T] \n",
    "                      for detector in fermi.detectors])"
   ]
  },
  {
   "cell_type": "code",
   "execution_count": 42,
   "metadata": {},
   "outputs": [],
   "source": [
    "#using SkyCoord to convert coordinates to degrees and solve for distances.\n",
    "def separation(ra1,dec1,ra2,dec2):\n",
    "\n",
    "    c=SkyCoord(ra=ra1*u.deg,dec=dec1*u.deg)\n",
    "    d=SkyCoord(ra=ra2*u.deg,dec=dec2*u.deg)\n",
    "    dist=c.separation(d)\n",
    "    dist=dist.value\n",
    "\n",
    "    return dist"
   ]
  },
  {
   "cell_type": "code",
   "execution_count": 43,
   "metadata": {},
   "outputs": [],
   "source": [
    "# now that GBM's pointings are set up we will throw GRBs at it and determine it's exposure for each GRB. \n",
    "#generate GRBs and throw them at GBM\n",
    "\n",
    "def throw_grbs(fermi,minflux,maxflux):\n",
    "    \n",
    "    nsims=int(np.round(len(simpfsample))) \n",
    "    ra,dec=random_sky(nsims)\n",
    "    ra=np.array(ra)-180\n",
    "    dec=np.array(dec)\n",
    "    #sigma=0.65,mean=1.5\n",
    " \n",
    "    #change the sigma and mean in order to create a log fit for simulated GBM. Automate this fit.\n",
    "    #flux=np.random.lognormal(size=nsims,sigma=0.55,mean=0.6)*(np.log10(maxflux)-np.log10(minflux))+np.log10(minflux)\n",
    "\n",
    "    #GBM exposures for each random GRB. Believe this is an array with the different exposures for each detector\n",
    "    randgbmexposures = np.array([[detector.exposure(ra[i],dec[i]) for i in range(nsims)] for detector in fermi.detectors])\n",
    "    print(\"randgbmexposures=\", randgbmexposures)\n",
    "\n",
    "    #Order randgbmexposures into descending order\n",
    "    for column in randgbmexposures.T:\n",
    "        newrandgbm = -np.sort(-randgbmexposures.T) \n",
    "    gbmexposures = np.transpose(newrandgbm)\n",
    "    print(\"gbmexposures=\",gbmexposures)\n",
    "    \n",
    "    #Select the second highest value. \n",
    "    #We will use this to ensure the second highest exposure detector has a sig >4.5\n",
    "    secondhighest = gbmexposures[1,:]\n",
    "    print(\"Second highest =\", secondhighest)\n",
    "\n",
    "        \n",
    "    return gbmexposures, secondhighest, randgbmexposures"
   ]
  },
  {
   "cell_type": "code",
   "execution_count": 64,
   "metadata": {},
   "outputs": [
    {
     "name": "stdout",
     "output_type": "stream",
     "text": [
      "[0.064 0.064 0.064 0.064 0.064 0.064 0.064 0.064 0.064 0.064 0.064 0.064\n",
      " 0.064 0.064 0.064 0.064 0.064 0.064 0.064 0.064 0.064 0.064 0.064 0.064\n",
      " 0.064 0.064 0.064 0.064 0.064 0.064 0.064 0.064 0.064 0.064 0.064 0.064\n",
      " 0.064 0.064 0.064 0.064 0.064 0.064 0.064 0.064 0.064 0.064 0.064 0.064\n",
      " 0.064 0.064 0.064 0.064 0.064 0.064 0.064 0.064 0.064 0.064 0.064 0.064\n",
      " 0.064 0.064 0.064 0.064 0.064 0.064 0.064 0.064 0.064 0.064 0.064 0.064\n",
      " 0.064 0.064 0.064 0.064 0.064 0.064 0.064 0.064 0.064 0.064 0.064 0.064\n",
      " 0.064 0.064 0.064 0.064 0.064 0.064 0.064 0.064 0.064 0.064 0.064 0.064\n",
      " 0.064 0.064 0.064 0.064 0.064 0.064 0.064 0.064 0.064 0.064 0.064 0.064\n",
      " 0.064 0.064 0.064 0.064 0.064 0.064 0.064 0.064 0.064 0.064 0.064 0.064\n",
      " 0.064 0.064 0.064 0.064 0.064 0.064 0.064 0.064 0.064 0.064 0.064 0.064\n",
      " 0.064 0.064 0.064 0.064 0.064 0.064 0.064 0.064 0.064 0.064 0.064 0.064\n",
      " 0.064 0.064 0.064 0.064 0.064 0.064 0.064 0.064 0.064 0.064 0.064 0.064\n",
      " 0.064 0.064 0.064 0.064 0.064 0.064 0.064 0.064 0.064 0.064 0.064 0.064\n",
      " 0.064 0.064 0.064 0.064 0.064 0.064 0.064 0.064 0.064 0.064 0.064 0.064\n",
      " 0.064 0.064 0.064 0.064 0.064 0.064 0.064 0.064 0.064 0.064 0.064 0.064\n",
      " 0.064 0.064 0.064 0.064 0.064 0.064 0.064 0.064 0.064 0.064 0.064 0.064\n",
      " 0.064 0.064 0.064 0.064 0.064 0.064 0.064 0.064 0.064 0.064 0.064 0.064\n",
      " 0.064 0.064 0.064 0.064 0.064 0.064 0.064 0.064 0.064 0.064 0.064 0.064\n",
      " 0.064 0.064 0.064 0.064 0.064 0.064 0.064 0.064 0.064 0.064 0.064 0.064\n",
      " 0.064 0.064 0.064 0.064 0.064 0.064 0.064 0.064 0.064 0.064 0.064 0.064\n",
      " 1.024 0.064 0.064 0.064 0.064 0.064 0.064 0.064 0.064 0.064 0.064 0.064\n",
      " 0.064 0.064 0.064 0.064 0.064 0.064 0.064 0.064 0.064 0.064 0.064 0.064\n",
      " 0.064 0.064 0.064 0.064 0.064 0.064 0.064 0.064 0.064 0.064 0.064 0.064\n",
      " 0.064 0.064 0.064 0.064 0.064 0.064 0.064 0.064 0.064 0.064 0.064 0.064\n",
      " 0.064 0.064 0.064 0.064 0.064 0.064 0.064 0.064 0.064 0.064 0.064 0.064\n",
      " 0.064 0.064 0.064 0.064 0.064 0.064 0.064 0.064 0.064 0.064 0.064 0.064\n",
      " 0.064 0.064 0.064 0.064 0.064 0.064 0.064 0.064 0.064 0.064 0.064 0.064\n",
      " 0.064 0.064 0.064]\n",
      "(339,)\n",
      "[0.00711124 0.00606824 0.00711122 0.00711122 0.00701642 0.0070954\n",
      " 0.00711123 0.00711123 0.00711124 0.00711123 0.00578381 0.00711124\n",
      " 0.00512008 0.00711123 0.00711122 0.00711123 0.00711122 0.00711124\n",
      " 0.00303412 0.00711122 0.00711122 0.00715829 0.00711124 0.14282149\n",
      " 0.00711123 0.00379265 0.00711122 0.00711123 0.00711121 0.00711122\n",
      " 0.00711123 0.00711122 0.00711125 0.00711123 0.00711121 0.0070926\n",
      " 0.00711124 0.00711124 0.00711123 0.00701639 0.00701644 0.00701642\n",
      " 0.00711125 0.0071112  0.00694068 0.00711124 0.00711123 0.00711123\n",
      " 0.00711125 0.00635269 0.00711122 0.00180151 0.00711123 0.0071112\n",
      " 0.00711123 0.00711121 0.00711123 0.00194373 0.00711121 0.00711125\n",
      " 0.00711123 0.00711123 0.00711123 0.00711122 0.0070164  0.00711123\n",
      " 0.00711123 0.00711123 0.00711124 0.00167114 0.00711124 0.00711123\n",
      " 0.00160002 0.00193188 0.00711124 0.00711122 0.00711124 0.00711122\n",
      " 0.00711123 0.00711122 0.00711123 0.00711123 0.00711122 0.00711122\n",
      " 0.00711124 0.0070164  0.00711124 0.00565342 0.0062579  0.00711124\n",
      " 0.00711125 0.0057838  0.00711121 0.00663715 0.00711123 0.00711122\n",
      " 0.00711124 0.00711123 0.00711121 0.00711123 0.0020504  0.00711122\n",
      " 0.00701639 0.00711121 0.00711123 0.00701637 0.00711123 0.00682678\n",
      " 0.00711123 0.00711124 0.0070164  0.00597342 0.00711124 0.00711123\n",
      " 0.00711122 0.00711121 0.00587861 0.00711123 0.00207411 0.00711124\n",
      " 0.00711122 0.0070164  0.00578379 0.00303412 0.00219263 0.00711124\n",
      " 0.00711121 0.00711122 0.00176595 0.00711121 0.00711122 0.00711123\n",
      " 0.00711124 0.00711122 0.00711123 0.00711122 0.00711123 0.00711123\n",
      " 0.00711127 0.00711123 0.00701641 0.00711124 0.00199115 0.00163558\n",
      " 0.00701641 0.00625788 0.002003   0.0071112  0.00711124 0.00711126\n",
      " 0.00711123 0.00711125 0.00711125 0.00162373 0.00186077 0.00197929\n",
      " 0.00711123 0.00711123 0.00711123 0.0070164  0.00701641 0.00214522\n",
      " 0.0069216  0.0063527  0.0057838  0.00711123 0.00654234 0.00018963\n",
      " 0.00193188 0.00711123 0.00701641 0.00711124 0.00711122 0.00168299\n",
      " 0.00493045 0.00711123 0.00711122 0.00711124 0.00711122 0.00711122\n",
      " 0.0022993  0.00246522 0.0035082  0.00192003 0.00196744 0.00216892\n",
      " 0.00711123 0.00578379 0.00711122 0.00711123 0.00711126 0.00711116\n",
      " 0.00222819 0.00711123 0.00711123 0.00711122 0.0057838  0.00711124\n",
      " 0.00274968 0.00711122 0.00417192 0.00625788 0.00597343 0.00711122\n",
      " 0.0029393  0.0051201  0.00711122 0.00216892 0.00711119 0.00711122\n",
      " 0.0023704  0.00616306 0.00711122 0.00711121 0.00701642 0.00246523\n",
      " 0.00711123 0.00606823 0.00312894 0.00711123 0.00711123 0.00169484\n",
      " 0.0017304  0.00711123 0.00711121 0.00711121 0.00711122 0.00711121\n",
      " 0.00158817 0.0071112  0.00711122 0.00701641 0.00616308 0.00711123\n",
      " 0.00246522 0.00181336 0.00711121 0.00711122 0.00711123 0.00711121\n",
      " 0.00225189 0.00711123 0.00214521 0.00711122 0.00711124 0.00711124\n",
      " 0.00711124 0.00711123 0.00597343 0.00711123 0.00711124 0.00701641\n",
      " 0.00701641 0.00711122 0.00711122 0.00711124 0.00711125 0.00711124\n",
      " 0.00274967 0.00711122 0.00711124 0.00711123 0.00711123 0.00189632\n",
      " 0.00711123 0.00711122 0.00711111 0.00711124 0.00701641 0.00701641\n",
      " 0.00711122 0.00711122 0.00663713 0.00711124 0.00711116 0.00711118\n",
      " 0.00711123 0.00711122 0.00701638 0.00701639 0.00711123 0.00711122\n",
      " 0.00274967 0.00711123 0.00711123 0.00711119 0.00711125 0.00711122\n",
      " 0.00711126 0.00711124 0.00711123 0.00711124 0.00711125 0.00711123\n",
      " 0.00711122 0.0040771  0.00711123 0.00711123 0.00711122 0.00711123\n",
      " 0.00711125 0.00711123 0.00711122 0.00625789 0.00711124 0.00711123\n",
      " 0.00711124 0.00711121 0.00711125 0.0071112  0.00711126 0.00064001\n",
      " 0.00711122 0.00265486 0.00711125 0.00711124 0.0070164  0.00711125\n",
      " 0.00711124 0.00711124 0.00711124 0.00711124 0.00711125 0.00701641\n",
      " 0.00711122 0.00701642 0.00682678 0.00711122 0.00711122 0.00711122\n",
      " 0.00711122 0.00540453 0.00711122 0.00581096 0.00711123 0.00711123\n",
      " 0.00711124 0.00711122 0.00322375]\n",
      "(339,)\n",
      "[0.064 0.064 0.064 0.064 0.064 0.064 0.064 0.064 0.064 0.064 0.064 0.064\n",
      " 0.064 0.064 0.064 0.064 0.064 0.064 0.064 0.064 0.064 0.064 0.064 0.064\n",
      " 0.064 0.064 0.064 0.064 0.064 0.064 0.064 0.064 0.064 0.064 0.064 0.064\n",
      " 0.064 0.064 0.064 0.064 0.064 0.064 0.064 0.064 0.064 0.064 0.064 0.064\n",
      " 0.064 0.064 0.064 0.064 0.064 0.064 0.064 0.064 0.064 0.064 0.064 0.064\n",
      " 0.064 0.064 0.064 0.064 0.064 0.064 0.064 0.064 0.064 0.064 0.064 0.064\n",
      " 0.064 0.064 0.064 0.064 0.064 0.064 0.064 0.064 0.064 0.064 0.064 0.064\n",
      " 0.064 0.064 0.064 0.064 0.064 0.064 0.064 0.064 0.064 0.064 0.064 0.064\n",
      " 0.064 0.064 0.064 0.064 0.064 0.064 0.064 0.064 0.064 0.064 0.064 0.064\n",
      " 0.064 0.064 0.064 0.064 0.064 0.064 0.064 0.064 0.064 0.064 0.064 0.064\n",
      " 0.064 0.064 0.064 0.064 0.064 0.064 0.064 0.064 0.064 0.064 0.064 0.064\n",
      " 0.064 0.064 0.064 0.064 0.064 0.064 0.064 0.064 0.064 0.064 0.064 0.064\n",
      " 0.064 0.064 0.064 0.064 0.064 0.064 0.064 0.064 0.064 0.064 0.064 0.064\n",
      " 0.064 0.064 0.064 0.064 0.064 0.064 0.064 0.064 0.064 0.064 0.064 0.064\n",
      " 0.064 0.064 0.064 0.064 0.064 0.064 0.064 0.064 0.064 0.064 0.064 0.064\n",
      " 0.064 0.064 0.064 0.064 0.064 0.064 0.064 0.064 0.064 0.064 0.064 0.064\n",
      " 0.064 0.064 0.064 0.064 0.064 0.064 0.064 0.064 0.064 0.064 0.064 0.064\n",
      " 0.064 0.064 0.064 0.064 0.064 0.064 0.064 0.064 0.064 0.064 0.064 0.064\n",
      " 0.064 0.064 0.064 0.064 0.064 0.064 0.064 0.064 0.064 0.064 0.064 0.064\n",
      " 0.064 0.064 0.064 0.064 0.064 0.064 0.064 0.064 0.064 0.064 0.064 0.064\n",
      " 0.064 0.064 0.064 0.064 0.064 0.064 0.064 0.064 0.064 0.064 0.064 0.064\n",
      " 0.064 0.064 0.064 0.064 0.064 0.064 0.064 0.064 0.064 0.064 0.064 0.064\n",
      " 0.064 0.064 0.064 0.064 0.064 0.064 0.064 0.064 0.064 0.064 0.064 0.064\n",
      " 0.064 0.064 0.064 0.064 0.064 0.064 0.064 0.064 0.064 0.064 0.064 0.064\n",
      " 0.064 0.064 0.064 0.064 0.064 0.064 0.064 0.064 0.064 0.064 0.064 0.064\n",
      " 0.064 0.064 0.064 0.064 0.064 0.064 0.064 0.064 0.064 0.064 0.064 0.064\n",
      " 0.064 0.064 0.064 0.064 0.064 0.064 0.064 0.064 0.064 0.064 0.064 0.064\n",
      " 0.064 0.064 0.064 0.064 0.064 0.064 0.064 0.064 0.064 0.064 0.064 0.064\n",
      " 0.064 0.064 0.064]\n"
     ]
    }
   ],
   "source": [
    "#define the peak flux interval\n",
    "interval = gbm['PFLX_SPECTRUM_STOP'][s]-gbm['PFLX_SPECTRUM_START'][s]\n",
    "\n",
    "print(interval)\n",
    "\n",
    "w=np.shape(interval)\n",
    "print(w)\n",
    "\n",
    "triginterval = trig['End_Time'][s]-trig['Time'][s]\n",
    "\n",
    "\n",
    "print(triginterval)\n",
    "wt=np.shape(triginterval)\n",
    "print(wt)\n",
    "print(gbm['Actual_64ms_Interval'][s])"
   ]
  },
  {
   "cell_type": "code",
   "execution_count": 61,
   "metadata": {},
   "outputs": [
    {
     "data": {
      "image/png": "[encoded data removed]",
      "text/plain": [
       "<Figure size 432x288 with 1 Axes>"
      ]
     },
     "metadata": {},
     "output_type": "display_data"
    }
   ],
   "source": [
    "trigvsgbm = plot.scatter(triginterval, interval)"
   ]
  },
  {
   "cell_type": "code",
   "execution_count": 56,
   "metadata": {},
   "outputs": [
    {
     "data": {
      "image/png": "[encoded data removed]",
      "text/plain": [
       "<Figure size 432x288 with 1 Axes>"
      ]
     },
     "metadata": {},
     "output_type": "display_data"
    }
   ],
   "source": [
    "triggertimescale = plot.plot(triginterval)"
   ]
  },
  {
   "cell_type": "code",
   "execution_count": 62,
   "metadata": {},
   "outputs": [
    {
     "data": {
      "image/png": "[encoded data removed]",
      "text/plain": [
       "<Figure size 432x288 with 1 Axes>"
      ]
     },
     "metadata": {},
     "output_type": "display_data"
    }
   ],
   "source": [
    "gbmtrigger = plot.plot(interval)"
   ]
  },
  {
   "cell_type": "code",
   "execution_count": 65,
   "metadata": {},
   "outputs": [
    {
     "name": "stdout",
     "output_type": "stream",
     "text": [
      "randgbmexposures= [[0.         0.         0.         ... 0.         0.7978219  0.64081017]\n",
      " [0.         0.         0.         ... 0.         0.91892607 0.59138951]\n",
      " [0.         0.         0.         ... 0.         0.75742454 0.74585136]\n",
      " ...\n",
      " [0.         0.         0.         ... 0.         0.         0.7996183 ]\n",
      " [0.         0.         0.         ... 0.         0.         0.91591352]\n",
      " [0.         0.         0.         ... 0.         0.         0.11181563]]\n",
      "gbmexposures= [[0.         0.         0.         ... 0.         0.91892607 0.91591352]\n",
      " [0.         0.         0.         ... 0.         0.80003399 0.7996183 ]\n",
      " [0.         0.         0.         ... 0.         0.7978219  0.74585136]\n",
      " ...\n",
      " [0.         0.         0.         ... 0.         0.         0.        ]\n",
      " [0.         0.         0.         ... 0.         0.         0.        ]\n",
      " [0.         0.         0.         ... 0.         0.         0.        ]]\n",
      "Second highest = [0.         0.         0.         ... 0.         0.80003399 0.7996183 ]\n",
      "(3000,)\n"
     ]
    }
   ],
   "source": [
    "#flux=simpf this is in ph/sec\n",
    "flux=simpfsample\n",
    "minflux=min(flux)\n",
    "maxflux=max(flux)\n",
    "gbmexposures, secondhighest, randgbmexposures = throw_grbs(fermi,minflux,maxflux)\n",
    "\n",
    "#sechighestsize=np.shape(secondhighest)\n",
    "#print(sechighestsize)\n",
    "#execute function defined above\n",
    "#throw_grbs(fermi,minflux,maxflux,pf)"
   ]
  },
  {
   "cell_type": "code",
   "execution_count": 66,
   "metadata": {},
   "outputs": [
    {
     "name": "stdout",
     "output_type": "stream",
     "text": [
      "[ 0.          0.          0.         ...  0.         15.69675788\n",
      " 13.99560223]\n",
      "<class 'numpy.ndarray'>\n",
      "<class 'numpy.ndarray'>\n",
      "<class 'numpy.ndarray'>\n"
     ]
    }
   ],
   "source": [
    "#Solve for the number of detected counts which will equal our source photons\n",
    "#Should this really be multiplied by pf or should it be multiplied by flux? pf is calculated from GBM catalog#\n",
    "#secondhighest=1\n",
    "source = simgbmcr*secondhighest*interval[r]\n",
    "#q=np.shape(simpfsample)\n",
    "#print(q)\n",
    "#y=np.shape(secondhighesit)\n",
    "#print(y)\n",
    "x=np.shape(interval)\n",
    "#print(x)\n",
    "print(source)\n",
    "print(type(interval[r]))\n",
    "print(type(secondhighest))\n",
    "print(type(simgbmcr))\n",
    "#print(simpfsample)"
   ]
  },
  {
   "cell_type": "code",
   "execution_count": 67,
   "metadata": {},
   "outputs": [
    {
     "name": "stdout",
     "output_type": "stream",
     "text": [
      "[ 0.          0.          0.         ...  0.         51.20217551\n",
      " 51.17557095]\n"
     ]
    }
   ],
   "source": [
    "#Assuming a background count rate. units: cts/s\n",
    "bckgrd=1000\n",
    "#scale the background count rate \n",
    "scaledbckgrd = bckgrd*secondhighest*interval[r]\n",
    "print(scaledbckgrd)"
   ]
  },
  {
   "cell_type": "code",
   "execution_count": 68,
   "metadata": {},
   "outputs": [
    {
     "name": "stdout",
     "output_type": "stream",
     "text": [
      "[0. 0. 0. ... 0. 0. 0.]\n"
     ]
    },
    {
     "name": "stderr",
     "output_type": "stream",
     "text": [
      "/home/alyson/anaconda3/lib/python3.6/site-packages/ipykernel_launcher.py:5: RuntimeWarning: invalid value encountered in double_scalars\n",
      "  \"\"\"\n"
     ]
    }
   ],
   "source": [
    "#calculate the significance of the second highest exposure detector. If the significance is greater than 4.5 sigma than the burst is detectable.\n",
    "#creating an array of zeros that I can \n",
    "detect = np.zeros(len(simpfsample))\n",
    "for u in range(len(simpfsample)):\n",
    "    sig = source[u] / (math.sqrt(source[u] + scaledbckgrd[u]))\n",
    "    if sig > 4.5:\n",
    "        detect[u] = 1.0\n",
    "    else:\n",
    "        detect[u] = 0.0\n",
    "\n",
    "print(detect)\n"
   ]
  },
  {
   "cell_type": "code",
   "execution_count": 69,
   "metadata": {},
   "outputs": [
    {
     "data": {
      "image/png": "[encoded data removed]",
      "text/plain": [
       "<Figure size 1440x360 with 2 Axes>"
      ]
     },
     "metadata": {},
     "output_type": "display_data"
    }
   ],
   "source": [
    "#Creating plot of peak flux versus counts for real and simulated GBM\n",
    "w=np.where(pf>0)[0]\n",
    "wg = np.where(simgbmcr*detect>0)[0]\n",
    "#print(np.log10(pf[w]))\n",
    "fig=plot.figure(figsize=(20,5))\n",
    "plot.subplot(1,2,1)\n",
    "plot.hist(gbmcr[w],label='real GBM',bins=np.logspace(1,6,40),color='orange')\n",
    "plot.hist(simgbmcr[wg],label='Simulated GBM',bins=np.logspace(1,6,40),alpha=0.7,color='blue')\n",
    "plot.xscale('log')\n",
    "plot.legend()\n",
    "plot.subplot(1,2,2)\n",
    "#plot.hist(flux,label='All',bins=np.logspace(-1,2,40),color='green')\n",
    "#pf has been gathered from the GBM catalog\n",
    "plot.hist(pf[w],label='real GBM',bins=np.logspace(-1,4,40),color='orange')\n",
    "# this is the simulated GBM\n",
    "plot.hist(simpfsample[wg],label='Simulated GBM',bins=np.logspace(-1,4,40),alpha=0.7,color='blue')\n",
    "#plot.hist(flux[w],label='BC',bins=np.logspace(-1,2,40),alpha=0.7,color='red')\n",
    "plot.xscale('log')\n",
    "plot.legend()\n",
    "\n",
    "plot.show()\n",
    "        "
   ]
  },
  {
   "cell_type": "code",
   "execution_count": null,
   "metadata": {},
   "outputs": [],
   "source": []
  },
  {
   "cell_type": "code",
   "execution_count": null,
   "metadata": {},
   "outputs": [],
   "source": []
  }
 ],
 "metadata": {
  "kernelspec": {
   "display_name": "Python 3",
   "language": "python",
   "name": "python3"
  },
  "language_info": {
   "codemirror_mode": {
    "name": "ipython",
    "version": 3
   },
   "file_extension": ".py",
   "mimetype": "text/x-python",
   "name": "python",
   "nbconvert_exporter": "python",
   "pygments_lexer": "ipython3",
   "version": "3.6.5"
  }
 },
 "nbformat": 4,
 "nbformat_minor": 2
}
