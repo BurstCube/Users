{
 "cells": [
  {
   "cell_type": "code",
   "execution_count": 1,
   "metadata": {},
   "outputs": [],
   "source": [
    "import numpy as np\n",
    "import matplotlib.pylab as plot\n",
    "from astropy.io import ascii,fits\n",
    "from scipy import interpolate\n",
    "import grb_catalogs_copy\n",
    "from BurstCube.LocSim.Detector import *\n",
    "from BurstCube.LocSim.Spacecraft import *\n",
    "from astropy.coordinates import SkyCoord\n",
    "from astropy import units as u\n",
    "from scipy.optimize import curve_fit\n",
    "import math\n",
    "from astropy.table import Table\n",
    "import pandas as pd"
   ]
  },
  {
   "cell_type": "code",
   "execution_count": 2,
   "metadata": {},
   "outputs": [],
   "source": [
    "## code to use when reading in GBM effective area in order to get data into the desired format\n",
    "def getGBMdata(gbmfile=None):\n",
    "    \"\"\"Reads the GBM NaI effective area file and returns a numpy array\n",
    "    with two columns ``energy`` and ``aeff``.\n",
    "    Parameters\n",
    "    ----------\n",
    "    gbmfile : string\n",
    "       Name of file that contains the GBM data.\n",
    "    Returns\n",
    "    ----------\n",
    "    gbmdata : array \n",
    "    numpy array with two columns ``energy`` and ``aeff``\n",
    "    \"\"\"\n",
    "    \n",
    "    return np.genfromtxt(gbmfile,skip_header=2,names=('energy', 'aeff'))\n"
   ]
  },
  {
   "cell_type": "code",
   "execution_count": 3,
   "metadata": {},
   "outputs": [],
   "source": [
    "## bit of useful code for interpolating in log space\n",
    "def loginterpol(x,y,x1):\n",
    "\n",
    "    f=interpolate.interp1d(np.log10(x),np.log10(y),bounds_error=False,fill_value=\"extrapolate\",kind='linear')\n",
    "    y1=10**f(np.log10(x1))\n",
    "\n",
    "    return y1\n",
    "\n",
    "def loginterpol2d(x,y,z,x1,y1):\n",
    "\n",
    "    wz=np.where(z==0)[0]\n",
    "    zz=z\n",
    "    zz[wz]=1.\n",
    "    f=interpolate.interp2d(x,y,np.log10(zz),bounds_error=False,fill_value=\"extrapolate\",kind='linear')\n",
    "    z1=10**f(x1,y1)"
   ]
  },
  {
   "cell_type": "code",
   "execution_count": 4,
   "metadata": {},
   "outputs": [],
   "source": [
    "#read in GBM Trigger Catalog\n",
    "trigfit=fits.open('gbmtrigcat.fits')\n",
    "trig=trigfit[1].data\n",
    "#print(np.shape(gbm))\n",
    "#(np.shape(gbm))\n",
    "#print(Table.read('gbmtrigcat.fits'))\n",
    "#print(Table.read('gbmgrbcat_copy.fits'))\n",
    "\n",
    "gbmfit=fits.open('gbmgrbcat_copy.fits')\n",
    "gbm=gbmfit[1].data\n",
    "\n",
    "#trigfit=fits.open('GRBsampletrig.fits')\n",
    "#trig=trigfit[1].data\n",
    "\n",
    "#select the GRBs I am interested in. I can connect these together into one statement\n",
    "grb1 = gbm['Name'] == 'GRB120817168'\n",
    "grbs1 = gbm[grb1]\n",
    "#gbm[grb1]\n",
    "\n",
    "grb2 = gbm['Name'] == 'GRB170817529'\n",
    "grb1708 = gbm[grb2]\n",
    "#grbs = np.concatenate([gbm[grb1],gbm[grb2]])\n",
    "\n",
    "#print(grbs)"
   ]
  },
  {
   "cell_type": "code",
   "execution_count": 5,
   "metadata": {},
   "outputs": [],
   "source": [
    "## generate random positions on the sky with equal area probability\n",
    "def random_sky(n=1):\n",
    "\n",
    "    u=np.random.rand(n)\n",
    "    v=np.random.rand(n)\n",
    "\n",
    "    phi=2*np.pi*u\n",
    "    theta=np.arccos(2*v-1.)\n",
    "\n",
    "    dec=-np.degrees(theta-np.pi/2.)\n",
    "    ra=np.degrees(np.pi*2-phi)\n",
    "\n",
    "    return ra,dec"
   ]
  },
  {
   "cell_type": "code",
   "execution_count": 6,
   "metadata": {},
   "outputs": [],
   "source": [
    "## read in the GBM Aeff\n",
    "aeff_gbm = getGBMdata('/home/alyson/NASA/Simulation/BurstCube/Users/ajoens/gbm_effective_area.dat')\n",
    "#print(aeff_gbm)"
   ]
  },
  {
   "cell_type": "code",
   "execution_count": 7,
   "metadata": {},
   "outputs": [
    {
     "name": "stdout",
     "output_type": "stream",
     "text": [
      "[140.69325477]\n",
      "['PFLX_PLAW']\n",
      "29622.49351795335\n",
      "[1.047123]\n"
     ]
    }
   ],
   "source": [
    "#Integrating the best fit spectrum for each GRB in the energy range of 50-300 KeV to get max. observed photon flux. \n",
    "#This will give us the photon flux in units of ph/cm^2/s. Currently only doing this for GBM and will then add in BurstCube\n",
    "mo=grb1708['PFLX_BEST_FITTING_MODEL']\n",
    "m1 = grbs1['PFLX_BEST_FITTING_MODEL']\n",
    "#f=np.zeros([len(s),nsims]) # produces an array of zeros with the given shape and type\n",
    "pf1708=np.zeros(len(grb1708))\n",
    "gbmcr1708=np.zeros(len(grb1708))\n",
    "pf1=np.zeros(len(grb1708))\n",
    "gbmcr1=np.zeros(len(grb1708))\n",
    "outE=np.logspace(np.log10(50),np.log10(300),100) # returns numbers spaced evenly on a log scale\n",
    "for i in range(len(grb1708)):\n",
    "    #for j in range(nsims):\n",
    "        #E=np.array(eng[w[j]+1:w[j+1]+1])\n",
    "        #AeffBC=loginterpol(E,aeffs['aeff'][w[j]+1:w[j+1]+1],outE)\n",
    "        AeffGBM=loginterpol(aeff_gbm['energy'],aeff_gbm['aeff'],outE) #eng[w[j]+1:w[j+1]+1])\n",
    "        #Aratio=(AeffBC/AeffGBM)\n",
    "        # not sure what *grb_catalogs_copy.pl(outE,gbm['PFLX_PLAW_INDEX'][s[i]] is and why we need it. I think we only need the model photon flux times the aeffGBM and we want it integrated over the energy range provided in outE\n",
    "        # this should give us an array of the maximum observed photon flux for GBM\n",
    "        if mo[i]=='PFLX_PLAW':\n",
    "            gbmcr1708[i]=np.trapz(grb1708['PFLX_PLAW_AMPL']*grb_catalogs_copy.pl(outE,grb1708['PFLX_PLAW_INDEX'])*AeffGBM,outE)\n",
    "            pf1708[i]=np.trapz(grb1708['PFLX_PLAW_AMPL']*grb_catalogs_copy.pl(outE,grb1708['PFLX_PLAW_INDEX']),outE)\n",
    "            #pf[i]=gbm['PFLX_PLAW_PHTFLUX'][s[i]]\n",
    "        if mo[i]=='PFLX_COMP':\n",
    "            gbmcr1708[i]=np.trapz(grb1708['PFLX_COMP_AMPL']*grb_catalogs_copy.comp(outE,grb1708['PFLX_COMP_INDEX'],grb1708['PFLX_COMP_EPEAK'])*AeffGBM,outE)\n",
    "            pf1708[i]=np.trapz(grb1708['PFLX_COMP_AMPL']*grb_catalogs_copy.comp(outE,grb1708['PFLX_COMP_INDEX'],grb1708['PFLX_COMP_EPEAK']),outE)\n",
    "            #pf[i]=gbm['PFLX_COMP_PHTFLUX'][s[i]]\n",
    "        if mo[i]=='PFLX_BAND':\n",
    "            gbmcr1708[i]=np.trapz(grb1708['PFLX_BAND_AMPL']*grb_catalogs_copy.band(outE,grb1708['PFLX_BAND_ALPHA'],grb1708['PFLX_BAND_EPEAK'],grb1708['PFLX_BAND_BETA'])*AeffGBM,outE)\n",
    "            pf1708[i]=np.trapz(grb1708['PFLX_BAND_AMPL']*grb_catalogs_copy.band(outE,grb1708['PFLX_BAND_ALPHA'],grb1708['PFLX_BAND_EPEAK'],grb1708['PFLX_BAND_BETA']),outE)\n",
    "            #pf[i]=gbm['PFLX_BAND_PHTFLUX'][s[i]]\n",
    "        if mo[i]=='PFLX_SBPL':\n",
    "            gbmcr1708[i]=np.trapz(grb1708['PFLX_SBPL_AMPL']*grb_catalogs_copy.sbpl(outE,grb1708['PFLX_SBPL_INDX1'],grb1708['PFLX_SBPL_BRKEN'],grb1708['PFLX_SBPL_INDX2'])*AeffGBM,outE)\n",
    "            pf1708[i]=np.trapz(grb1708['PFLX_SBPL_AMPL']*grb_catalogs_copy.sbpl(outE,grb1708['PFLX_SBPL_INDX1'],grb1708['PFLX_SBPL_BRKEN'],grb1708['PFLX_SBPL_INDX2']),outE)\n",
    "            #pf[i]=gbm['PFLX_SBPL_PHTFLUX'][s[i]]\n",
    "        if m1[i]=='PFLX_PLAW':\n",
    "            gbmcr1[i]=np.trapz(grbs1['PFLX_PLAW_AMPL']*grb_catalogs_copy.pl(outE,grbs1['PFLX_PLAW_INDEX'])*AeffGBM,outE)\n",
    "            pf1[i]=np.trapz(grbs1['PFLX_PLAW_AMPL']*grb_catalogs_copy.pl(outE,grbs1['PFLX_PLAW_INDEX']),outE)\n",
    "            #pf[i]=gbm['PFLX_PLAW_PHTFLUX'][s[i]]\n",
    "        if m1[i]=='PFLX_COMP':\n",
    "            gbmcr1[i]=np.trapz(grbs1['PFLX_COMP_AMPL']*grb_catalogs_copy.comp(outE,grbs1['PFLX_COMP_INDEX'],grbs1['PFLX_COMP_EPEAK'])*AeffGBM,outE)\n",
    "            pf1[i]=np.trapz(grbs1['PFLX_COMP_AMPL']*grb_catalogs_copy.comp(outE,grbs1['PFLX_COMP_INDEX'],grbs1['PFLX_COMP_EPEAK']),outE)\n",
    "            #pf[i]=gbm['PFLX_COMP_PHTFLUX'][s[i]]\n",
    "        if m1[i]=='PFLX_BAND':\n",
    "            gbmcr1[i]=np.trapz(grbs1['PFLX_BAND_AMPL']*grb_catalogs_copy.band(outE,grbs1['PFLX_BAND_ALPHA'],grbs1['PFLX_BAND_EPEAK'],grbs1['PFLX_BAND_BETA'])*AeffGBM,outE)\n",
    "            pf1[i]=np.trapz(grbs1['PFLX_BAND_AMPL']*grb_catalogs_copy.band(outE,grbs1['PFLX_BAND_ALPHA'],grbs1['PFLX_BAND_EPEAK'],grbs1['PFLX_BAND_BETA']),outE)\n",
    "            #pf[i]=gbm['PFLX_BAND_PHTFLUX'][s[i]]\n",
    "        if m1[i]=='PFLX_SBPL':\n",
    "            gbmcr1[i]=np.trapz(grbs1['PFLX_SBPL_AMPL']*grb_catalogs_copy.sbpl(outE,grbs1['PFLX_SBPL_INDX1'],grbs1['PFLX_SBPL_BRKEN'],grbs1['PFLX_SBPL_INDX2'])*AeffGBM,outE)\n",
    "            pf1[i]=np.trapz(grbs1['PFLX_SBPL_AMPL']*grb_catalogs_copy.sbpl(outE,grbs1['PFLX_SBPL_INDX1'],grbs1['PFLX_SBPL_BRKEN'],grbs1['PFLX_SBPL_INDX2']),outE)\n",
    "            #pf[i]=gbm['PFLX_SBPL_PHTFLUX'][s[i]]\n",
    "\n",
    "pf = np.array(pf1708)\n",
    "#gbmcr = np.array(gbmcr)\n",
    "\n",
    "\n",
    "print(gbmcr1708)\n",
    "print(mo)\n",
    "print(np.trapz(grb1708['Flnc_Plaw_Phtfluxb']*AeffGBM,outE))\n",
    "print(grb1708['Flnc_Plaw_Phtfluxb'])"
   ]
  },
  {
   "cell_type": "code",
   "execution_count": 8,
   "metadata": {},
   "outputs": [
    {
     "name": "stdout",
     "output_type": "stream",
     "text": [
      "calculated photon flux 1708 =  [1.15041323]\n",
      "photon flux found in catalog 1708 =  [1.047123]\n",
      "calculated photon count rate 1708 =  [140.69325477]\n",
      "actual count rate is about 75\n",
      "photon fluence found in catalog 1708 =  [0.2670897]\n"
     ]
    }
   ],
   "source": [
    "# comparing our calculated values to other values found in the catalog\n",
    "print('calculated photon flux 1708 = ',pf1708)\n",
    "print('photon flux found in catalog 1708 = ',grb1708['Flnc_Plaw_Phtfluxb'])\n",
    "print('calculated photon count rate 1708 = ',gbmcr1708)\n",
    "print('actual count rate is about 75')\n",
    "print('photon fluence found in catalog 1708 = ',grb1708['Flnc_Plaw_Phtflncb'])\n"
   ]
  },
  {
   "cell_type": "code",
   "execution_count": 9,
   "metadata": {},
   "outputs": [],
   "source": [
    "#using SkyCoord to convert coordinates to degrees and solve for distances.\n",
    "def separation(ra1,dec1,ra2,dec2):\n",
    "\n",
    "    c=SkyCoord(ra=ra1*u.deg,dec=dec1*u.deg)\n",
    "    d=SkyCoord(ra=ra2*u.deg,dec=dec2*u.deg)\n",
    "    dist=c.separation(d)\n",
    "    dist=dist.value\n",
    "\n",
    "    return dist"
   ]
  },
  {
   "cell_type": "code",
   "execution_count": 10,
   "metadata": {},
   "outputs": [],
   "source": [
    "#this all together will give us the number of source photons\n",
    "\n",
    "## setup GBM\n",
    "gbm_pointings = {'01': ('45:54:0','20:36:0'),\n",
    "            '02': ('45:6:0','45:18:0'),\n",
    "            '03': ('58:24:0','90:12:0'),\n",
    "            '04': ('314:54:0','45:12:0'),\n",
    "            '05': ('303:12:0','90:18:0'),\n",
    "            '06': ('3:24:0','89:48:0'),\n",
    "            '07': ('224:54:0','20:24:0'),\n",
    "            '08': ('224:36:0','46:12:0'),\n",
    "            '09': ('236:36:0','90:0:0'),\n",
    "            '10': ('135:12:0','45:36:0'),\n",
    "            '11': ('123:42:0','90:24:0'),\n",
    "            '12': ('183:42:0','90:18:0')}\n",
    "\n",
    "fermi = Spacecraft(gbm_pointings,window=0.1)\n",
    "\n",
    "res = 250\n",
    "rr,dd = np.meshgrid(np.linspace(0,360,res,endpoint=False),np.linspace(-90,90,res))\n",
    "exposure_positions = np.vstack([rr.ravel(),dd.ravel()])\n",
    "gbm_exposures = np.array([[ detector.exposure(position[0],position[1]) for position in exposure_positions.T] \n",
    "                      for detector in fermi.detectors])"
   ]
  },
  {
   "cell_type": "code",
   "execution_count": 11,
   "metadata": {},
   "outputs": [],
   "source": [
    "# now that GBM's pointings are set up we will throw GRBs at it and determine it's exposure for each GRB. \n",
    "#generate GRBs and throw them at GBM\n",
    "\n",
    "def throw_grbs(fermi,minflux,maxflux):\n",
    "    \n",
    "    nsims=int(np.round(len(grb1708))) \n",
    "    ra,dec=random_sky(nsims)\n",
    "    ra=np.array(ra)-180\n",
    "    dec=np.array(dec)\n",
    "    #sigma=0.65,mean=1.5\n",
    " \n",
    "    #change the sigma and mean in order to create a log fit for simulated GBM. Automate this fit.\n",
    "    #flux=np.random.lognormal(size=nsims,sigma=0.55,mean=0.6)*(np.log10(maxflux)-np.log10(minflux))+np.log10(minflux)\n",
    "\n",
    "    #GBM exposures for each random GRB. Believe this is an array with the different exposures for each detector\n",
    "    randgbmexposures = np.array([[detector.exposure(ra[i],dec[i]) for i in range(nsims)] for detector in fermi.detectors])\n",
    "    print(\"randgbmexposures=\", randgbmexposures)\n",
    "\n",
    "    #Order randgbmexposures into descending order\n",
    "    for column in randgbmexposures.T:\n",
    "        newrandgbm = -np.sort(-randgbmexposures.T) \n",
    "    gbmexposures = np.transpose(newrandgbm)\n",
    "    print(\"gbmexposures=\",gbmexposures)\n",
    "    \n",
    "    #Select the second highest value. \n",
    "    #We will use this to ensure the second highest exposure detector has a sig >4.5\n",
    "    secondhighest = gbmexposures[1,:]\n",
    "    print(\"Second highest =\", secondhighest)\n",
    "\n",
    "        \n",
    "    return gbmexposures, secondhighest, randgbmexposures"
   ]
  },
  {
   "cell_type": "code",
   "execution_count": 12,
   "metadata": {},
   "outputs": [
    {
     "name": "stdout",
     "output_type": "stream",
     "text": [
      "[0.064]\n"
     ]
    }
   ],
   "source": [
    "#define the peak flux interval\n",
    "#interval = grb1708['PFLX_SPECTRUM_STOP']-grb1708['PFLX_SPECTRUM_START']\n",
    "interval = grb1708['PFLX_SPECTRUM_STOP']-grb1708['PFLX_SPECTRUM_START']\n",
    "#interval = trig['Trigger_Timescale'][s] \n",
    "interval = msinterval/1000\n",
    "print(interval)\n",
    "\n",
    "\n",
    "#triginterval = trig['End_Time'][s]-trig['Time'][s]\n",
    "\n",
    "\n",
    "#print(triginterval)\n",
    "#wt=np.shape(triginterval)\n",
    "#print(wt)\n",
    "#print(gbm['Actual_64ms_Interval'][s])"
   ]
  },
  {
   "cell_type": "code",
   "execution_count": 13,
   "metadata": {},
   "outputs": [
    {
     "name": "stdout",
     "output_type": "stream",
     "text": [
      "randgbmexposures= [[0.        ]\n",
      " [0.        ]\n",
      " [0.        ]\n",
      " [0.99783383]\n",
      " [0.89390609]\n",
      " [0.44804723]\n",
      " [0.11071474]\n",
      " [0.05289234]\n",
      " [0.35381667]\n",
      " [0.        ]\n",
      " [0.        ]\n",
      " [0.        ]]\n",
      "gbmexposures= [[0.99783383]\n",
      " [0.89390609]\n",
      " [0.44804723]\n",
      " [0.35381667]\n",
      " [0.11071474]\n",
      " [0.05289234]\n",
      " [0.        ]\n",
      " [0.        ]\n",
      " [0.        ]\n",
      " [0.        ]\n",
      " [0.        ]\n",
      " [0.        ]]\n",
      "Second highest = [0.89390609]\n"
     ]
    }
   ],
   "source": [
    "flux=pf\n",
    "minflux=min(flux)\n",
    "maxflux=max(flux)\n",
    "gbmexposures, secondhighest, randgbmexposures = throw_grbs(fermi,minflux,maxflux)\n",
    "\n"
   ]
  },
  {
   "cell_type": "code",
   "execution_count": 62,
   "metadata": {},
   "outputs": [
    {
     "name": "stdout",
     "output_type": "stream",
     "text": [
      "[64.39247767]\n",
      "countrate= [140.69325477]\n",
      "[0.52594792]\n"
     ]
    }
   ],
   "source": [
    "interval = .256*2\n",
    "secondhightest=1.\n",
    "source = gbmcr1708*secondhighest*interval\n",
    "#print(source)\n",
    "#source = gbmcr1708*secondhighest*.256\n",
    "print(source)\n",
    "print('countrate=',gbmcr1708)\n",
    "\n",
    "\n",
    "sourcepf = grb1708['Pflx_Plaw_Phtfluxb']*secondhighest*interval\n",
    "print(sourcepf)"
   ]
  },
  {
   "cell_type": "code",
   "execution_count": 63,
   "metadata": {},
   "outputs": [
    {
     "name": "stdout",
     "output_type": "stream",
     "text": [
      "[14878.75704262]\n"
     ]
    }
   ],
   "source": [
    "countrate = np.trapz(grb1708['Pflx_Plaw_Phtfluxb']*AeffGBM,outE)*secondhighest*interval\n",
    "\n",
    "print(countrate)"
   ]
  },
  {
   "cell_type": "code",
   "execution_count": 64,
   "metadata": {},
   "outputs": [
    {
     "name": "stdout",
     "output_type": "stream",
     "text": [
      "[137.30397619]\n"
     ]
    }
   ],
   "source": [
    "#Assuming a background count rate. units: cts/s\n",
    "bckgrd=300\n",
    "#scale the background count rate \n",
    "scaledbckgrd = bckgrd*secondhighest*interval\n",
    "print(scaledbckgrd)"
   ]
  },
  {
   "cell_type": "code",
   "execution_count": 65,
   "metadata": {},
   "outputs": [
    {
     "name": "stdout",
     "output_type": "stream",
     "text": [
      "[4.53404686]\n"
     ]
    }
   ],
   "source": [
    "sig = source / (math.sqrt(source + scaledbckgrd))\n",
    "print(sig)"
   ]
  },
  {
   "cell_type": "code",
   "execution_count": 60,
   "metadata": {},
   "outputs": [
    {
     "name": "stdout",
     "output_type": "stream",
     "text": [
      "[85.85659132]\n"
     ]
    }
   ],
   "source": [
    "sig = countrate / (math.sqrt(countrate + scaledbckgrd))\n",
    "print(sig)"
   ]
  },
  {
   "cell_type": "code",
   "execution_count": null,
   "metadata": {},
   "outputs": [],
   "source": []
  },
  {
   "cell_type": "code",
   "execution_count": null,
   "metadata": {},
   "outputs": [],
   "source": []
  }
 ],
 "metadata": {
  "kernelspec": {
   "display_name": "Python 3",
   "language": "python",
   "name": "python3"
  },
  "language_info": {
   "codemirror_mode": {
    "name": "ipython",
    "version": 3
   },
   "file_extension": ".py",
   "mimetype": "text/x-python",
   "name": "python",
   "nbconvert_exporter": "python",
   "pygments_lexer": "ipython3",
   "version": "3.6.5"
  }
 },
 "nbformat": 4,
 "nbformat_minor": 2
}
