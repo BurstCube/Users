{
 "cells": [
  {
   "cell_type": "code",
   "execution_count": 1,
   "metadata": {},
   "outputs": [],
   "source": [
    "import numpy as np\n",
    "import matplotlib.pylab as plot\n",
    "from astropy.io import ascii,fits\n",
    "from scipy import interpolate\n",
    "import grb_catalogs_copy\n",
    "from BurstCube.LocSim.Detector import *\n",
    "from BurstCube.LocSim.Spacecraft import *\n",
    "from astropy.coordinates import SkyCoord\n",
    "from astropy import units as u\n",
    "from scipy.optimize import curve_fit"
   ]
  },
  {
   "cell_type": "code",
   "execution_count": 2,
   "metadata": {},
   "outputs": [],
   "source": [
    "# read in GBM GRB catalog (first 9 years)\n",
    "gbm=fits.open('gbmgrbcat_copy.fits')\n",
    "gbm=gbm[1].data"
   ]
  },
  {
   "cell_type": "code",
   "execution_count": 3,
   "metadata": {},
   "outputs": [],
   "source": [
    "## code to use when reading in GBM effective area in order to get data into the desired format\n",
    "def getGBMdata(gbmfile=None):\n",
    "    \"\"\"Reads the GBM NaI effective area file and returns a numpy array\n",
    "    with two columns ``energy`` and ``aeff``.\n",
    "    Parameters\n",
    "    ----------\n",
    "    gbmfile : string\n",
    "       Name of file that contains the GBM data.\n",
    "    Returns\n",
    "    ----------\n",
    "    gbmdata : array \n",
    "    numpy array with two columns ``energy`` and ``aeff``\n",
    "    \"\"\"\n",
    "\n",
    "   # from numpy import genfromtxt\n",
    "    #from os import path\n",
    "\n",
    "    #gbmfile = path.expandvars(gbmfile)\n",
    "    \n",
    "    return np.genfromtxt(gbmfile,skip_header=2,names=('energy', 'aeff'))"
   ]
  },
  {
   "cell_type": "code",
   "execution_count": 4,
   "metadata": {},
   "outputs": [],
   "source": [
    "## bit of useful code for interpolating in log space\n",
    "def loginterpol(x,y,x1):\n",
    "\n",
    "    f=interpolate.interp1d(np.log10(x),np.log10(y),bounds_error=False,fill_value=\"extrapolate\",kind='linear')\n",
    "    y1=10**f(np.log10(x1))\n",
    "\n",
    "    return y1\n",
    "\n",
    "def loginterpol2d(x,y,z,x1,y1):\n",
    "\n",
    "    wz=np.where(z==0)[0]\n",
    "    zz=z\n",
    "    zz[wz]=1.\n",
    "    f=interpolate.interp2d(x,y,np.log10(zz),bounds_error=False,fill_value=\"extrapolate\",kind='linear')\n",
    "    z1=10**f(x1,y1)"
   ]
  },
  {
   "cell_type": "code",
   "execution_count": 5,
   "metadata": {},
   "outputs": [],
   "source": [
    "## generate random positions on the sky with equal area probability\n",
    "def random_sky(n=1):\n",
    "\n",
    "    u=np.random.rand(n)\n",
    "    v=np.random.rand(n)\n",
    "\n",
    "    phi=2*np.pi*u\n",
    "    theta=np.arccos(2*v-1.)\n",
    "\n",
    "    dec=-np.degrees(theta-np.pi/2.)\n",
    "    ra=np.degrees(np.pi*2-phi)\n",
    "\n",
    "    return ra,dec"
   ]
  },
  {
   "cell_type": "code",
   "execution_count": 6,
   "metadata": {},
   "outputs": [
    {
     "name": "stdout",
     "output_type": "stream",
     "text": [
      "[(8.10939400e+00,   6.043869 ) (8.27917900e+00,   7.1733994)\n",
      " (8.54091550e+00,   9.051345 ) (8.71935400e+00,  11.009052 )\n",
      " (9.09046600e+00,  13.555708 ) (9.47675300e+00,  17.315489 )\n",
      " (9.77528500e+00,  23.22683  ) (1.05165080e+01,  30.780512 )\n",
      " (1.16751795e+01,  43.367252 ) (1.26926560e+01,  58.89598  )\n",
      " (1.50095340e+01,  80.0014   ) (1.83216400e+01,  97.346825 )\n",
      " (2.26054130e+01, 106.105095 ) (3.13079800e+01, 120.00855  )\n",
      " (3.26618730e+01, 102.37214  ) (4.11476300e+01, 123.06248  )\n",
      " (8.95676700e+01, 132.68503  ) (1.45272660e+02, 131.2247   )\n",
      " (3.44349330e+02,  75.82555  ) (1.07285790e+03,  42.783394 )\n",
      " (2.76511250e+03,  30.818037 ) (9.45941300e+03,  32.459995 )]\n"
     ]
    }
   ],
   "source": [
    "## read in the GBM Aeff\n",
    "aeff_gbm = getGBMdata('/home/alyson/NASA/Simulation/BurstCube/Users/ajoens/gbm_effective_area.dat')\n",
    "print(aeff_gbm)"
   ]
  },
  {
   "cell_type": "code",
   "execution_count": 7,
   "metadata": {},
   "outputs": [],
   "source": [
    "## separate GBM short & long GRBs\n",
    "w=np.where(gbm['FLUX_1024']>0)\n",
    "gbm=gbm[w]\n",
    "s=np.where(gbm['T90'] <= 2.)[0]\n",
    "l=np.where(gbm['T90'] > 2.)[0]\n",
    "m=np.where(gbm['PFLX_BEST_FITTING_MODEL'][s] == ' ')"
   ]
  },
  {
   "cell_type": "code",
   "execution_count": 8,
   "metadata": {},
   "outputs": [],
   "source": [
    "#Integrating the best fit spectrum for each GRB in the energy range of 50-300 KeV. \n",
    "#This will give us the photon flux in units of ph/cm^2/s. Currently only doing this for GBM and will then add in BurstCube\n",
    "# the parts below I have commented out are what I believe are for BC and currently I am focusing on GBM\n",
    "mo=gbm['PFLX_BEST_FITTING_MODEL'][s]\n",
    "#f=np.zeros([len(s),nsims]) # produces an array of zeros with the given shape and type\n",
    "pf=np.zeros(len(s))\n",
    "outE=np.logspace(np.log10(50),np.log10(300),20) # returns numbers spaced evenly on a log scale\n",
    "for i in range(len(s)):\n",
    "    #for j in range(nsims):\n",
    "        #E=np.array(eng[w[j]+1:w[j+1]+1])\n",
    "        #AeffBC=loginterpol(E,aeffs['aeff'][w[j]+1:w[j+1]+1],outE)\n",
    "        AeffGBM=loginterpol(aeff_gbm['energy'],aeff_gbm['aeff'],outE)#eng[w[j]+1:w[j+1]+1])\n",
    "        #Aratio=(AeffBC/AeffGBM)\n",
    "        # not sure what *grb_catalogs_copy.pl(outE,gbm['PFLX_PLAW_INDEX'][s[i]] is and why we need it. I think we only need the model photon flux times the aeffGBM and we want it integrated over the energy range provided in outE\n",
    "        # this should give us an array of the maximum observed photon flux for GBM\n",
    "        if mo[i]=='PFLX_PLAW':\n",
    "            pf[i]=np.trapz(gbm['PFLX_PLAW_AMPL'][s[i]]*grb_catalogs_copy.pl(outE,gbm['PFLX_PLAW_INDEX'][s[i]])*AeffGBM,outE)\n",
    "            #pf[i]=gbm['PFLX_PLAW_PHTFLUX'][s[i]]\n",
    "        if mo[i]=='PFLX_COMP':\n",
    "            pf[i]=np.trapz(gbm['PFLX_COMP_AMPL'][s[i]]*grb_catalogs_copy.comp(outE,gbm['PFLX_COMP_INDEX'][s[i]],gbm['PFLX_COMP_EPEAK'][s[i]])*AeffGBM,outE)\n",
    "            #pf[i]=gbm['PFLX_COMP_PHTFLUX'][s[i]]\n",
    "        if mo[i]=='PFLX_BAND':\n",
    "            pf[i]=np.trapz(gbm['PFLX_BAND_AMPL'][s[i]]*grb_catalogs_copy.band(outE,gbm['PFLX_BAND_ALPHA'][s[i]],gbm['PFLX_BAND_EPEAK'][s[i]],gbm['PFLX_BAND_BETA'][s[i]])*AeffGBM,outE)\n",
    "            #pf[i]=gbm['PFLX_BAND_PHTFLUX'][s[i]]\n",
    "        if mo[i]=='PFLX_SBPL':\n",
    "            pf[i]=np.trapz(gbm['PFLX_SBPL_AMPL'][s[i]]*grb_catalogs_copy.sbpl(outE,gbm['PFLX_SBPL_INDX1'][s[i]],gbm['PFLX_SBPL_BRKEN'][s[i]],gbm['PFLX_SBPL_INDX2'][s[i]])*AeffGBM,outE)\n",
    "            #pf[i]=gbm['PFLX_SBPL_PHTFLUX'][s[i]]\n",
    "            \n",
    "#print(pf)"
   ]
  },
  {
   "cell_type": "code",
   "execution_count": 9,
   "metadata": {},
   "outputs": [],
   "source": [
    "# we want to solve for the number of detected counts. We need to create two more arrays- 1 for exposure and the other for interval.\n",
    "#Interval is given in the GBM catalog however we need to know exposure. This should be found from the exposure map for each burst.\n",
    "#this all together will give us the number of source photons\n",
    "\n",
    "## setup GBM\n",
    "gbm_pointings = {'01': ('45:54:0','20:36:0'),\n",
    "            '02': ('45:6:0','45:18:0'),\n",
    "            '03': ('58:24:0','90:12:0'),\n",
    "            '04': ('314:54:0','45:12:0'),\n",
    "            '05': ('303:12:0','90:18:0'),\n",
    "            '06': ('3:24:0','89:48:0'),\n",
    "            '07': ('224:54:0','20:24:0'),\n",
    "            '08': ('224:36:0','46:12:0'),\n",
    "            '09': ('236:36:0','90:0:0'),\n",
    "            '10': ('135:12:0','45:36:0'),\n",
    "            '11': ('123:42:0','90:24:0'),\n",
    "            '12': ('183:42:0','90:18:0')}\n",
    "\n",
    "fermi = Spacecraft(gbm_pointings,window=0.1)\n",
    "\n",
    "res = 250\n",
    "rr,dd = np.meshgrid(np.linspace(0,360,res,endpoint=False),np.linspace(-90,90,res))\n",
    "exposure_positions = np.vstack([rr.ravel(),dd.ravel()])\n",
    "gbm_exposures = np.array([[ detector.exposure(position[0],position[1]) for position in exposure_positions.T] \n",
    "                      for detector in fermi.detectors])"
   ]
  },
  {
   "cell_type": "code",
   "execution_count": 10,
   "metadata": {},
   "outputs": [],
   "source": [
    "#using SkyCoord to convert coordinates to degrees and solve for distances.\n",
    "\n",
    "def separation(ra1,dec1,ra2,dec2):\n",
    "\n",
    "    c=SkyCoord(ra=ra1*u.deg,dec=dec1*u.deg)\n",
    "    d=SkyCoord(ra=ra2*u.deg,dec=dec2*u.deg)\n",
    "    dist=c.separation(d)\n",
    "    dist=dist.value\n",
    "\n",
    "    return dist"
   ]
  },
  {
   "cell_type": "code",
   "execution_count": 30,
   "metadata": {},
   "outputs": [],
   "source": [
    "def throw_grbs(fermi,minflux,maxflux,pf): #,detect):\n",
    "    \n",
    "    nsims=int(np.round(len(pf)*2))\n",
    "    ra,dec=random_sky(nsims)\n",
    "    ra=np.array(ra)-180\n",
    "    dec=np.array(dec)\n",
    "    #sigma=0.65,mean=1.5\n",
    " \n",
    "    #change the sigma and mean in order to create a log fit for simulated GBM. Automate this fit.\n",
    "    flux=np.random.lognormal(size=nsims,sigma=0.5,mean=0.55)*(np.log10(maxflux)-np.log10(minflux))+np.log10(minflux)\n",
    "\n",
    "    #GBM exposures for each random GRB. Believe this is an array with the different exposures for each detector\n",
    "    randgbmexposures = np.array([[detector.exposure(ra[i],dec[i]) for i in range(nsims)] for detector in fermi.detectors], dtype=float)\n",
    "   # print(randgbmexposures)\n",
    "   # randgbmexposures = np.random.rand((17,22), dtype=float)\n",
    "    numrows = len(randgbmexposures) \n",
    "   # randgbmex = np.lexsort(randgbmexposures[...,...])\n",
    "\n",
    "   # print(randgbmexposures)\n",
    "    #Order randgbmexposures into descending order\n",
    "    #randgbmex = -np.sort(-randgbmexposures, axis =1) \n",
    "    print(numrows)\n",
    "\n",
    "\n",
    "    \n",
    "#Find highest number in each axis of the array and remove it\n",
    " \n",
    "    \n",
    "#    BCsens = minflux/Aratio/np.array(randexposures.max(axis=0))\n",
    "   # GBMsens = minflux/np.array(randgbmexposures.max(axis=0))\n",
    "\n",
    "#     inside=np.where(separation(ra,dec,0,35)<100.)[0]\n",
    "#     ninside=len(inside)\n",
    "#     print ninside\n",
    "#    w=np.where(flux-BCsens>0)[0]\n",
    "#    bcdetfrac=float(len(w))/nsims\n",
    "\n",
    "#    wg=np.where(flux-GBMsens>0)[0]\n",
    "#    gbmdetfrac=float(len(wg))/nsims\n",
    "\n",
    "        \n",
    "    return randgbmexposures\n"
   ]
  },
  {
   "cell_type": "code",
   "execution_count": 31,
   "metadata": {},
   "outputs": [
    {
     "name": "stdout",
     "output_type": "stream",
     "text": [
      "12\n"
     ]
    },
    {
     "data": {
      "text/plain": [
       "array([[0.        , 0.        , 0.        , ..., 0.        , 0.        ,\n",
       "        0.        ],\n",
       "       [0.        , 0.        , 0.        , ..., 0.        , 0.        ,\n",
       "        0.        ],\n",
       "       [0.        , 0.        , 0.        , ..., 0.        , 0.        ,\n",
       "        0.        ],\n",
       "       ...,\n",
       "       [0.        , 0.        , 0.        , ..., 0.        , 0.61694463,\n",
       "        0.        ],\n",
       "       [0.        , 0.        , 0.        , ..., 0.        , 0.28422566,\n",
       "        0.        ],\n",
       "       [0.        , 0.        , 0.        , ..., 0.        , 0.70546651,\n",
       "        0.        ]])"
      ]
     },
     "execution_count": 31,
     "metadata": {},
     "output_type": "execute_result"
    }
   ],
   "source": [
    "flux=gbm['FLUX_BATSE_64'][s]\n",
    "minflux=min(flux)\n",
    "maxflux=max(flux)\n",
    "\n",
    "throw_grbs(fermi,minflux,maxflux,pf)"
   ]
  },
  {
   "cell_type": "code",
   "execution_count": null,
   "metadata": {},
   "outputs": [],
   "source": []
  }
 ],
 "metadata": {
  "kernelspec": {
   "display_name": "Python 3",
   "language": "python",
   "name": "python3"
  },
  "language_info": {
   "codemirror_mode": {
    "name": "ipython",
    "version": 3
   },
   "file_extension": ".py",
   "mimetype": "text/x-python",
   "name": "python",
   "nbconvert_exporter": "python",
   "pygments_lexer": "ipython3",
   "version": "3.6.5"
  }
 },
 "nbformat": 4,
 "nbformat_minor": 2
}
