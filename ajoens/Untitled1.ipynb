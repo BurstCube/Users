{
 "cells": [
  {
   "cell_type": "code",
   "execution_count": 1,
   "metadata": {},
   "outputs": [],
   "source": [
    "import numpy as np\n",
    "import matplotlib.pylab as plot\n",
    "from astropy.io import ascii,fits\n",
    "from scipy import interpolate\n",
    "import grb_catalogs_copy\n",
    "from BurstCube.LocSim.Detector import *\n",
    "from BurstCube.LocSim.Spacecraft import *\n",
    "from astropy.coordinates import SkyCoord\n",
    "from astropy import units as u\n",
    "from scipy.optimize import curve_fit"
   ]
  },
  {
   "cell_type": "code",
   "execution_count": 23,
   "metadata": {},
   "outputs": [
    {
     "name": "stdout",
     "output_type": "stream",
     "text": [
      "(6, 4)\n",
      "[[0.01882939 0.24855068 0.74011366 0.65624892]\n",
      " [0.90825861 0.98958865 0.54399412 0.2095527 ]\n",
      " [0.84990504 0.57903835 0.05346336 0.74741246]\n",
      " [0.81332761 0.75673206 0.87235319 0.66250094]\n",
      " [0.21359755 0.84725625 0.25504342 0.78616853]\n",
      " [0.30940307 0.4386085  0.58876232 0.06512472]]\n",
      "[[0.90825861 0.98958865 0.87235319 0.78616853]\n",
      " [0.84990504 0.84725625 0.74011366 0.74741246]\n",
      " [0.81332761 0.75673206 0.58876232 0.66250094]\n",
      " [0.30940307 0.57903835 0.54399412 0.65624892]\n",
      " [0.21359755 0.4386085  0.25504342 0.2095527 ]\n",
      " [0.01882939 0.24855068 0.05346336 0.06512472]]\n",
      "[0.84990504 0.84725625 0.74011366 0.74741246]\n",
      "[0.84990504 0.84725625 0.74011366 0.74741246]\n"
     ]
    }
   ],
   "source": [
    "randgbm = np.random.rand(6,4)\n",
    "#randgbm = randgbmexposures[:6,:4]\n",
    "#numcols = len(randex[0]) \n",
    "#print(numcols)\n",
    "#print(randgbmexposures)\n",
    "#Order randgbmexposures into descending order\n",
    "shape = np.shape(randgbm)\n",
    "print(shape)\n",
    "print(randgbm)\n",
    "\n",
    "for column in randgbm.T:\n",
    "    newrandgbm = -np.sort(-randgbm.T) \n",
    "fin = np.transpose(newrandgbm)\n",
    "print(fin)\n",
    "\n",
    "a = fin[1,:]\n",
    "b = a.copy()\n",
    "print(a)\n",
    "print(b)"
   ]
  },
  {
   "cell_type": "code",
   "execution_count": null,
   "metadata": {},
   "outputs": [],
   "source": []
  }
 ],
 "metadata": {
  "kernelspec": {
   "display_name": "Python 3",
   "language": "python",
   "name": "python3"
  },
  "language_info": {
   "codemirror_mode": {
    "name": "ipython",
    "version": 3
   },
   "file_extension": ".py",
   "mimetype": "text/x-python",
   "name": "python",
   "nbconvert_exporter": "python",
   "pygments_lexer": "ipython3",
   "version": "3.6.5"
  }
 },
 "nbformat": 4,
 "nbformat_minor": 2
}
