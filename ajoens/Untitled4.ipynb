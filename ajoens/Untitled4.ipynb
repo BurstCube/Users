{
 "cells": [
  {
   "cell_type": "code",
   "execution_count": 1,
   "metadata": {},
   "outputs": [],
   "source": [
    "import numpy as np\n",
    "import matplotlib.pylab as plot\n",
    "from astropy.io import ascii,fits\n",
    "from scipy import interpolate\n",
    "import grb_catalogs_copy\n",
    "from BurstCube.LocSim.Detector import *\n",
    "from BurstCube.LocSim.Spacecraft import *\n",
    "from astropy.coordinates import SkyCoord\n",
    "from astropy import units as u\n",
    "from scipy.optimize import curve_fit\n",
    "import math\n",
    "from astropy.table import Table"
   ]
  },
  {
   "cell_type": "code",
   "execution_count": 2,
   "metadata": {},
   "outputs": [
    {
     "name": "stdout",
     "output_type": "stream",
     "text": [
      "TRIGGER_NAME      NAME         RA    ...   TRIGGER_TIME  TRIGGER_TIMESCALE\n",
      "                             DEGREE  ...       MJD               MS       \n",
      "------------ -------------- -------- ... --------------- -----------------\n",
      "BN120403857  GRB120403857    55.3384 ... 56020.856927003              1024\n",
      "BN140912846  TGF140912846      44.05 ... 56912.845875803                16\n",
      "BN120227725  GRB120227725     256.73 ... 55984.725475166              1024\n",
      "BN140630748  TGF140630748   128.7667 ... 56838.747788306                16\n",
      "BN141205018  GRB141205018     294.61 ... 56996.017706164              2048\n",
      "BN180630467  GRB180630467    48.9589 ... 58299.466601915              1024\n",
      "BN170116238  GRB170116238      72.94 ... 57769.238371056              1024\n",
      "BN170909434  TGF170909434      43.85 ... 58005.433674278                16\n",
      "BN100911473  TGF100911473      176.0 ... 55450.472675715                16\n",
      "BN091026550  GRB091026550    276.573 ... 55130.549687727              4096\n",
      "         ...            ...      ... ...             ...               ...\n",
      "BN150430558  TGF150430558   145.2167 ... 57142.557698745                16\n",
      "BN150309958  GRB150309958    277.102 ... 57090.958225209               256\n",
      "BN150616594  LOCLPAR1506165  58.3167 ... 57189.594483725              4096\n",
      "BN100920971  TGF100920971    51.6667 ... 55459.971004803                16\n",
      "BN091012783  GRB091012783      109.4 ... 55116.782670946                64\n",
      "BN130528695  GRB130528695    138.738 ... 56440.695421398               256\n",
      "BN180304259  LOCLPAR1803042    159.3 ... 58181.258880402              2048\n",
      "BN090813174  GRB090813174    225.802 ... 55056.174104081               256\n",
      "BN110201399  GRB110201399     137.58 ... 55593.399424207              2048\n",
      "BN150705660  LOCLPAR1507056   257.75 ...  57208.65994033              4096\n",
      "Length = 6509 rows\n",
      "    NAME        RA     DEC   ... BCATALOG SCATALOG  LAST_MODIFIED \n",
      "              DEGREE  DEGREE ...                         MJD      \n",
      "------------ ------- ------- ... -------- -------- ---------------\n",
      "GRB120830212  337.87  -80.04 ...        0        3 58285.951655093\n",
      "GRB140323433 356.959 -79.905 ...        0        3 58295.957071759\n",
      "GRB100325246  209.14   -79.1 ...        1        3 58252.719699074\n",
      "GRB100507577     2.9  -79.01 ...        1        3 58255.903391204\n",
      "GRB171206122    9.48   -78.2 ...        3        4  58151.75681713\n",
      "GRB140518709  244.04  -77.86 ...        0        3 57995.704212963\n",
      "GRB130623488  20.723 -77.784 ...        0        3 58290.900173611\n",
      "GRB141004150   30.44   -77.3 ...        3        3 58299.722013889\n",
      "GRB090304216   195.9   -73.4 ...        1        3 58240.721400463\n",
      "GRB151026523  107.39  -73.32 ...        3        3 57332.993449074\n",
      "         ...     ...     ... ...      ...      ...             ...\n",
      "GRB131118958 349.863 -66.833 ...        0        3 58292.958252315\n",
      "GRB170323775  348.83  -66.81 ...        3        3 57926.699236111\n",
      "GRB120114433  263.23  -75.64 ...        2        3 58270.890972222\n",
      "GRB170121067    3.03  -75.62 ...        3        3 57837.701122685\n",
      "GRB170124874  282.04  -75.51 ...        3        3  57837.70931713\n",
      "GRB141022087  119.39  -75.17 ...        3        3 56975.711388889\n",
      "GRB180614327   52.22  -75.17 ...        3          58284.917488426\n",
      "GRB100112418  240.14   -75.1 ...        1        3  58251.02431713\n",
      "GRB121116459  180.88  -74.79 ...        3        3 57996.725104167\n",
      "GRB110212550  311.33   -74.5 ...        2        3  58281.95525463\n",
      "Length = 2352 rows\n"
     ]
    }
   ],
   "source": [
    "# read in GBM GRB catalog (first 9 years)\n",
    "gbmfit=fits.open('gbmgrbcat_copy.fits')\n",
    "gbm= Table.read('gbmgrbcat_copy.fits')\n",
    "\n",
    "#read in GBM Trigger Catalog\n",
    "trigfit=fits.open('gbmtrigcat.fits')\n",
    "trig = Table.read('gbmtrigcat.fits')\n",
    "\n",
    "print(trig)\n",
    "print(gbm)"
   ]
  },
  {
   "cell_type": "code",
   "execution_count": 3,
   "metadata": {},
   "outputs": [],
   "source": [
    "def match_catalogs_name(name1,name2):\n",
    "\n",
    "    ind_dict = dict((q,e) for e,q in enumerate(name1))\n",
    "    inter = set(ind_dict).intersection(name2)\n",
    "    m1 = [ind_dict[element] for element in inter]\n",
    "    print(np.shape(m1))\n",
    "    ind_dict = dict((q,e) for q,e in enumerate(name2))\n",
    "    inter = set(ind_dict).intersection(name1)\n",
    "    m2 = [ind_dict[element] for element in inter]\n",
    "    print(np.shape(m2))\n",
    "    \n",
    "    return m1,m2"
   ]
  },
  {
   "cell_type": "code",
   "execution_count": 11,
   "metadata": {},
   "outputs": [
    {
     "name": "stdout",
     "output_type": "stream",
     "text": [
      "(0,)\n",
      "(0,)\n"
     ]
    },
    {
     "data": {
      "text/plain": [
       "([], [])"
      ]
     },
     "execution_count": 11,
     "metadata": {},
     "output_type": "execute_result"
    }
   ],
   "source": [
    "#creating array of grbs\n",
    "match_catalogs_name(gbmfit, trigfit)\n"
   ]
  },
  {
   "cell_type": "code",
   "execution_count": null,
   "metadata": {},
   "outputs": [],
   "source": []
  }
 ],
 "metadata": {
  "kernelspec": {
   "display_name": "Python 3",
   "language": "python",
   "name": "python3"
  },
  "language_info": {
   "codemirror_mode": {
    "name": "ipython",
    "version": 3
   },
   "file_extension": ".py",
   "mimetype": "text/x-python",
   "name": "python",
   "nbconvert_exporter": "python",
   "pygments_lexer": "ipython3",
   "version": "3.6.5"
  }
 },
 "nbformat": 4,
 "nbformat_minor": 2
}
