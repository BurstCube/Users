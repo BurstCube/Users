{
 "cells": [
  {
   "cell_type": "markdown",
   "metadata": {},
   "source": [
    "# Code to take data using the scope and plot relevant histograms. Will output energy resolution and associated errors."
   ]
  },
  {
   "cell_type": "code",
   "execution_count": 2,
   "metadata": {},
   "outputs": [],
   "source": [
    "import os\n",
    "import sys\n",
    "\n",
    "sys.path.insert(0, '..\\..\\scope-daq')\n",
    "\n",
    "import MSO4102B as sdaq # This is the scope module that Sean G. wrote\n",
    "import importlib\n",
    "#importlib.reload(sdaq)\n",
    "import time\n",
    "import h5py # This is the python library that creates files/stores data sets\n",
    "import numpy as np\n",
    "import matplotlib.pyplot as plt\n",
    "import visa as visa"
   ]
  },
  {
   "cell_type": "markdown",
   "metadata": {},
   "source": [
    "### Enter the IP address of the scope as a string. The IP address of the scope should be set by the router (make sure both the scope and the lab laptop are plugged into the router). To check the IP address of the scope, you can go to the Utility menu and check the LAN settings. Sometimes a LAN reset is required."
   ]
  },
  {
   "cell_type": "code",
   "execution_count": 3,
   "metadata": {},
   "outputs": [],
   "source": [
    "scope = sdaq.Scope(address=\"10.10.10.3\")"
   ]
  },
  {
   "cell_type": "markdown",
   "metadata": {},
   "source": [
    "### This command creates a h5py file, desginated as \"f.\" Documentation for h5py can be found at http://docs.h5py.org/en/stable/. The naming scheme for files is BurstCube_name of test_source name_date, ex \"BurstCube_PostVibe_Cs137_061419.\"\n",
    "### NOTE: Please keep the 'a' flag.  ***Also, make sure you close an open file (use f.close()) before you open a new one.***"
   ]
  },
  {
   "cell_type": "code",
   "execution_count": 19,
   "metadata": {},
   "outputs": [],
   "source": [
    "f = h5py.File('code_test_2', 'a')"
   ]
  },
  {
   "cell_type": "markdown",
   "metadata": {},
   "source": [
    "### Create an array that stores the scope scaling dictionary. This will make sure that we have the scope settings for any given run.\n",
    "\n",
    "### If you want to extract the scope scaling parameters from a file, the 5 settings are stored in the order [x zero, x incr, y zero, y mult, y offset].\n",
    "### To extract the data, you could say ***data_scale = f['scope_scaling']*** and then extract the values that you want using ***data_scale[1] = x_increment***, for example."
   ]
  },
  {
   "cell_type": "code",
   "execution_count": 20,
   "metadata": {},
   "outputs": [
    {
     "name": "stdout",
     "output_type": "stream",
     "text": [
      "Data source channel [1-indexed]: 1\n"
     ]
    }
   ],
   "source": [
    "scaling_dict = scope.read_scaling_config()\n",
    "\n",
    "scaling_info = np.zeros(5)\n",
    "scaling_info[0] = float(scaling_dict['XZERO'])\n",
    "scaling_info[1] = float(scaling_dict['XINCR'])\n",
    "scaling_info[2] = float(scaling_dict['YZERO'])\n",
    "scaling_info[3] = float(scaling_dict['YMULT'])\n",
    "scaling_info[4] = float(scaling_dict['YOFF'])\n",
    "\n",
    "dset = f.create_dataset('scope_scaling', data=scaling_info)"
   ]
  },
  {
   "cell_type": "markdown",
   "metadata": {},
   "source": [
    "### The get_data function will initialize a run (a full run length so far has been 30000 traces, which takes approx. an hour and a half)."
   ]
  },
  {
   "cell_type": "markdown",
   "metadata": {},
   "source": [
    "### The naming scheme for data sets is filename_run#, ex. \"BurstCube_PostVibe_Cs137_061419_run1.\""
   ]
  },
  {
   "cell_type": "code",
   "execution_count": 22,
   "metadata": {},
   "outputs": [],
   "source": [
    "\"\"\"\n",
    "    This function pulls SiPM pulses from the scope and stores them in arrays.\n",
    "    \n",
    "    Parameters\n",
    "    ----------\n",
    "    \n",
    "    no_of_traces: float\n",
    "        However many traces or SiPM pulses you want to record.\n",
    "    data_set_name: string\n",
    "        Name of the data set within the file. The naming scheme for data sets is \n",
    "        filename_run#, ex. \"BurstCube_PostVibe_Cs137_061419_run1.\"\n",
    "        \n",
    "    Returns\n",
    "    -------\n",
    "    \n",
    "    Data sets. Two data sets should be created, the scope scaling information and \n",
    "    The scope data is stored in an array (a h5py data set). h5py data sets are nice \n",
    "    because you can splice into them. In this case, the size of the array is determined by the \n",
    "    number of traces you want from the scope and number of data points the scope collects for \n",
    "    each trace; the size of the array is number of traces by amount of scope points. Each row \n",
    "    is a scope trace, so plotting/data analysis is done in a for loop that looks at each row \n",
    "    one at a time.\n",
    "    \n",
    "    \"\"\"\n",
    "\n",
    "def get_data(no_of_traces, data_set_name):\n",
    "\n",
    "    # Determines number of points from each scope trace and creates an empty array\n",
    "    curve_length = len(scope.read_trace())\n",
    "    arr = np.zeros((no_of_traces, curve_length))\n",
    "\n",
    "    # Scaling dictionary is used to scale the scope traces to account for scope settings\n",
    "    scaling_dict = scope.read_scaling_config()\n",
    "    \n",
    "    n_bad_comm = 0\n",
    "    i = 0\n",
    "    last_trace = scope.read_trace()\n",
    "    t_start = time.time()\n",
    "    n_dup = 0\n",
    "    single = True\n",
    "    \n",
    "    while i < no_of_traces:\n",
    "        # Code to discount duplicates (when the scope gets stuck on a trigger):\n",
    "        try: \n",
    "            trace = scope.read_trace()\n",
    "            if np.sum(trace - last_trace) == 0:\n",
    "                i -= 1\n",
    "                n_dup +=1\n",
    "                print(\"%d duplicates\" %(n_dup))\n",
    "            else:\n",
    "                last_trace = trace\n",
    "                _, trace_scaled = scope.scale_data(scaling_dict, trace)\n",
    "                arr[i] = trace_scaled\n",
    "                if i % 1000 == 0:\n",
    "                    print(\"At {0:d} / {1:d}\".format(i, no_of_traces))\n",
    "        \n",
    "        # Code to override Visa errors:\n",
    "        except visa.VisaIOError:\n",
    "            n_bad_comm += 1\n",
    "            print(\"Communication timeout... %d\" %(n_bad_comm))\n",
    "            i -= 1 \n",
    "        \n",
    "        i += 1       \n",
    "    \n",
    "        if i > 0 and i %1000 == 0 and single:\n",
    "            t_now = time.time()\n",
    "            single = False \n",
    "            elapsed = time.time() - t_start\n",
    "            rate = float(i)/float(t_now - t_start)\n",
    "            print(\"{2:s} ; At {0:d}/{1:d}\".format(i, no_of_traces, time.strftime('%a, %d %b %Y %H:%M:%S GMT', time.localtime())))\n",
    "            print(\"\\tRate: {0:6.3f} Hz\\t Elapsed: {1:6.2f} s\\t Estimated total run length: {2:6.2f} s\\t Estimated time remaining: {3:6.2f}\".format(rate, elapsed, no_of_traces/(rate), no_of_traces/(rate) - elapsed))\n",
    "\n",
    "        if i%1000 == 1:\n",
    "            single = True\n",
    "    \n",
    "    t_stop = time.time()\n",
    "    \n",
    "    run_len = t_stop - t_start\n",
    "    run_min = run_len / 60\n",
    "    print(\"The run length was %0.3f minutes.\" %(run_min))\n",
    "\n",
    "    dset = f.create_dataset(data_set_name, data=arr)\n",
    "    \n",
    "    return dset"
   ]
  },
  {
   "cell_type": "markdown",
   "metadata": {},
   "source": [
    "### Actually take data, double check the data set name:"
   ]
  },
  {
   "cell_type": "code",
   "execution_count": 23,
   "metadata": {},
   "outputs": [
    {
     "name": "stdout",
     "output_type": "stream",
     "text": [
      "Data source channel [1-indexed]: 1\n",
      "At 0 / 2000\n",
      "1 duplicates\n",
      "2 duplicates\n",
      "3 duplicates\n",
      "4 duplicates\n",
      "Mon, 24 Jun 2019 13:16:05 GMT ; At 1000/2000\n",
      "\tRate:  2.459 Hz\t Elapsed: 406.60 s\t Estimated total run length: 813.20 s\t Estimated time remaining: 406.60\n",
      "At 1000 / 2000\n",
      "5 duplicates\n",
      "Mon, 24 Jun 2019 13:21:49 GMT ; At 2000/2000\n",
      "\tRate:  2.663 Hz\t Elapsed: 750.91 s\t Estimated total run length: 750.91 s\t Estimated time remaining:   0.00\n",
      "The run length was 12.515 minutes.\n"
     ]
    },
    {
     "data": {
      "text/plain": [
       "<HDF5 dataset \"test_function_generator\": shape (2000, 10000), type \"<f8\">"
      ]
     },
     "execution_count": 23,
     "metadata": {},
     "output_type": "execute_result"
    }
   ],
   "source": [
    "get_data(2000, 'test_function_generator') # take data"
   ]
  },
  {
   "cell_type": "markdown",
   "metadata": {},
   "source": [
    "### List the data sets within a file (check to make sure your run is there):"
   ]
  },
  {
   "cell_type": "code",
   "execution_count": 24,
   "metadata": {},
   "outputs": [
    {
     "data": {
      "text/plain": [
       "['scope_scaling', 'test_function_generator']"
      ]
     },
     "execution_count": 24,
     "metadata": {},
     "output_type": "execute_result"
    }
   ],
   "source": [
    "list(f.keys())"
   ]
  },
  {
   "cell_type": "markdown",
   "metadata": {},
   "source": [
    "### Data analysis/plotting: assign the data set as the array \"plot_array.\""
   ]
  },
  {
   "cell_type": "code",
   "execution_count": 25,
   "metadata": {},
   "outputs": [],
   "source": [
    "plot_array = f['test_function_generator'] # insert desired data set name here"
   ]
  },
  {
   "cell_type": "markdown",
   "metadata": {},
   "source": [
    "### Plot 1000 traces to look at the data and perform a common sense check. Also look for a stretch of data that can be used to determine noise."
   ]
  },
  {
   "cell_type": "code",
   "execution_count": 26,
   "metadata": {},
   "outputs": [
    {
     "data": {
      "image/png": "[encoded data removed]",
      "text/plain": [
       "<Figure size 432x288 with 1 Axes>"
      ]
     },
     "metadata": {
      "needs_background": "light"
     },
     "output_type": "display_data"
    }
   ],
   "source": [
    "for i in range(500):\n",
    "    plt.plot(plot_array[i])"
   ]
  },
  {
   "cell_type": "markdown",
   "metadata": {},
   "source": [
    "### This function will extract the peak from each trace/row of the data set. The noise sample is determined by eye; pick a range of x values where there don't appear to be (many) peaks, ex. from 2000:3500."
   ]
  },
  {
   "cell_type": "code",
   "execution_count": 15,
   "metadata": {},
   "outputs": [],
   "source": [
    "peaks = np.zeros(len(plot_array))\n",
    "max_point = 0\n",
    "noise_sample = 0\n",
    "\n",
    "for i in range(len(plot_array)):\n",
    "    max_point = np.max(plot_array[i])\n",
    "    noise_sample = np.mean(plot_array[i,2000:2900])\n",
    "    peaks[i] = max_point - noise_sample"
   ]
  },
  {
   "cell_type": "markdown",
   "metadata": {},
   "source": [
    "### Save your peak values. Save this data set name as ***data set name_peaks*** ex. \"BurstCube_PostVibe_Cs137_061419_run1_peaks.\""
   ]
  },
  {
   "cell_type": "code",
   "execution_count": null,
   "metadata": {},
   "outputs": [],
   "source": [
    "dset = f.create_dataset('BurstCube_PostVibe_Cs137_061419_run1_peaks', data=peaks)"
   ]
  },
  {
   "cell_type": "markdown",
   "metadata": {},
   "source": [
    "### Print the first 50 peak values to make sure there aren't any suspicious duplicates."
   ]
  },
  {
   "cell_type": "code",
   "execution_count": 27,
   "metadata": {},
   "outputs": [
    {
     "name": "stdout",
     "output_type": "stream",
     "text": [
      "[1.15764444 1.15977778 1.11951111 1.16155556 1.1612     1.16\n",
      " 1.15977778 1.16102222 1.16026667 1.15982222 1.12133333 1.1584\n",
      " 1.1596     1.1596     1.158      1.15964444 1.16048889 1.15875556\n",
      " 1.12106667 1.11835556 1.16048889 1.15795556 1.11946667 1.15826667\n",
      " 1.16013333 1.15826667 1.20133333 1.1188     1.12142222 1.15675556\n",
      " 1.15862222 1.12008889 1.12142222 1.15986667 1.16235556 1.15951111\n",
      " 1.12       1.1596     1.12035556 1.12093333 1.16128889 1.1576\n",
      " 1.16031111 1.12031111 1.16088889 1.12004444 1.118      1.15737778\n",
      " 1.1192     1.12306667]\n"
     ]
    }
   ],
   "source": [
    "print(peaks[0:50])"
   ]
  },
  {
   "cell_type": "markdown",
   "metadata": {},
   "source": [
    "### Plot a histogram of the peaks using matplotlib to get a sense of what the data looks like and where the peak is."
   ]
  },
  {
   "cell_type": "code",
   "execution_count": 28,
   "metadata": {},
   "outputs": [
    {
     "data": {
      "text/plain": [
       "(array([  4.,  13.,  30.,  73.,  98.,  91.,  79.,  45.,  15.,   3.,   4.,\n",
       "          0.,   0.,   0.,   0.,   0.,   0.,   0.,   0.,   0.,   0.,   0.,\n",
       "          0.,   0.,   0.,   0.,   0.,   0.,   0.,   0.,   0.,   0.,   0.,\n",
       "          0.,   0.,   0.,   0.,   0.,   0.,   0.,   0.,   0.,   0.,   0.,\n",
       "          1.,   6.,  28.,  65., 188., 272., 327., 302., 192.,  87.,  18.,\n",
       "          5.,   0.,   0.,   0.,   0.,   0.,   0.,   0.,   0.,   0.,   0.,\n",
       "          0.,   0.,   0.,   0.,   0.,   0.,   0.,   0.,   0.,   0.,   0.,\n",
       "          0.,   0.,   0.,   0.,   0.,   0.,   0.,   0.,   0.,   0.,   0.,\n",
       "          0.,   0.,   0.,   1.,   1.,   3.,   7.,  18.,  14.,   2.,   5.,\n",
       "          3.]),\n",
       " array([1.11453333, 1.11541333, 1.11629333, 1.11717333, 1.11805333,\n",
       "        1.11893333, 1.11981333, 1.12069333, 1.12157333, 1.12245333,\n",
       "        1.12333333, 1.12421333, 1.12509333, 1.12597333, 1.12685333,\n",
       "        1.12773333, 1.12861333, 1.12949333, 1.13037333, 1.13125333,\n",
       "        1.13213333, 1.13301333, 1.13389333, 1.13477333, 1.13565333,\n",
       "        1.13653333, 1.13741333, 1.13829333, 1.13917333, 1.14005333,\n",
       "        1.14093333, 1.14181333, 1.14269333, 1.14357333, 1.14445333,\n",
       "        1.14533333, 1.14621333, 1.14709333, 1.14797333, 1.14885333,\n",
       "        1.14973333, 1.15061333, 1.15149333, 1.15237333, 1.15325333,\n",
       "        1.15413333, 1.15501333, 1.15589333, 1.15677333, 1.15765333,\n",
       "        1.15853333, 1.15941333, 1.16029333, 1.16117333, 1.16205333,\n",
       "        1.16293333, 1.16381333, 1.16469333, 1.16557333, 1.16645333,\n",
       "        1.16733333, 1.16821333, 1.16909333, 1.16997333, 1.17085333,\n",
       "        1.17173333, 1.17261333, 1.17349333, 1.17437333, 1.17525333,\n",
       "        1.17613333, 1.17701333, 1.17789333, 1.17877333, 1.17965333,\n",
       "        1.18053333, 1.18141333, 1.18229333, 1.18317333, 1.18405333,\n",
       "        1.18493333, 1.18581333, 1.18669333, 1.18757333, 1.18845333,\n",
       "        1.18933333, 1.19021333, 1.19109333, 1.19197333, 1.19285333,\n",
       "        1.19373333, 1.19461333, 1.19549333, 1.19637333, 1.19725333,\n",
       "        1.19813333, 1.19901333, 1.19989333, 1.20077333, 1.20165333,\n",
       "        1.20253333]),\n",
       " <a list of 100 Patch objects>)"
      ]
     },
     "execution_count": 28,
     "metadata": {},
     "output_type": "execute_result"
    },
    {
     "data": {
      "image/png": "[encoded data removed]",
      "text/plain": [
       "<Figure size 432x288 with 1 Axes>"
      ]
     },
     "metadata": {
      "needs_background": "light"
     },
     "output_type": "display_data"
    }
   ],
   "source": [
    "plt.hist(peaks, bins=100)"
   ]
  },
  {
   "cell_type": "markdown",
   "metadata": {},
   "source": [
    "### Plot a more rigorous histogram and fit the data to find the energy resolution."
   ]
  },
  {
   "cell_type": "code",
   "execution_count": 14,
   "metadata": {},
   "outputs": [],
   "source": [
    "bins = np.linspace(0,1,100) # Here, the number of bins has been set to 100 and the length of\n",
    "# the x axis has been set to one. This can be adjusted; inspect the matplotlib histogram to\n",
    "# see what the binning / x axis should be.\n",
    "fit_hist, bins_1 = np.histogram(peaks, bins=bins)\n",
    "bins_2 = np.array([bins[i] for i in range(len(bins)-1)])"
   ]
  },
  {
   "cell_type": "markdown",
   "metadata": {},
   "source": [
    "### The scipy.optimize function will fit the histogram of your peaks to a Gaussian. The x data is the bins_2 array and the y data is the output from the np.histogram function. In order for the fit to work, you have to make reasonable guesses for the amplitude, the mean, and the sigma of the histogram.\n",
    "### Change the title of the plot, save figure if it looks good"
   ]
  },
  {
   "cell_type": "code",
   "execution_count": 15,
   "metadata": {},
   "outputs": [
    {
     "name": "stdout",
     "output_type": "stream",
     "text": [
      "[4.18271574e+03 3.58712185e-01 1.60087999e-02]\n",
      "Amplitude = 4182, Mu = 0.3587, Sigma = 0.0160\n",
      "The energy resolution is approximately 10.51 percent.\n"
     ]
    },
    {
     "data": {
      "image/png": "[encoded data removed]",
      "text/plain": [
       "<matplotlib.figure.Figure at 0x10eecbbe0>"
      ]
     },
     "metadata": {},
     "output_type": "display_data"
    }
   ],
   "source": [
    "import scipy\n",
    "from scipy.optimize import curve_fit\n",
    "import pylab \n",
    "\n",
    "x = bins_2\n",
    "y = fit_hist\n",
    "xspace = np.linspace(0, 1, 10000) # This creates a smoother plot when plotting the fit\n",
    "\n",
    "# Guesses for p01: [Amplitude, Mu, Sigma]. These guesses must be reasonable.\n",
    "p01 = [7500, 0.35, 0.05]\n",
    "\n",
    "# Define the fit function (a Gaussian)\n",
    "def Gauss(x, A, mu, sigma):\n",
    "    return A*np.exp(-(x-mu)**2/(2.0*sigma**2))\n",
    "\n",
    "# popt returns the best fit values for amplitude, mean, and sigma. pcov returns a covariance\n",
    "# matrix; the diagonal of this matrix returns the errors associated with the three returned \n",
    "# values, which is used to determine the error in the energy resolution.\n",
    "popt, pcov = curve_fit(Gauss, xdata=bins_2, ydata=fit_hist, p0=p01)\n",
    "\n",
    "plt.figure(figsize = (8, 6))\n",
    "# Plot the data\n",
    "plt.bar(bins_2, fit_hist, width=bins[1] - bins[0], color='blue', label=r'Data')\n",
    "# Plot the fit\n",
    "plt.plot(xspace, Gauss(xspace, *popt), 'r-', label='Fit')\n",
    "(Amp, Mu, Sigma) = popt\n",
    "# Print the outputs \n",
    "print(popt)\n",
    "print(\"Amplitude = %d, Mu = %0.4f, Sigma = %0.4f\" %(Amp, Mu, Sigma))\n",
    "energy_res = (2.355*Sigma*100)/Mu # Calculates energy resolution\n",
    "print(\"The energy resolution is approximately %0.2f percent.\" %(energy_res))\n",
    "plt.legend()\n",
    "# Change the title of the plot and the saved figure!\n",
    "# plt.savefig('Energy Resolution Post Vibe')\n",
    "plt.title('Energy Resolution Post Vibe')\n",
    "plt.xlabel('Energy (V)')\n",
    "plt.ylabel('Counts')\n",
    "plt.show()"
   ]
  },
  {
   "cell_type": "markdown",
   "metadata": {},
   "source": [
    "### Calculate the errors associated with the energy resolution:"
   ]
  },
  {
   "cell_type": "code",
   "execution_count": 16,
   "metadata": {},
   "outputs": [
    {
     "name": "stdout",
     "output_type": "stream",
     "text": [
      "Error in amplitude is 231.940 \n",
      "Error in mu is 0.001025 \n",
      "Error in sigma is 0.001025\n",
      "The error in the energy resolution is 0.67359 percent.\n"
     ]
    }
   ],
   "source": [
    "(Amp_err, Mu_err, Sigma_err) = np.sqrt(np.diag(pcov))\n",
    "# Error propagation\n",
    "partial_sigma = (2.355*100)/Mu\n",
    "partial_mu = (2.355*100*Sigma)/(Mu**2)\n",
    "stdev_er = np.sqrt(((partial_sigma**2)*(Sigma_err**2))+((partial_mu**2)*(Mu_err)**2))\n",
    "print(\"Error in amplitude is %0.3f. \\nError in mu is %0.6f. \\nError in sigma is %0.6f.\" %(Amp_err, Mu_err, Sigma_err))\n",
    "print(\"The error in the energy resolution is %0.5f percent.\"%(stdev_er))"
   ]
  },
  {
   "cell_type": "markdown",
   "metadata": {},
   "source": [
    "### If you are done working with a file, ***make sure you close it!*** h5py does not like it when files are left open and you change files and/or kill the kernel."
   ]
  },
  {
   "cell_type": "code",
   "execution_count": 18,
   "metadata": {},
   "outputs": [],
   "source": [
    "f.close()"
   ]
  },
  {
   "cell_type": "markdown",
   "metadata": {},
   "source": [
    "### Saving the h5py files as text files (haven't tried :"
   ]
  },
  {
   "cell_type": "code",
   "execution_count": 29,
   "metadata": {},
   "outputs": [],
   "source": [
    "f.close()"
   ]
  },
  {
   "cell_type": "code",
   "execution_count": 30,
   "metadata": {},
   "outputs": [],
   "source": [
    "f=open(\"test_function_generator\", \"w\")"
   ]
  },
  {
   "cell_type": "code",
   "execution_count": 31,
   "metadata": {},
   "outputs": [],
   "source": [
    "np.savetxt(\"test_function_generator\", peaks)"
   ]
  },
  {
   "cell_type": "code",
   "execution_count": null,
   "metadata": {},
   "outputs": [],
   "source": [
    "# Old code kept for reference\n",
    "    \n",
    "\"\"\"while i < no_of_traces:\n",
    "        try: \n",
    "            trace = scope.read_trace()\n",
    "            if np.sum(trace - last_trace) == 0:\n",
    "                i -= 1\n",
    "                n_dup +=1\n",
    "                print(\"%d duplicates\" %(n_dup))\n",
    "                #print(\"Duplicate trace... Retaking.\")\n",
    "            else:\n",
    "                last_trace = trace\n",
    "                _, trace = scope.scale_data(scaling_dict, trace)\n",
    "                arr[i] = trace\n",
    "                print(\"At {0:d} / {1:d}\".format(i, no_of_traces))\n",
    "    \n",
    "        except visa.VisaIOError:\n",
    "            #print(\"Communication error; continuing. \")\n",
    "            n_bad_comm += 1\n",
    "            print(\"Communication timeout... #{0:d}\".format(n_bad_comm))\n",
    "            i -= 1 \"\"\"\"\n",
    "        \n",
    "    \"\"\"i += 1       \n",
    "    \n",
    "    if i > 0 and i %100 == 0 and single:\n",
    "        t_now = time.time()\n",
    "        single = False \n",
    "        elapsed = time.time() - t_start\n",
    "        rate = float(i)/float(t_now - t_start)\n",
    "        print(\"{2:s} ; At {0:d}/{1:d}\".format(i, n_meas, time.strftime('%a, %d %b %Y %H:%M:%S GMT', time.localtime())))\n",
    "        print(\"\\tRate: {0:6.3f} Hz\\t Elapsed: {1:6.2f} s\\t Estimated total run length: {2:6.2f} s\\t Estimated time remaining: {3:6.2f}\".format(rate, elapsed, n_meas/(rate), n_meas/(rate) - elapsed))\n",
    "\n",
    "    if i%10 == 1:\n",
    "        single = True\"\"\"\n",
    "\n"
   ]
  },
  {
   "cell_type": "code",
   "execution_count": null,
   "metadata": {},
   "outputs": [],
   "source": [
    "\"\"\"for i in range(no_of_traces):\n",
    "    \n",
    "        if i > 0 and i % 100 == 0:\n",
    "            print(\"At {0:d} / {1:d}\".format(i, no_of_traces))\n",
    "        try:\n",
    "            trace = scope.query(\"CURVE?\")\n",
    "            curve = np.array(trace.rstrip(\"\\n\").split(' ')[-1].split(','), dtype=int)\n",
    "            y_points = (curve - y_offset) * y_mult + y_zero\n",
    "            arr[i] = y_points\n",
    "        except visa.VisaIOError:\n",
    "            print(\"Caught a timeout error... That's weird. \")\n",
    "            print(\"Number caught: \", n_errors)\n",
    "            n_errors += 1\n",
    "            i -= 1\n",
    "        \"\"\""
   ]
  }
 ],
 "metadata": {
  "kernelspec": {
   "display_name": "Python 3",
   "language": "python",
   "name": "python3"
  },
  "language_info": {
   "codemirror_mode": {
    "name": "ipython",
    "version": 3
   },
   "file_extension": ".py",
   "mimetype": "text/x-python",
   "name": "python",
   "nbconvert_exporter": "python",
   "pygments_lexer": "ipython3",
   "version": "3.7.3"
  }
 },
 "nbformat": 4,
 "nbformat_minor": 2
}
