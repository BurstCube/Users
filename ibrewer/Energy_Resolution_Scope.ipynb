{
 "cells": [
  {
   "cell_type": "markdown",
   "metadata": {},
   "source": [
    "# Code to take data using the scope and plot relevant histograms. Will output energy resolution and associated errors."
   ]
  },
  {
   "cell_type": "code",
   "execution_count": 6,
   "metadata": {},
   "outputs": [
    {
     "name": "stderr",
     "output_type": "stream",
     "text": [
      "/Users/isbrewer/miniconda3/lib/python3.6/site-packages/h5py/__init__.py:36: FutureWarning: Conversion of the second argument of issubdtype from `float` to `np.floating` is deprecated. In future, it will be treated as `np.float64 == np.dtype(float).type`.\n",
      "  from ._conv import register_converters as _register_converters\n"
     ]
    }
   ],
   "source": [
    "import os\n",
    "import sys\n",
    "\n",
    "sys.path.insert(0, 'scope-daq')\n",
    "\n",
    "#import MSO4102B as sdaq # This is the scope module that Sean G. wrote\n",
    "import importlib\n",
    "#importlib.reload(sdaq)\n",
    "import time\n",
    "import h5py # This is the python library that creates files/stores data sets\n",
    "import numpy as np\n",
    "import matplotlib.pyplot as plt\n",
    "import visa as visa"
   ]
  },
  {
   "cell_type": "markdown",
   "metadata": {},
   "source": [
    "### Enter the IP address of the scope as a string. The IP address of the scope should be set by the router (make sure both the scope and the lab laptop are plugged into the router). To check the IP address of the scope, you can go to the Utility menu and check the LAN settings. Sometimes a LAN reset is required."
   ]
  },
  {
   "cell_type": "code",
   "execution_count": 10,
   "metadata": {},
   "outputs": [],
   "source": [
    "scope = sdaq.Scope(address=\"10.10.10.2\")"
   ]
  },
  {
   "cell_type": "markdown",
   "metadata": {},
   "source": [
    "### This command creates a h5py file, desginated as \"f.\" Documentation for h5py can be found at http://docs.h5py.org/en/stable/. The naming scheme for files is BurstCube_name of test_source name_date, ex \"BurstCube_PostVibe_Cs137_061419.\"\n",
    "### NOTE: Please keep the 'a' flag.  ***Also, make sure you close an open file (use f.close()) before you open a new one.***"
   ]
  },
  {
   "cell_type": "code",
   "execution_count": 7,
   "metadata": {},
   "outputs": [],
   "source": [
    "f = h5py.File('BurstCube_PostVibe_Cs137_062019', 'a')"
   ]
  },
  {
   "cell_type": "markdown",
   "metadata": {},
   "source": [
    "### The get_data function will initialize a run (a full run length so far has been no_of_traces = 30000, which takes approx. an hour and a half)"
   ]
  },
  {
   "cell_type": "code",
   "execution_count": 8,
   "metadata": {},
   "outputs": [],
   "source": [
    "\"\"\"\n",
    "    This function pulls SiPM pulses from the scope and stores them in arrays.\n",
    "    \n",
    "    Parameters\n",
    "    ----------\n",
    "    \n",
    "    no_of_traces: float\n",
    "        However many traces or SiPM pulses you want to record.\n",
    "    data_set_name: string\n",
    "        Name of the data set within the file. The naming scheme for data sets is \n",
    "        filename_run#, ex. \"BurstCube_PostVibe_Cs137_061419_run1.\"\n",
    "        \n",
    "    Returns\n",
    "    -------\n",
    "    \n",
    "    A data set. The data is stored in an array (a h5py data set). h5py data sets are nice \n",
    "    because you can splice into them. In this case, the size of the array is determined by the \n",
    "    number of traces you want from the scope and number of data points the scope collects for \n",
    "    each trace; the size of the array is number of traces by amount of scope points. Each row \n",
    "    is a scope trace, so plotting/data analysis is done in a for loop that looks at each row \n",
    "    one at a time.\n",
    "    \n",
    "    \"\"\"\n",
    "\n",
    "def get_data(no_of_traces, data_set_name):\n",
    "\n",
    "    # Determines number of points from each scope trace and creates an empty array\n",
    "    curve_length = len(scope.read_trace())\n",
    "    arr = np.zeros((no_of_traces, curve_length))\n",
    "\n",
    "    # Scaling dictionary is used to scale the scope traces to account for scope settings\n",
    "    scaling_dict = scope.read_scaling_config()\n",
    "    x_zero = float(scaling_dict['XZERO'])\n",
    "    x_incr = float(scaling_dict['XINCR'])\n",
    "    y_zero = float(scaling_dict['YZERO'])\n",
    "    y_mult = float(scaling_dict['YMULT'])\n",
    "    y_offset = float(scaling_dict['YOFF'])\n",
    "    \n",
    "    n_errors = 0\n",
    "    i = 0\n",
    "    last_trace = scope.read_trace()\n",
    "    t_start = time.time()\n",
    "    n_dup = 0\n",
    "    single = True\n",
    "    \n",
    "    while i < no_of_traces:\n",
    "        # Code to discount duplicates (when the scope gets stuck on a trigger):\n",
    "        try: \n",
    "            trace = scope.read_trace()\n",
    "            if np.sum(trace - last_trace) == 0:\n",
    "                i -= 1\n",
    "                n_dup +=1\n",
    "                print(\"%d duplicates\" %(n_dup))\n",
    "                #print(\"Duplicate trace... Retaking.\")\n",
    "            else:\n",
    "                last_trace = trace\n",
    "                _, trace_scaled = scope.scale_data(scaling_dict, trace)\n",
    "                arr[i] = trace_scaled\n",
    "                #if i % 1000 = 0:\n",
    "                    #print(\"At {0:d} / {1:d}\".format(i, no_of_traces))\n",
    "        \n",
    "        # Code to override Visa errors:\n",
    "        except visa.VisaIOError:\n",
    "            #print(\"Communication error; continuing. \")\n",
    "            n_bad_comm += 1\n",
    "            print(\"Communication timeout... %d\" %(n_bad_comm))\n",
    "            i -= 1 \n",
    "        \n",
    "        i += 1       \n",
    "    \n",
    "    if i > 0 and i %10 == 0 and single:\n",
    "        t_now = time.time()\n",
    "        single = False \n",
    "        elapsed = time.time() - t_start\n",
    "        rate = float(i)/float(t_now - t_start)\n",
    "        print(\"{2:s} ; At {0:d}/{1:d}\".format(i, no_of_traces, time.strftime('%a, %d %b %Y %H:%M:%S GMT', time.localtime())))\n",
    "        print(\"\\tRate: {0:6.3f} Hz\\t Elapsed: {1:6.2f} s\\t Estimated total run length: {2:6.2f} s\\t Estimated time remaining: {3:6.2f}\".format(rate, elapsed, no_of_traces/(rate), no_of_traces/(rate) - elapsed))\n",
    "\n",
    "    if i%10 == 1:\n",
    "        single = True\n",
    "    \n",
    "    time.sleep(0.01)\n",
    "    \n",
    "    t_stop = time.time()\n",
    "\n",
    "    #f.attrs['no_of_traces'] = no_of_traces\n",
    "    #f.attrs['run_len'] = t_stop - t_start\n",
    "    #print(f.keys())\n",
    "\n",
    "    #os.system('say \"Data run complete!\"')\n",
    "    #print(\"Done! Run length: {0:.2f}\".format(f.attrs['run_len']))\n",
    "    #print(\"Number timeouts: {0:d}\".format(n_bad_comm))\n",
    "    #print(\"Number duplicate reads: {0:d}\".format(n_dup))\n",
    "\n",
    "    #print(data_array[0:4])\n",
    "\n",
    "\n",
    "    \"\"\"for i in range(no_of_traces):\n",
    "    \n",
    "        if i > 0 and i % 100 == 0:\n",
    "            print(\"At {0:d} / {1:d}\".format(i, no_of_traces))\n",
    "        try:\n",
    "            trace = scope.query(\"CURVE?\")\n",
    "            curve = np.array(trace.rstrip(\"\\n\").split(' ')[-1].split(','), dtype=int)\n",
    "            y_points = (curve - y_offset) * y_mult + y_zero\n",
    "            arr[i] = y_points\n",
    "        except visa.VisaIOError:\n",
    "            print(\"Caught a timeout error... That's weird. \")\n",
    "            print(\"Number caught: \", n_errors)\n",
    "            n_errors += 1\n",
    "            i -= 1\n",
    "        \"\"\"\n",
    "    dset = f.create_dataset(data_set_name, data=arr)\n",
    "    \n",
    "    return dset"
   ]
  },
  {
   "cell_type": "code",
   "execution_count": 14,
   "metadata": {},
   "outputs": [
    {
     "name": "stdout",
     "output_type": "stream",
     "text": [
      "Data source channel [1-indexed]: 1\n",
      "Thu, 20 Jun 2019 14:19:25 GMT ; At 1000/1000\n",
      "\tRate:  2.605 Hz\t Elapsed: 383.86 s\t Estimated total run length: 383.86 s\t Estimated time remaining:   0.00\n"
     ]
    },
    {
     "data": {
      "text/plain": [
       "<HDF5 dataset \"test_data_muons_1000\": shape (1000, 10000), type \"<f8\">"
      ]
     },
     "execution_count": 14,
     "metadata": {},
     "output_type": "execute_result"
    }
   ],
   "source": [
    "get_data(1000, 'test_data_muons_1000') # take data"
   ]
  },
  {
   "cell_type": "markdown",
   "metadata": {},
   "source": [
    "### List the data sets within a file (check to make sure your run is there):"
   ]
  },
  {
   "cell_type": "code",
   "execution_count": 9,
   "metadata": {},
   "outputs": [
    {
     "data": {
      "text/plain": [
       "['BurstCube_PostVibe_Cs137_062019_run1']"
      ]
     },
     "execution_count": 9,
     "metadata": {},
     "output_type": "execute_result"
    }
   ],
   "source": [
    "list(f.keys())"
   ]
  },
  {
   "cell_type": "markdown",
   "metadata": {},
   "source": [
    "### Data analysis/plotting: assign the data set as the array \"plot_array.\""
   ]
  },
  {
   "cell_type": "code",
   "execution_count": 10,
   "metadata": {},
   "outputs": [],
   "source": [
    "plot_array = f['BurstCube_PostVibe_Cs137_062019_run1'] # insert desired data set name here"
   ]
  },
  {
   "cell_type": "markdown",
   "metadata": {},
   "source": [
    "### Plot 1,000 traces to look at the data and perform a common sense check. Also look for a stretch of data that can be used to determine noise."
   ]
  },
  {
   "cell_type": "code",
   "execution_count": 22,
   "metadata": {},
   "outputs": [
    {
     "data": {
      "image/png": "[encoded data removed]",
      "text/plain": [
       "<Figure size 432x288 with 1 Axes>"
      ]
     },
     "metadata": {
      "needs_background": "light"
     },
     "output_type": "display_data"
    }
   ],
   "source": [
    "for i in range(2000):\n",
    "    plt.plot(plot_array[i])"
   ]
  },
  {
   "cell_type": "markdown",
   "metadata": {},
   "source": [
    "### This function will extract the peak from each trace/row of the data set. The noise sample is determined by eye; pick a range of x values where there don't appear to be (many) peaks, ex. from 2000:3500."
   ]
  },
  {
   "cell_type": "code",
   "execution_count": 11,
   "metadata": {},
   "outputs": [],
   "source": [
    "peaks = np.zeros(len(plot_array))\n",
    "max_point = 0\n",
    "noise_sample = 0\n",
    "\n",
    "for i in range(len(plot_array)):\n",
    "    max_point = np.max(plot_array[i])\n",
    "    noise_sample = np.mean(plot_array[i,2000:3500])\n",
    "    peaks[i] = max_point - noise_sample"
   ]
  },
  {
   "cell_type": "markdown",
   "metadata": {},
   "source": [
    "### Print the first 50 peak values to make sure there aren't any suspicious duplicates."
   ]
  },
  {
   "cell_type": "code",
   "execution_count": 12,
   "metadata": {},
   "outputs": [
    {
     "name": "stdout",
     "output_type": "stream",
     "text": [
      "[0.369536   0.38790933 0.383472   0.36124267 0.38314133 0.39362667\n",
      " 0.15517867 0.395744   0.36869867 0.38908267 0.32778133 0.24023467\n",
      " 0.29790933 0.37632    0.36994133 0.154992   0.35820267 0.15956267\n",
      " 0.37871467 0.31533333 0.35152    0.288496   0.376016   0.127344\n",
      " 0.36805867 0.24551467 0.147952   0.34662933 0.138256   0.36316267\n",
      " 0.383232   0.402032   0.37472533 0.19091733 0.36747733 0.37830933\n",
      " 0.12400533 0.361312   0.38696533 0.253952   0.37064    0.250016\n",
      " 0.13728    0.27483733 0.34652267 0.37938667 0.37560533 0.34893867\n",
      " 0.36988267 0.36350933]\n"
     ]
    }
   ],
   "source": [
    "print(peaks[0:50])"
   ]
  },
  {
   "cell_type": "markdown",
   "metadata": {},
   "source": [
    "### Plot a histogram of the peaks using matplotlib to get a sense of what the data looks like and where the peak is."
   ]
  },
  {
   "cell_type": "code",
   "execution_count": 13,
   "metadata": {},
   "outputs": [
    {
     "data": {
      "text/plain": [
       "(array([2.000e+00, 9.000e+00, 5.000e+00, 1.400e+01, 1.610e+02, 9.560e+02,\n",
       "        1.237e+03, 1.068e+03, 1.331e+03, 9.280e+02, 8.490e+02, 7.830e+02,\n",
       "        7.370e+02, 7.100e+02, 7.500e+02, 6.240e+02, 4.960e+02, 3.950e+02,\n",
       "        3.630e+02, 3.810e+02, 4.250e+02, 4.640e+02, 6.890e+02, 1.090e+03,\n",
       "        2.793e+03, 4.513e+03, 4.423e+03, 2.350e+03, 7.230e+02, 2.090e+02,\n",
       "        8.000e+01, 6.000e+01, 4.200e+01, 3.100e+01, 3.000e+01, 2.300e+01,\n",
       "        1.700e+01, 1.600e+01, 1.500e+01, 1.300e+01, 2.100e+01, 8.000e+00,\n",
       "        1.000e+01, 1.100e+01, 7.000e+00, 1.000e+01, 1.300e+01, 7.000e+00,\n",
       "        4.000e+00, 7.000e+00, 9.000e+00, 2.000e+00, 9.000e+00, 4.000e+00,\n",
       "        6.000e+00, 1.000e+01, 1.000e+01, 5.000e+00, 3.000e+00, 3.000e+00,\n",
       "        0.000e+00, 1.000e+00, 1.000e+00, 0.000e+00, 1.000e+00, 1.000e+00,\n",
       "        0.000e+00, 1.000e+00, 0.000e+00, 1.000e+00, 0.000e+00, 0.000e+00,\n",
       "        1.000e+00, 1.000e+00, 0.000e+00, 0.000e+00, 0.000e+00, 0.000e+00,\n",
       "        0.000e+00, 0.000e+00, 1.000e+00, 0.000e+00, 0.000e+00, 0.000e+00,\n",
       "        1.000e+00, 0.000e+00, 0.000e+00, 2.000e+00, 2.000e+00, 0.000e+00,\n",
       "        0.000e+00, 0.000e+00, 0.000e+00, 0.000e+00, 0.000e+00, 0.000e+00,\n",
       "        1.000e+00, 0.000e+00, 0.000e+00, 2.100e+01]),\n",
       " array([0.06996267, 0.08131846, 0.09267425, 0.10403005, 0.11538584,\n",
       "        0.12674164, 0.13809743, 0.14945323, 0.16080902, 0.17216481,\n",
       "        0.18352061, 0.1948764 , 0.2062322 , 0.21758799, 0.22894378,\n",
       "        0.24029958, 0.25165537, 0.26301117, 0.27436696, 0.28572276,\n",
       "        0.29707855, 0.30843434, 0.31979014, 0.33114593, 0.34250173,\n",
       "        0.35385752, 0.36521331, 0.37656911, 0.3879249 , 0.3992807 ,\n",
       "        0.41063649, 0.42199229, 0.43334808, 0.44470387, 0.45605967,\n",
       "        0.46741546, 0.47877126, 0.49012705, 0.50148285, 0.51283864,\n",
       "        0.52419443, 0.53555023, 0.54690602, 0.55826182, 0.56961761,\n",
       "        0.5809734 , 0.5923292 , 0.60368499, 0.61504079, 0.62639658,\n",
       "        0.63775238, 0.64910817, 0.66046396, 0.67181976, 0.68317555,\n",
       "        0.69453135, 0.70588714, 0.71724293, 0.72859873, 0.73995452,\n",
       "        0.75131032, 0.76266611, 0.77402191, 0.7853777 , 0.79673349,\n",
       "        0.80808929, 0.81944508, 0.83080088, 0.84215667, 0.85351246,\n",
       "        0.86486826, 0.87622405, 0.88757985, 0.89893564, 0.91029144,\n",
       "        0.92164723, 0.93300302, 0.94435882, 0.95571461, 0.96707041,\n",
       "        0.9784262 , 0.98978199, 1.00113779, 1.01249358, 1.02384938,\n",
       "        1.03520517, 1.04656097, 1.05791676, 1.06927255, 1.08062835,\n",
       "        1.09198414, 1.10333994, 1.11469573, 1.12605152, 1.13740732,\n",
       "        1.14876311, 1.16011891, 1.1714747 , 1.1828305 , 1.19418629,\n",
       "        1.20554208]),\n",
       " <a list of 100 Patch objects>)"
      ]
     },
     "execution_count": 13,
     "metadata": {},
     "output_type": "execute_result"
    },
    {
     "data": {
      "image/png": "[encoded data removed]",
      "text/plain": [
       "<matplotlib.figure.Figure at 0x106c6ab70>"
      ]
     },
     "metadata": {},
     "output_type": "display_data"
    }
   ],
   "source": [
    "plt.hist(peaks, bins=100)"
   ]
  },
  {
   "cell_type": "markdown",
   "metadata": {},
   "source": [
    "### Plot a more rigorous histogram and fit the data to find the energy resolution."
   ]
  },
  {
   "cell_type": "code",
   "execution_count": 14,
   "metadata": {},
   "outputs": [],
   "source": [
    "bins = np.linspace(0,1,100) # Here, the number of bins has been set to 100 and the length of\n",
    "# the x axis has been set to one. This can be adjusted; inspect the matplotlib histogram to\n",
    "# see what the binning / x axis should be.\n",
    "fit_hist, bins_1 = np.histogram(peaks, bins=bins)\n",
    "bins_2 = np.array([bins[i] for i in range(len(bins)-1)])"
   ]
  },
  {
   "cell_type": "markdown",
   "metadata": {},
   "source": [
    "### The scipy.optimize function will fit the histogram of your peaks to a Gaussian. The x data is the bins_2 array and the y data is the output from the np.histogram function. In order for the fit to work, you have to make reasonable guesses for the amplitude, the mean, and the sigma of the histogram."
   ]
  },
  {
   "cell_type": "code",
   "execution_count": 15,
   "metadata": {},
   "outputs": [
    {
     "name": "stdout",
     "output_type": "stream",
     "text": [
      "[4.18271574e+03 3.58712185e-01 1.60087999e-02]\n",
      "Amplitude = 4182, Mu = 0.3587, Sigma = 0.0160\n",
      "The energy resolution is approximately 10.51 percent.\n"
     ]
    },
    {
     "data": {
      "image/png": "[encoded data removed]",
      "text/plain": [
       "<matplotlib.figure.Figure at 0x10eecbbe0>"
      ]
     },
     "metadata": {},
     "output_type": "display_data"
    }
   ],
   "source": [
    "import scipy\n",
    "from scipy.optimize import curve_fit\n",
    "import pylab \n",
    "\n",
    "x = bins_2\n",
    "y = fit_hist\n",
    "xspace = np.linspace(0, 1, 10000) # This creates a smoother plot when plotting the fit\n",
    "\n",
    "# Guesses for p01: [Amplitude, Mu, Sigma]. These guesses must be reasonable.\n",
    "p01 = [7500, 0.35, 0.05]\n",
    "\n",
    "# Define the fit function (a Gaussian)\n",
    "def Gauss(x, A, mu, sigma):\n",
    "    return A*np.exp(-(x-mu)**2/(2.0*sigma**2))\n",
    "\n",
    "# popt returns the best fit values for amplitude, mean, and sigma. pcov returns a covariance\n",
    "# matrix; the diagonal of this matrix returns the errors associated with the three returned \n",
    "# values, which is used to determine the error in the energy resolution.\n",
    "popt, pcov = curve_fit(Gauss, xdata=bins_2, ydata=fit_hist, p0=p01)\n",
    "\n",
    "plt.figure(figsize = (8, 6))\n",
    "# Plot the data\n",
    "plt.bar(bins_2, fit_hist, width=bins[1] - bins[0], color='blue', label=r'Data')\n",
    "# Plot the fit\n",
    "plt.plot(xspace, Gauss(xspace, *popt), 'r-', label='Fit')\n",
    "(Amp, Mu, Sigma) = popt\n",
    "# Print the outputs (change title of plot as neccessary)\n",
    "print(popt)\n",
    "print(\"Amplitude = %d, Mu = %0.4f, Sigma = %0.4f\" %(Amp, Mu, Sigma))\n",
    "energy_res = (2.355*Sigma*100)/Mu\n",
    "print(\"The energy resolution is approximately %0.2f percent.\" %(energy_res))\n",
    "plt.legend()\n",
    "plt.title('Energy Resolution Post Vibe')\n",
    "plt.xlabel('Energy (V)')\n",
    "plt.ylabel('Counts')\n",
    "plt.show()"
   ]
  },
  {
   "cell_type": "markdown",
   "metadata": {},
   "source": [
    "### Calculate the errors associated with the energy resolution:"
   ]
  },
  {
   "cell_type": "code",
   "execution_count": 16,
   "metadata": {},
   "outputs": [
    {
     "name": "stdout",
     "output_type": "stream",
     "text": [
      "Error in amplitude is 231.940 \n",
      "Error in mu is 0.001025 \n",
      "Error in sigma is 0.001025\n",
      "The error in the energy resolution is 0.67359 percent.\n"
     ]
    }
   ],
   "source": [
    "(Amp_err, Mu_err, Sigma_err) = np.sqrt(np.diag(pcov))\n",
    "# Error propagation\n",
    "partial_sigma = (2.355*100)/Mu\n",
    "partial_mu = (2.355*100*Sigma)/(Mu**2)\n",
    "stdev_er = np.sqrt(((partial_sigma**2)*(Sigma_err**2))+((partial_mu**2)*(Mu_err)**2))\n",
    "print(\"Error in amplitude is %0.3f \\nError in mu is %0.6f \\nError in sigma is %0.6f\" %(Amp_err, Mu_err, Sigma_err))\n",
    "print(\"The error in the energy resolution is %0.5f percent.\"%(stdev_er))"
   ]
  },
  {
   "cell_type": "markdown",
   "metadata": {},
   "source": [
    "### If you are done working with a file, ***make sure you close it!*** h5py does not like it when files are left open and you change files and/or kill the kernel."
   ]
  },
  {
   "cell_type": "code",
   "execution_count": 18,
   "metadata": {},
   "outputs": [],
   "source": [
    "f.close()"
   ]
  },
  {
   "cell_type": "markdown",
   "metadata": {},
   "source": [
    "### Saving the h5py files as text files (haven't tried this in a while, may need some adjusting):"
   ]
  },
  {
   "cell_type": "code",
   "execution_count": 95,
   "metadata": {},
   "outputs": [],
   "source": [
    "f=open(\"file_name\", \"w\")"
   ]
  },
  {
   "cell_type": "code",
   "execution_count": 96,
   "metadata": {},
   "outputs": [],
   "source": [
    "np.savetxt(\"file_name\", peaks)"
   ]
  },
  {
   "cell_type": "code",
   "execution_count": null,
   "metadata": {},
   "outputs": [],
   "source": [
    "# Old code kept for reference\n",
    "    \n",
    "\"\"\"while i < no_of_traces:\n",
    "        try: \n",
    "            trace = scope.read_trace()\n",
    "            if np.sum(trace - last_trace) == 0:\n",
    "                i -= 1\n",
    "                n_dup +=1\n",
    "                print(\"%d duplicates\" %(n_dup))\n",
    "                #print(\"Duplicate trace... Retaking.\")\n",
    "            else:\n",
    "                last_trace = trace\n",
    "                _, trace = scope.scale_data(scaling_dict, trace)\n",
    "                arr[i] = trace\n",
    "                print(\"At {0:d} / {1:d}\".format(i, no_of_traces))\n",
    "    \n",
    "        except visa.VisaIOError:\n",
    "            #print(\"Communication error; continuing. \")\n",
    "            n_bad_comm += 1\n",
    "            print(\"Communication timeout... #{0:d}\".format(n_bad_comm))\n",
    "            i -= 1 \"\"\"\"\n",
    "        \n",
    "    \"\"\"i += 1       \n",
    "    \n",
    "    if i > 0 and i %100 == 0 and single:\n",
    "        t_now = time.time()\n",
    "        single = False \n",
    "        elapsed = time.time() - t_start\n",
    "        rate = float(i)/float(t_now - t_start)\n",
    "        print(\"{2:s} ; At {0:d}/{1:d}\".format(i, n_meas, time.strftime('%a, %d %b %Y %H:%M:%S GMT', time.localtime())))\n",
    "        print(\"\\tRate: {0:6.3f} Hz\\t Elapsed: {1:6.2f} s\\t Estimated total run length: {2:6.2f} s\\t Estimated time remaining: {3:6.2f}\".format(rate, elapsed, n_meas/(rate), n_meas/(rate) - elapsed))\n",
    "\n",
    "    if i%10 == 1:\n",
    "        single = True\"\"\"\n",
    "\n"
   ]
  }
 ],
 "metadata": {
  "kernelspec": {
   "display_name": "Python 3",
   "language": "python",
   "name": "python3"
  },
  "language_info": {
   "codemirror_mode": {
    "name": "ipython",
    "version": 3
   },
   "file_extension": ".py",
   "mimetype": "text/x-python",
   "name": "python",
   "nbconvert_exporter": "python",
   "pygments_lexer": "ipython3",
   "version": "3.6.3"
  }
 },
 "nbformat": 4,
 "nbformat_minor": 2
}
