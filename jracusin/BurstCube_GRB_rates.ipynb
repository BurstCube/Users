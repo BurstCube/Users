{
 "cells": [
  {
   "cell_type": "code",
   "execution_count": 1,
   "metadata": {},
   "outputs": [
    {
     "ename": "ModuleNotFoundError",
     "evalue": "No module named 'BurstSim'",
     "output_type": "error",
     "traceback": [
      "\u001b[0;31m---------------------------------------------------------------------------\u001b[0m",
      "\u001b[0;31mModuleNotFoundError\u001b[0m                       Traceback (most recent call last)",
      "\u001b[0;32m<ipython-input-1-25b07a044120>\u001b[0m in \u001b[0;36m<module>\u001b[0;34m()\u001b[0m\n\u001b[1;32m      4\u001b[0m \u001b[0;32mfrom\u001b[0m \u001b[0mscipy\u001b[0m \u001b[0;32mimport\u001b[0m \u001b[0minterpolate\u001b[0m\u001b[0;34m\u001b[0m\u001b[0m\n\u001b[1;32m      5\u001b[0m \u001b[0;32mimport\u001b[0m \u001b[0mgrb_catalogs\u001b[0m\u001b[0;34m\u001b[0m\u001b[0m\n\u001b[0;32m----> 6\u001b[0;31m \u001b[0;32mfrom\u001b[0m \u001b[0mBurstSim\u001b[0m\u001b[0;34m.\u001b[0m\u001b[0mDetector\u001b[0m \u001b[0;32mimport\u001b[0m \u001b[0;34m*\u001b[0m\u001b[0;34m\u001b[0m\u001b[0m\n\u001b[0m\u001b[1;32m      7\u001b[0m \u001b[0;32mfrom\u001b[0m \u001b[0mBurstSim\u001b[0m\u001b[0;34m.\u001b[0m\u001b[0mSpacecraft\u001b[0m \u001b[0;32mimport\u001b[0m \u001b[0;34m*\u001b[0m\u001b[0;34m\u001b[0m\u001b[0m\n\u001b[1;32m      8\u001b[0m \u001b[0;32mfrom\u001b[0m \u001b[0mastropy\u001b[0m\u001b[0;34m.\u001b[0m\u001b[0mcoordinates\u001b[0m \u001b[0;32mimport\u001b[0m \u001b[0mSkyCoord\u001b[0m\u001b[0;34m\u001b[0m\u001b[0m\n",
      "\u001b[0;31mModuleNotFoundError\u001b[0m: No module named 'BurstSim'"
     ]
    }
   ],
   "source": [
    "import numpy as np\n",
    "import matplotlib.pylab as plot\n",
    "from astropy.io import ascii,fits\n",
    "from scipy import interpolate\n",
    "import grb_catalogs\n",
    "from BurstSim.Detector import *\n",
    "from BurstSim.Spacecraft import *\n",
    "from astropy.coordinates import SkyCoord\n",
    "from astropy import units as u\n",
    "from scipy.optimize import curve_fit"
   ]
  },
  {
   "cell_type": "code",
   "execution_count": null,
   "metadata": {},
   "outputs": [],
   "source": [
    "# read in GBM GRB catalog (first 9 years)\n",
    "gbm=fits.open('/Users/jracusin/GBM/gbmgrbcat.fits')\n",
    "gbm=gbm[1].data"
   ]
  },
  {
   "cell_type": "code",
   "execution_count": null,
   "metadata": {},
   "outputs": [],
   "source": [
    "## read in GBM effective area curve\n",
    "def getGBMdata(gbmfile=None):\n",
    "    \"\"\"Reads the GBM NaI effective area file and returns a numpy array\n",
    "    with two columns ``energy`` and ``aeff``.\n",
    "    Parameters\n",
    "    ----------\n",
    "    gbmfile : string\n",
    "       Name of file that contains the GBM data.\n",
    "    Returns\n",
    "    ----------\n",
    "    gbmdata : array \n",
    "    numpy array with two columns ``energy`` and ``aeff``\n",
    "    \"\"\"\n",
    "\n",
    "    from numpy import genfromtxt\n",
    "    from os import path\n",
    "\n",
    "    gbmfile = path.expandvars(gbmfile)\n",
    "    \n",
    "    return np.genfromtxt(gbmfile,skip_header=2,names=('energy', 'aeff'))\n"
   ]
  },
  {
   "cell_type": "code",
   "execution_count": null,
   "metadata": {},
   "outputs": [],
   "source": [
    "## bit of useful code for interpolating in log space\n",
    "def loginterpol(x,y,x1):\n",
    "\n",
    "    f=interpolate.interp1d(np.log10(x),np.log10(y),bounds_error=False,fill_value=\"extrapolate\",kind='linear')\n",
    "    y1=10**f(np.log10(x1))\n",
    "\n",
    "    return y1\n",
    "\n",
    "def loginterpol2d(x,y,z,x1,y1):\n",
    "\n",
    "    wz=np.where(z==0)[0]\n",
    "    zz=z\n",
    "    zz[wz]=1.\n",
    "    f=interpolate.interp2d(x,y,np.log10(zz),bounds_error=False,fill_value=\"extrapolate\",kind='linear')\n",
    "    z1=10**f(x1,y1)"
   ]
  },
  {
   "cell_type": "code",
   "execution_count": null,
   "metadata": {},
   "outputs": [],
   "source": [
    "## generate random positions on the sky with equal area probability\n",
    "def random_sky(n=1):\n",
    "\n",
    "    u=np.random.rand(n)\n",
    "    v=np.random.rand(n)\n",
    "\n",
    "    phi=2*np.pi*u\n",
    "    theta=np.arccos(2*v-1.)\n",
    "\n",
    "    dec=-np.degrees(theta-np.pi/2.)\n",
    "    ra=np.degrees(np.pi*2-phi)\n",
    "\n",
    "    return ra,dec"
   ]
  },
  {
   "cell_type": "code",
   "execution_count": null,
   "metadata": {},
   "outputs": [],
   "source": [
    "## read in the GBM Aeff\n",
    "aeff_gbm=getGBMdata('/Users/jracusin/BurstCube/gitrep/Simulation/GEANT3/gbm_effective_area.dat')"
   ]
  },
  {
   "cell_type": "code",
   "execution_count": null,
   "metadata": {},
   "outputs": [],
   "source": [
    "## separate GBM short & long GRBs\n",
    "w=np.where(gbm['FLUX_1024']>0)\n",
    "gbm=gbm[w]\n",
    "s=np.where(gbm['T90'] <= 2.)[0]\n",
    "l=np.where(gbm['T90'] > 2.)[0]\n",
    "m=np.where(gbm['PFLX_BEST_FITTING_MODEL'][s] == ' ')"
   ]
  },
  {
   "cell_type": "code",
   "execution_count": null,
   "metadata": {},
   "outputs": [],
   "source": [
    "# duration of GBM data\n",
    "duration=(max(gbm['TRIGGER_TIME'])-min(gbm['TRIGGER_TIME']))/365.25\n",
    "print duration,' years'"
   ]
  },
  {
   "cell_type": "code",
   "execution_count": null,
   "metadata": {},
   "outputs": [],
   "source": [
    "rate=len(s)/duration\n",
    "print rate,' short GRBs per year'\n",
    "sflux=gbm['FLUX_1024'][s]\n",
    "so=np.argsort(sflux)\n",
    "sflux=sflux[so]\n",
    "n20=int(np.round(20*duration))\n",
    "#print 'photon flux limit for BurstCube to detection 20 sGRBs per year = ',sflux[n20]\n",
    "#print np.min(sflux),np.max(sflux)"
   ]
  },
  {
   "cell_type": "code",
   "execution_count": null,
   "metadata": {
    "scrolled": false
   },
   "outputs": [],
   "source": [
    "## plot 1s peak flux distributions - note that some are missing the spectral info, must use a template instead\n",
    "##   also, most peak flux not measured on 1s timescale, but 64 ms\n",
    "fig, ax1 = plot.subplots()\n",
    "#ax1.hist(gbm['FLUX_1024'][l],bins=np.logspace(np.log10(0.1),np.log10(100.0), 50),label='Long GRBs')\n",
    "ax1.hist(gbm['FLUX_BATSE_64'][s],bins=np.logspace(np.log10(0.1),np.log10(100.0), 50),alpha=0.7,label='Short GRBs')\n",
    "plot.plot([sflux[n20],sflux[n20]],[0,500])\n",
    "#ax1.hist(gbm['FLUX_1024'][s[m]],bins=np.logspace(np.log10(0.1),np.log10(100.0), 50),alpha=0.7,label='Short GRBs w/ spectra')\n",
    "y_vals = ax1.get_yticks()\n",
    "ax1.set_yticklabels(['{:4.1f}'.format(x / duration) for x in y_vals])\n",
    "plot.ylim([0,35])\n",
    "plot.xscale('log')\n",
    "plot.xlabel(r'Flux 50-300 keV (ph cm$^{-2}$ s$^{-1}$)')\n",
    "plot.ylabel(r'Rate (yr$^{-1}$)')\n",
    "plot.legend()\n",
    "plot.show()\n",
    "\n",
    "\n",
    "# plot.figure()\n",
    "# plot.hist(gbm['FLUX_1024'][l],bins=np.logspace(np.log10(0.1),np.log10(100.0), 50))\n",
    "# plot.hist(gbm['FLUX_1024'][s],bins=np.logspace(np.log10(0.1),np.log10(100.0), 50),alpha=0.7)\n",
    "# plot.hist(gbm['FLUX_1024'][s[m]],bins=np.logspace(np.log10(0.1),np.log10(100.0), 50),alpha=0.7)\n",
    "# plot.xscale('log')\n",
    "# plot.show()"
   ]
  },
  {
   "cell_type": "code",
   "execution_count": null,
   "metadata": {},
   "outputs": [],
   "source": [
    "## read in BurstCube Aeff for various BC configurations\n",
    "file='/Users/jracusin/BurstCube/BC_eff_area_curves.ecsv'\n",
    "aeffs=ascii.read(file,format='ecsv')\n",
    "aeffs"
   ]
  },
  {
   "cell_type": "code",
   "execution_count": null,
   "metadata": {},
   "outputs": [],
   "source": [
    "## grab short GRBs with peak spectral info & plot all of the Aeff curves\n",
    "s=np.where((gbm['T90'] <= 2.) & (gbm['PFLX_BEST_FITTING_MODEL'] != ' '))[0]\n",
    "eng=aeffs['keV']\n",
    "engdiff=eng[1:]-eng[0:-1]\n",
    "w=np.where(engdiff<0)[0]\n",
    "nsims=len(w)\n",
    "w=np.append(-1,w)#,len(eng))\n",
    "for i in range(nsims):\n",
    "    plot.plot(aeffs['keV'][w[i]+1:w[i+1]+1],aeffs['aeff'][w[i]+1:w[i+1]+1])\n",
    "plot.xscale('log')\n",
    "plot.yscale('log')\n",
    "plot.xlabel('Energy (keV)')\n",
    "plot.ylabel(r'Effective Area (cm$^2$)')\n",
    "plot.plot(aeff_gbm['energy'],aeff_gbm['aeff'])\n",
    "i=0\n",
    "gbmae=loginterpol(aeff_gbm['energy'],aeff_gbm['aeff'],eng[w[i]+1:w[i+1]+1])\n",
    "plot.plot(eng[w[i]+1:w[i+1]+1],gbmae)\n",
    "plot.show()"
   ]
  },
  {
   "cell_type": "code",
   "execution_count": null,
   "metadata": {},
   "outputs": [],
   "source": [
    "## plot ratio of BC Aeff to GBM Aeff\n",
    "for i in range(nsims):\n",
    "    gbmae=loginterpol(aeff_gbm['energy'],aeff_gbm['aeff'],eng[w[i]+1:w[i+1]+1])\n",
    "    plot.plot(eng[w[i]+1:w[i+1]+1],aeffs['aeff'][w[i]+1:w[i+1]+1]/gbmae)\n",
    "plot.xscale('log')\n",
    "plot.xlabel('Energy (keV)')\n",
    "plot.ylabel(r'Effective Area Compared to GBM')\n",
    "plot.show()"
   ]
  },
  {
   "cell_type": "code",
   "execution_count": null,
   "metadata": {},
   "outputs": [],
   "source": [
    "## grab energies from those curves\n",
    "E=np.array(eng[w[i]+1:w[i+1]+1])\n",
    "print E"
   ]
  },
  {
   "cell_type": "code",
   "execution_count": null,
   "metadata": {},
   "outputs": [],
   "source": [
    "## For each short GRB and each BC simulation, calculate peak flux integrating peak flux spectrum\n",
    "##   Scale integrated peak flux by ratio of Aeff for that sim\n",
    "mo=gbm['PFLX_BEST_FITTING_MODEL'][s]\n",
    "f=np.zeros([len(s),nsims])\n",
    "pf=np.zeros(len(s))\n",
    "outE=np.logspace(np.log10(50),np.log10(300),20)\n",
    "for i in range(len(s)):\n",
    "    for j in range(nsims):\n",
    "        E=np.array(eng[w[j]+1:w[j+1]+1])\n",
    "        AeffBC=loginterpol(E,aeffs['aeff'][w[j]+1:w[j+1]+1],outE)\n",
    "        AeffGBM=loginterpol(aeff_gbm['energy'],aeff_gbm['aeff'],outE)#eng[w[j]+1:w[j+1]+1])\n",
    "        Aratio=np.sqrt(AeffBC/AeffGBM)\n",
    "        if mo[i]=='PFLX_PLAW':\n",
    "            f[i,j]=np.trapz(gbm['PFLX_PLAW_AMPL'][s[i]]*grb_catalogs.pl(outE,gbm['PFLX_PLAW_INDEX'][s[i]])*Aratio,outE)\n",
    "            pf[i]=gbm['PFLX_PLAW_PHTFLUX'][s[i]]\n",
    "        if mo[i]=='PFLX_COMP':\n",
    "            f[i,j]=np.trapz(gbm['PFLX_COMP_AMPL'][s[i]]*grb_catalogs.comp(outE,gbm['PFLX_COMP_INDEX'][s[i]],gbm['PFLX_COMP_EPEAK'][s[i]])*Aratio,outE)\n",
    "            pf[i]=gbm['PFLX_COMP_PHTFLUX'][s[i]]\n",
    "        if mo[i]=='PFLX_BAND':\n",
    "            f[i,j]=np.trapz(gbm['PFLX_BAND_AMPL'][s[i]]*grb_catalogs.band(outE,gbm['PFLX_BAND_ALPHA'][s[i]],gbm['PFLX_BAND_EPEAK'][s[i]],gbm['PFLX_BAND_BETA'][s[i]])*Aratio,outE)\n",
    "            pf[i]=gbm['PFLX_BAND_PHTFLUX'][s[i]]\n",
    "        if mo[i]=='PFLX_SBPL':\n",
    "            f[i,j]=np.trapz(gbm['PFLX_SBPL_AMPL'][s[i]]*grb_catalogs.sbpl(outE,gbm['PFLX_SBPL_INDX1'][s[i]],gbm['PFLX_SBPL_BRKEN'][s[i]],gbm['PFLX_SBPL_INDX2'][s[i]])*Aratio,outE)\n",
    "            pf[i]=gbm['PFLX_SBPL_PHTFLUX'][s[i]]\n",
    "        "
   ]
  },
  {
   "cell_type": "code",
   "execution_count": null,
   "metadata": {},
   "outputs": [],
   "source": [
    "## setup BurstCube\n",
    "pointings = {'01': ('0:0:0','45:0:0'),\n",
    "           '02': ('90:0:0','45:0:0'),\n",
    "           '03': ('180:0:0','45:0:0'),\n",
    "           '04': ('270:0:0','45:0:0')}\n",
    "spacecraft = Spacecraft(pointings,window=0.1)\n",
    "\n",
    "res = 250\n",
    "rr,dd = np.meshgrid(np.linspace(0,360,res,endpoint=False),np.linspace(-90,90,res))\n",
    "exposure_positions = np.vstack([rr.ravel(),dd.ravel()])\n",
    "exposures = np.array([[ detector.exposure(position[0],position[1]) for position in exposure_positions.T] \n",
    "                      for detector in spacecraft.detectors])"
   ]
  },
  {
   "cell_type": "code",
   "execution_count": null,
   "metadata": {},
   "outputs": [],
   "source": [
    "## setup GBM\n",
    "gbm_pointings = {'01': ('45:54:0','20:36:0'),\n",
    "            '02': ('45:6:0','45:18:0'),\n",
    "            '03': ('58:24:0','90:12:0'),\n",
    "            '04': ('314:54:0','45:12:0'),\n",
    "            '05': ('303:12:0','90:18:0'),\n",
    "            '06': ('3:24:0','89:48:0'),\n",
    "            '07': ('224:54:0','20:24:0'),\n",
    "            '08': ('224:36:0','46:12:0'),\n",
    "            '09': ('236:36:0','90:0:0'),\n",
    "            '10': ('135:12:0','45:36:0'),\n",
    "            '11': ('123:42:0','90:24:0'),\n",
    "            '12': ('183:42:0','90:18:0')}\n",
    "\n",
    "fermi = Spacecraft(gbm_pointings,window=0.1)\n",
    "\n",
    "#res = 250\n",
    "#rr,dd = np.meshgrid(np.linspace(0,360,res,endpoint=False),np.linspace(-90,90,res))\n",
    "#exposure_positions = np.vstack([rr.ravel(),dd.ravel()])\n",
    "gbm_exposures = np.array([[ detector.exposure(position[0],position[1]) for position in exposure_positions.T] \n",
    "                      for detector in fermi.detectors])"
   ]
  },
  {
   "cell_type": "code",
   "execution_count": null,
   "metadata": {},
   "outputs": [],
   "source": [
    "## Plot BurstCube Exposure maps\n",
    "\n",
    "plot.figure(figsize=(20,len(pointings)))\n",
    "x,y = (rr-180.)*np.pi/180.,dd*np.pi/180.\n",
    "for sp in range(len(pointings)):\n",
    "    m=plot.subplot(2, len(pointings)/2+1, sp+1, projection=\"mollweide\")\n",
    "    m.axes.xaxis.set_ticklabels([])\n",
    "    m.axes.yaxis.set_ticklabels([])\n",
    "    m.pcolormesh(x,y,exposures[sp].reshape((res,res)))\n",
    "plot.show()\n",
    "\n",
    "plot.figure(figsize=(20,20))\n",
    "m=plot.subplot(2, len(pointings)/2+1, sp+1, projection=\"mollweide\")\n",
    "m.axes.xaxis.set_ticklabels([])\n",
    "m.axes.yaxis.set_ticklabels([])\n",
    "m.pcolormesh(x,y,exposures.sum(axis=0).reshape((res,res)))\n",
    "plot.show()"
   ]
  },
  {
   "cell_type": "code",
   "execution_count": null,
   "metadata": {},
   "outputs": [],
   "source": [
    "## plot GBM exposure maps\n",
    "\n",
    "plot.figure(figsize=(20,len(gbm_pointings)))\n",
    "x,y = (rr-180.)*np.pi/180.,dd*np.pi/180.\n",
    "for sp in range(len(gbm_pointings)):\n",
    "    m=plot.subplot(5, len(gbm_pointings)/2+1, sp+1, projection=\"mollweide\")\n",
    "    m.axes.xaxis.set_ticklabels([])\n",
    "    m.axes.yaxis.set_ticklabels([])\n",
    "    m.pcolormesh(x,y,gbm_exposures[sp].reshape((res,res)))\n",
    "plot.show()\n",
    "\n",
    "plot.figure(figsize=(50,50))\n",
    "m=plot.subplot(2, len(gbm_pointings)/2+1, sp+1, projection=\"mollweide\")\n",
    "m.axes.xaxis.set_ticklabels([])\n",
    "m.axes.yaxis.set_ticklabels([])\n",
    "m.pcolormesh(x,y,gbm_exposures.sum(axis=0).reshape((res,res)))\n",
    "# ra,dec=random_sky(1000)\n",
    "# ra=np.radians(np.array(ra)-180)\n",
    "# dec=np.radians(np.array(dec))\n",
    "# inside=np.where(separation(np.degrees(ra),np.degrees(dec),0,35)<=100.)[0]\n",
    "# m.plot(ra,dec,marker='o',linestyle='None')\n",
    "# m.plot(ra[inside],dec[inside],marker='o',linestyle='None')\n",
    "\n",
    "plot.show()"
   ]
  },
  {
   "cell_type": "code",
   "execution_count": null,
   "metadata": {},
   "outputs": [],
   "source": [
    "def separation(ra1,dec1,ra2,dec2):\n",
    "\n",
    "    c=SkyCoord(ra=ra1*u.deg,dec=dec1*u.deg)\n",
    "    d=SkyCoord(ra=ra2*u.deg,dec=dec2*u.deg)\n",
    "    dist=c.separation(d)\n",
    "    dist=dist.value\n",
    "\n",
    "    return dist"
   ]
  },
  {
   "cell_type": "code",
   "execution_count": null,
   "metadata": {},
   "outputs": [],
   "source": [
    "def throw_grbs(spacecraft,fermi,Aratio,minflux,maxflux,pf):\n",
    "    \n",
    "    ## exposures from above\n",
    "    ## exposure_positions from above\n",
    "    ## Aratio for particular BC config or 1 for GBM\n",
    "    ## minflux/maxflux is min/max flux from GBM\n",
    "    nsims=int(np.round(len(pf)*2))\n",
    "    ra,dec=random_sky(nsims)\n",
    "    ra=np.array(ra)-180\n",
    "    dec=np.array(dec)\n",
    "    #sigma=0.65,mean=1.5\n",
    "    \n",
    "    popt,pcov=curve_fit(lambda t,a: fmodel['pow'](t,a,b),t,rate)\n",
    "    flux=np.random.lognormal(size=nsims,sigma=0.6,mean=0.6)*(np.log10(maxflux)-np.log10(minflux))+np.log10(minflux)\n",
    "#    flux=10**flux\n",
    "#    print min(flux),max(flux)\n",
    "#    plot.plot()\n",
    "#    plot.hist(flux,bins=np.logspace(-1,2,30))\n",
    "#    plot.xscale('log')\n",
    "#    plot.show()\n",
    "#    print len(exposure_positions[0]),len(exposure_positions[1]),len(exposures)\n",
    "#    expradec=loginterpol2d(exposure_positions[0],exposure_positions[1],exposures,ra,dec)\n",
    "    randexposures = np.array([[detector.exposure(ra[i],dec[i]) for i in range(nsims)] for detector in spacecraft.detectors])\n",
    "    randgbmexposures = np.array([[detector.exposure(ra[i],dec[i]) for i in range(nsims)] for detector in fermi.detectors])\n",
    "\n",
    "    BCsens = minflux/Aratio/np.array(randexposures.max(axis=0))\n",
    "    GBMsens = minflux/np.array(randgbmexposures.max(axis=0))\n",
    "\n",
    "#     inside=np.where(separation(ra,dec,0,35)<100.)[0]\n",
    "#     ninside=len(inside)\n",
    "#     print ninside\n",
    "    w=np.where(flux-BCsens>0)[0]\n",
    "    bcdetfrac=float(len(w))/nsims\n",
    "\n",
    "    wg=np.where(flux-GBMsens>0)[0]\n",
    "    gbmdetfrac=float(len(wg))/nsims\n",
    "    if j ==0:\n",
    "#         plot.figure()\n",
    "#         plot.plot(ra,dec,marker='o',linestyle='None')\n",
    "#         plot.plot(ra[inside],dec[inside],marker='o',linestyle='None')\n",
    "#         plot.show()\n",
    "        \n",
    "        fig=plot.figure(figsize=(20,5))\n",
    "        plot.subplot(1,2,1)\n",
    "        plot.hist(pf,label='real GBM',bins=np.logspace(-1,2,40))\n",
    "        plot.hist(flux[wg],label='GBM',bins=np.logspace(-1,2,40),alpha=0.7)\n",
    "        plot.xscale('log')\n",
    "        plot.legend()\n",
    "        plot.subplot(1,2,2)\n",
    "        plot.hist(flux,label='All',bins=np.logspace(-1,2,40))\n",
    "        plot.hist(pf,label='real GBM',bins=np.logspace(-1,2,40))\n",
    "        plot.hist(flux[wg],label='GBM',bins=np.logspace(-1,2,40),alpha=0.7)\n",
    "        plot.hist(flux[w],label='BC',bins=np.logspace(-1,2,40),alpha=0.7)\n",
    "        plot.xscale('log')\n",
    "        plot.legend()\n",
    "\n",
    "        plot.show()\n",
    "    \n",
    "    return bcdetfrac,gbmdetfrac,BCsens,GBMsens"
   ]
  },
  {
   "cell_type": "code",
   "execution_count": null,
   "metadata": {},
   "outputs": [],
   "source": [
    "flux=gbm['FLUX_BATSE_64'][s]\n",
    "minflux=min(flux)\n",
    "maxflux=max(flux)\n",
    "for j in range(len(w)-1):\n",
    "#    j=0 # which BC config\n",
    "    w=np.where(engdiff<0)[0]\n",
    "    w=np.append(-1,w)\n",
    "\n",
    "    outE=np.logspace(np.log10(50),np.log10(300),20)\n",
    "    AeffBC=np.mean(loginterpol(aeffs['keV'][w[j]+1:w[j+1]+1],aeffs['aeff'][w[j]+1:w[j+1]+1],outE))\n",
    "    AeffGBM=np.mean(loginterpol(aeff_gbm['energy'],aeff_gbm['aeff'],outE))\n",
    "    Aratio=np.sqrt(AeffBC/AeffGBM)\n",
    "    BCdetfrac,GBMdetfrac,BCsens,GBMsens=throw_grbs(spacecraft,fermi,Aratio,minflux,maxflux,flux)\n",
    "    print j,np.round(BCdetfrac,2),np.round(GBMdetfrac,2),np.round(BCdetfrac/GBMdetfrac,2),np.round(np.min(BCsens),2),\\\n",
    "        np.round(np.min(GBMsens),2),np.round(np.min(GBMsens)/np.min(BCsens),2),np.round(BCdetfrac/GBMdetfrac*rate,1)"
   ]
  },
  {
   "cell_type": "markdown",
   "metadata": {},
   "source": [
    "BCsens = np.min(sflux)/Aratio/np.array(exposures.max(axis=0))\n",
    "GBMsens = np.min(sflux)/np.array(gbm_exposures.max(axis=0))\n",
    "plot.hist(BCsens[BCsens<5])\n",
    "plot.show()\n",
    "print np.min(sflux)\n",
    "print np.min(BCsens),np.min(GBMsens)"
   ]
  },
  {
   "cell_type": "code",
   "execution_count": null,
   "metadata": {},
   "outputs": [],
   "source": []
  },
  {
   "cell_type": "code",
   "execution_count": null,
   "metadata": {},
   "outputs": [],
   "source": []
  }
 ],
 "metadata": {
  "kernelspec": {
   "display_name": "Python 3",
   "language": "python",
   "name": "python3"
  },
  "language_info": {
   "codemirror_mode": {
    "name": "ipython",
    "version": 3
   },
   "file_extension": ".py",
   "mimetype": "text/x-python",
   "name": "python",
   "nbconvert_exporter": "python",
   "pygments_lexer": "ipython3",
   "version": "3.6.5"
  }
 },
 "nbformat": 4,
 "nbformat_minor": 2
}
