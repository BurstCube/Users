{
 "cells": [
  {
   "cell_type": "code",
   "execution_count": 1,
   "metadata": {},
   "outputs": [],
   "source": [
    "from BurstCube.simGenerator import configurator\n",
    "conf = configurator('config.yaml')"
   ]
  },
  {
   "cell_type": "code",
   "execution_count": 2,
   "metadata": {
    "scrolled": true
   },
   "outputs": [
    {
     "name": "stdout",
     "output_type": "stream",
     "text": [
      "Loading /home/laura/Research/local_test/1000_15_0//FIN_1000.000keV_15.00ze_0.00az.inc1.id1.sim\n"
     ]
    }
   ],
   "source": [
    "from BurstCube.bcSim import simFiles\n",
    "sfs = simFiles('config.yaml')"
   ]
  },
  {
   "cell_type": "code",
   "execution_count": 3,
   "metadata": {},
   "outputs": [
    {
     "name": "stdout",
     "output_type": "stream",
     "text": [
      "/home/laura/Research/local_test/1000_15_0//FIN_1000.000keV_15.00ze_0.00az.inc1.id1.sim\n"
     ]
    },
    {
     "data": {
      "text/plain": [
       "str"
      ]
     },
     "execution_count": 3,
     "metadata": {},
     "output_type": "execute_result"
    }
   ],
   "source": [
    "print(sfs.sims[0].simFile)\n",
    "type(sfs.sims[0].simFile)# fileN = 'FIN_1000.000keV_15.00ze_0.00az.inc1.id1.sim'"
   ]
  },
  {
   "cell_type": "code",
   "execution_count": 4,
   "metadata": {},
   "outputs": [
    {
     "name": "stdout",
     "output_type": "stream",
     "text": [
      "**For trigger 79 there are 2 hits!!**\n",
      "**For trigger 86 there are 2 hits!!**\n",
      "**For trigger 140 there are 2 hits!!**\n",
      "**For trigger 154 there are 2 hits!!**\n",
      "**For trigger 196 there are 2 hits!!**\n",
      "**For trigger 216 there are 2 hits!!**\n",
      "**For trigger 285 there are 2 hits!!**\n",
      "**For trigger 309 there are 2 hits!!**\n",
      "**For trigger 403 there are 2 hits!!**\n",
      "**For trigger 419 there are 2 hits!!**\n",
      "**For trigger 432 there are 2 hits!!**\n",
      "**For trigger 437 there are 2 hits!!**\n",
      "**For trigger 442 there are 2 hits!!**\n",
      "**For trigger 475 there are 2 hits!!**\n",
      "**For trigger 502 there are 2 hits!!**\n",
      "**For trigger 647 there are 2 hits!!**\n",
      "**For trigger 664 there are 2 hits!!**\n",
      "**For trigger 714 there are 2 hits!!**\n",
      "**For trigger 727 there are 2 hits!!**\n",
      "**For trigger 818 there are 2 hits!!**\n",
      "**For trigger 853 there are 2 hits!!**\n",
      "**For trigger 858 there are 2 hits!!**\n",
      "**For trigger 866 there are 2 hits!!**\n",
      "**For trigger 913 there are 2 hits!!**\n",
      "----------------------------------------------------------------------------\n",
      "Simulation 1: Energy (15 keV), Azimuth (1000 degrees), Zenith (15 degrees)\n",
      "----------------------------------------------------------------------------\n",
      "Detector 1 has 287 hits.\n",
      "Detector 2 has 232 hits.\n",
      "Detector 3 has 228 hits.\n",
      "Detector 4 has 277 hits.\n",
      "The total hits are: 1024\n"
     ]
    }
   ],
   "source": [
    "for file in sfs.sims:\n",
    "    import re\n",
    "    counterXX = 0\n",
    "    counterNXX = 0\n",
    "    counterNXY = 0\n",
    "    counterXY = 0\n",
    "    count = 0\n",
    "    prevLine = 'random'\n",
    "    with open(file.simFile) as sim:\n",
    "    #     simE = enumerate(sim)\n",
    "        for i, line in enumerate(sim):\n",
    "            if line.startswith('ID'):\n",
    "    #             print(\"Line {}: {}\".format(i, line))\n",
    "                ID = line.split()\n",
    "                for i in range(len(ID)):\n",
    "                    trigger = ID[1]\n",
    "            if line.startswith('HTsim'):\n",
    "    #             print(\"Line {}: {}\".format(i, line))\n",
    "                data = line.split(\";\")\n",
    "                data = [w.strip(' ') for w in data]\n",
    "\n",
    "                for i in range(len(data)):\n",
    "                    if data[i] == '5.52500' and data[i+1] == '5.52500':\n",
    "                        counterXX += 1\n",
    "                    elif data[i] == '5.52500' and data[i+1] == '-5.52500':\n",
    "                        counterXY += 1\n",
    "                    elif data[i] == '-5.52500' and data[i+1] == '5.52500':\n",
    "                        counterNXX += 1\n",
    "                    elif data[i] == '-5.52500' and data[i+1] == '-5.52500':\n",
    "                        counterNXY += 1\n",
    "    #         print(line)\n",
    "    #         print(prevLine)\n",
    "            if prevLine.startswith('HTsim') and line.startswith('HTsim'):\n",
    "    #                 print('**', i-1)\n",
    "    #                 pLine = line[i-1]\n",
    "    #                 print(simE)\n",
    "    #                 if pLine.startswith('HTsim'):\n",
    "                print('**For trigger', trigger, 'there are 2 hits!!**')\n",
    "\n",
    "\n",
    "    #         print(prevLine)\n",
    "            prevLine = line\n",
    "\n",
    "    vars = re.split('[_ .]', file.simFile)\n",
    "\n",
    "    print(\"----------------------------------------------------------------------------\")\n",
    "    print('Simulation 1: Energy ({} keV), Azimuth ({} degrees), Zenith ({} degrees)'.format(vars[2], vars[4], vars[6]))\n",
    "    print(\"----------------------------------------------------------------------------\")\n",
    "    print('Detector 1 has', counterXX , 'hits.')\n",
    "    print('Detector 2 has', counterNXX , 'hits.')\n",
    "    print('Detector 3 has', counterNXY , 'hits.')\n",
    "    print('Detector 4 has', counterXY , 'hits.')\n",
    "\n",
    "hitsTot = counterXX + counterNXX + counterNXY + counterXY\n",
    "print('The total hits are:', hitsTot)\n",
    "\n",
    "                        \n",
    "                                \n",
    "                        \n",
    "            "
   ]
  },
  {
   "cell_type": "code",
   "execution_count": null,
   "metadata": {},
   "outputs": [],
   "source": []
  },
  {
   "cell_type": "code",
   "execution_count": null,
   "metadata": {},
   "outputs": [],
   "source": []
  }
 ],
 "metadata": {
  "kernelspec": {
   "display_name": "Python 3",
   "language": "python",
   "name": "python3"
  },
  "language_info": {
   "codemirror_mode": {
    "name": "ipython",
    "version": 3
   },
   "file_extension": ".py",
   "mimetype": "text/x-python",
   "name": "python",
   "nbconvert_exporter": "python",
   "pygments_lexer": "ipython3",
   "version": "3.6.5"
  }
 },
 "nbformat": 4,
 "nbformat_minor": 2
}
