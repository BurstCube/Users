{
 "cells": [
  {
   "cell_type": "code",
   "execution_count": 8,
   "metadata": {},
   "outputs": [
    {
     "name": "stdout",
     "output_type": "stream",
     "text": [
      "{'Azimuth': [[0.0], [32.73], [65.45], [98.18], [130.91], [163.64], [196.36], [229.09], [261.82], [294.55], [327.27], [360.0]], 'Zenith': [[15.0], [15.0], [15.0], [15.0], [15.0], [15.0], [15.0], [15.0], [15.0], [15.0], [15.0], [15.0]], 'Energy': [[200.0], [200.0], [200.0], [200.0], [200.0], [200.0], [200.0], [200.0], [200.0], [200.0], [200.0], [200.0]], 'Detector1': [[28.57142857142857], [31.312127236580515], [31.60518444666002], [28.059701492537314], [25.274725274725274], [23.876123876123874], [20.23928215353938], [22.15568862275449], [21.77822177822178], [22.577422577422578], [24.850299401197603], [28.642714570858285]], 'Detector2': [[22.07792207792208], [25.04970178926441], [25.124626121635096], [27.46268656716418], [30.069930069930066], [28.471528471528472], [28.713858424725824], [25.0499001996008], [21.678321678321677], [21.678321678321677], [22.055888223552895], [21.35728542914172]], 'Detector3': [[22.27772227772228], [20.07952286282306], [19.641076769690926], [22.487562189054728], [24.575424575424577], [25.574425574425575], [30.009970089730807], [26.94610778443114], [26.973026973026975], [25.47452547452547], [23.353293413173652], [22.75449101796407]], 'Detector4': [[27.072927072927072], [23.55864811133201], [23.629112662013956], [21.99004975124378], [20.07992007992008], [22.07792207792208], [21.036889332003987], [25.848303393213573], [29.570429570429567], [30.26973026973027], [29.740518962075846], [27.245508982035926]], 'maxType': ['counterXX', 'counterXX', 'counterXX', 'counterXX', 'counterNXX', 'counterNXX', 'counterNXY', 'counterNXY', 'counterXY', 'counterXY', 'counterXY', 'counterXX']}\n"
     ]
    }
   ],
   "source": [
    "import pickle \n",
    "\n",
    "f = open('triggerDictSS.txt', 'rb')\n",
    "mydict = pickle.load(f)\n",
    "print(mydict)"
   ]
  },
  {
   "cell_type": "code",
   "execution_count": 81,
   "metadata": {},
   "outputs": [
    {
     "name": "stdout",
     "output_type": "stream",
     "text": [
      "{'Azimuth': [[0.0], [32.73], [65.45], [98.18], [130.91], [163.64], [196.36], [229.09], [261.82], [294.55], [327.27], [360.0]], 'Zenith': [[15.0], [15.0], [15.0], [15.0], [15.0], [15.0], [15.0], [15.0], [15.0], [15.0], [15.0], [15.0]], 'Energy': [[200.0], [200.0], [200.0], [200.0], [200.0], [200.0], [200.0], [200.0], [200.0], [200.0], [200.0], [200.0]], 'Detector1': [[28.57142857142857], [31.312127236580515], [31.60518444666002], [28.059701492537314], [25.274725274725274], [23.876123876123874], [20.23928215353938], [22.15568862275449], [21.77822177822178], [22.577422577422578], [24.850299401197603], [28.642714570858285]], 'Detector2': [[22.07792207792208], [25.04970178926441], [25.124626121635096], [27.46268656716418], [30.069930069930066], [28.471528471528472], [28.713858424725824], [25.0499001996008], [21.678321678321677], [21.678321678321677], [22.055888223552895], [21.35728542914172]], 'Detector3': [[22.27772227772228], [20.07952286282306], [19.641076769690926], [22.487562189054728], [24.575424575424577], [25.574425574425575], [30.009970089730807], [26.94610778443114], [26.973026973026975], [25.47452547452547], [23.353293413173652], [22.75449101796407]], 'Detector4': [[27.072927072927072], [23.55864811133201], [23.629112662013956], [21.99004975124378], [20.07992007992008], [22.07792207792208], [21.036889332003987], [25.848303393213573], [29.570429570429567], [30.26973026973027], [29.740518962075846], [27.245508982035926]], 'maxType': ['counterXX', 'counterXX', 'counterXX', 'counterXX', 'counterNXX', 'counterNXX', 'counterNXY', 'counterNXY', 'counterXY', 'counterXY', 'counterXY', 'counterXX']}\n",
      "[[0.0], [32.73], [65.45], [98.18], [130.91], [163.64], [196.36], [229.09], [261.82], [294.55], [327.27], [360.0]]\n",
      "** 0.0 130.91000366210938 196.36000061035156 261.82000732421875 **\n",
      "** 98.18000030517578 163.63999938964844 229.08999633789062 327.2699890136719 **\n",
      "** {'Az': [[29.3, 128.99, 201.546, 300]], 'Detector': [['Detect1', 'Detect3', 'Detect4']], 'max1': 98.18000030517578, 'max2': 163.63999938964844, 'max3': 229.08999633789062, 'max4': 327.2699890136719, 'min1': 0.0, 'min2': 130.91000366210938, 'min3': 196.36000061035156, 'min4': 261.82000732421875} **\n"
     ]
    }
   ],
   "source": [
    "# for triggerDict['Azimuth'][trigerDict['Energy']]:\n",
    "#     for key = 'maxType':\n",
    "#         if triggerDict[key] == 'counterXX':\n",
    "\n",
    "import pylab as pl\n",
    "import sys\n",
    "\n",
    "import pickle \n",
    "\n",
    "f = open(sys.argv[1], 'rb')\n",
    "mydict = pickle.load(f)\n",
    "print(mydict)\n",
    "\n",
    "AzimuthList = list(mydict.values())[0]\n",
    "maxTypeList = list(mydict.values())[7]\n",
    "print(AzimuthList)\n",
    "AzimuthList = [float(i[0]) for i in AzimuthList]\n",
    "GRB = {'Az': [], 'Detector': []}\n",
    "# print(AzimuthList)\n",
    "count2 = -1\n",
    "# Az = [29.3, 128.99, 201.546, 300]\n",
    "Az = sys.argv[2]\n",
    "Detector = []\n",
    "Detect1 = 'Detect1'\n",
    "Detect2 = 'Detect2'\n",
    "Detect3 ='Detect3'\n",
    "Detect4 = 'Detect4'\n",
    "maxDetect1 = 0.0\n",
    "minDetect1 = 360.0\n",
    "maxDetect2 = 0.0\n",
    "minDetect2 = 360.0\n",
    "maxDetect3 = 0.0\n",
    "minDetect3 = 360.0\n",
    "maxDetect4 = 0.0\n",
    "minDetect4 = 360.0\n",
    "count = -1\n",
    "\n",
    "\n",
    "\n",
    "for i in maxTypeList:\n",
    "    count += 1\n",
    "#     print(AzimuthList[count])\n",
    "#     print(i)\n",
    "    if i == 'counterXX':\n",
    "        if AzimuthList[count] > maxDetect1 and AzimuthList[count] != 0 and AzimuthList[count] != 360:\n",
    "            maxDetect1 = AzimuthList[count]\n",
    "        if AzimuthList[count] < minDetect1:\n",
    "            minDetect1 = AzimuthList[count]\n",
    "    elif i == 'counterNXX':\n",
    "        if AzimuthList[count] > maxDetect2:\n",
    "            maxDetect2 = AzimuthList[count]\n",
    "        if AzimuthList[count] < minDetect2:\n",
    "            minDetect2 = AzimuthList[count]\n",
    "    elif i == 'counterNXY':\n",
    "        if AzimuthList[count] > maxDetect3:\n",
    "            maxDetect3 = AzimuthList[count]\n",
    "        if AzimuthList[count] < minDetect3:\n",
    "            minDetect3 = AzimuthList[count]\n",
    "    elif i == 'counterXY':\n",
    "        if AzimuthList[count] > maxDetect4:\n",
    "            maxDetect4 = AzimuthList[count]\n",
    "        if AzimuthList[count] < minDetect4:\n",
    "            minDetect4 = AzimuthList[count]\n",
    "            \n",
    "GRB['max1'] = maxDetect1\n",
    "GRB['max2'] = maxDetect2\n",
    "GRB['max3'] = maxDetect3\n",
    "GRB['max4'] = maxDetect4\n",
    "\n",
    "GRB['min1'] = minDetect1\n",
    "GRB['min2'] = minDetect2\n",
    "GRB['min3'] = minDetect3\n",
    "GRB['min4'] = minDetect4\n",
    "\n",
    "# energy = 200 ze = 15\n",
    "for angle in Az:\n",
    "    count2 += 1\n",
    "    if angle >= minDetect1 and angle <= maxDetect1:            \n",
    "        Detector.append(Detect1)\n",
    "    elif angle >= minDetect2 and angle <= maxDetect2:            \n",
    "        Detector.append(Detect2)\n",
    "# GRB['detector'] = 'Det2'\n",
    "    elif angle >= minDetect3 and angle <= maxDetect3:\n",
    "        Detector.append(Detect3)\n",
    "#         GRB['detector'] = 'Det3'\n",
    "    elif angle >= minDetect4 and angle <= maxDetect4:\n",
    "        Detector.append(Detect4)\n",
    "#         GRB['detector'] = 'Det4'\n",
    "#     GRB['Azimuth'] = angle\n",
    "GRB['Az'].append(Az)\n",
    "GRB['Detector'].append(Detector)\n",
    "\n",
    "print(\"**\", minDetect1, minDetect2, minDetect3, minDetect4, \"**\")\n",
    "print(\"**\", maxDetect1, maxDetect2, maxDetect3, maxDetect4, \"**\")\n",
    "\n",
    "print('**', GRB, \"**\")\n",
    "with open('sys.argv[3]', 'wb') as f:\n",
    "    pickle.dump(GRB, f, protocol=pickle.HIGHEST_PROTOCOL)"
   ]
  },
  {
   "cell_type": "code",
   "execution_count": 82,
   "metadata": {},
   "outputs": [
    {
     "name": "stdout",
     "output_type": "stream",
     "text": [
      "{'Az': [[29.3, 128.99, 201.546, 300]], 'Detector': [['Detect1', 'Detect3', 'Detect4']], 'max1': 98.18000030517578, 'max2': 163.63999938964844, 'max3': 229.08999633789062, 'max4': 327.2699890136719, 'min1': 0.0, 'min2': 130.91000366210938, 'min3': 196.36000061035156, 'min4': 261.82000732421875}\n"
     ]
    }
   ],
   "source": [
    "f = open('detGRB.txt', 'rb')\n",
    "mydict = pickle.load(f)\n",
    "print(mydict)"
   ]
  },
  {
   "cell_type": "code",
   "execution_count": null,
   "metadata": {},
   "outputs": [],
   "source": []
  }
 ],
 "metadata": {
  "kernelspec": {
   "display_name": "Python 3",
   "language": "python",
   "name": "python3"
  },
  "language_info": {
   "codemirror_mode": {
    "name": "ipython",
    "version": 3
   },
   "file_extension": ".py",
   "mimetype": "text/x-python",
   "name": "python",
   "nbconvert_exporter": "python",
   "pygments_lexer": "ipython3",
   "version": "3.6.5"
  }
 },
 "nbformat": 4,
 "nbformat_minor": 2
}
