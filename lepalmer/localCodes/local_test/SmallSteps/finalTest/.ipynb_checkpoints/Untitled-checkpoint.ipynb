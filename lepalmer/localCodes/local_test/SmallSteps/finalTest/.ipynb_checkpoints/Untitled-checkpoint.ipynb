{
 "cells": [
  {
   "cell_type": "code",
   "execution_count": 81,
   "metadata": {},
   "outputs": [
    {
     "name": "stdout",
     "output_type": "stream",
     "text": [
      "ya 9\n",
      "1 !!!\n",
      "5 @@@ 5 222\n",
      "1 ......\n"
     ]
    },
    {
     "ename": "IndexError",
     "evalue": "list index out of range",
     "output_type": "error",
     "traceback": [
      "\u001b[0;31m---------------------------------------------------------------------------\u001b[0m",
      "\u001b[0;31mIndexError\u001b[0m                                Traceback (most recent call last)",
      "\u001b[0;32m<ipython-input-81-5d5bb465db5d>\u001b[0m in \u001b[0;36m<module>\u001b[0;34m()\u001b[0m\n\u001b[1;32m     39\u001b[0m     \u001b[0;31m#                     print('hi')\u001b[0m\u001b[0;34m\u001b[0m\u001b[0;34m\u001b[0m\u001b[0m\n\u001b[1;32m     40\u001b[0m     \u001b[0;31m#                     rd += 1\u001b[0m\u001b[0;34m\u001b[0m\u001b[0;34m\u001b[0m\u001b[0m\n\u001b[0;32m---> 41\u001b[0;31m                         \u001b[0ml1\u001b[0m\u001b[0;34m[\u001b[0m\u001b[0mcount\u001b[0m\u001b[0;34m]\u001b[0m\u001b[0;34m[\u001b[0m\u001b[0mc\u001b[0m\u001b[0;34m]\u001b[0m\u001b[0;34m.\u001b[0m\u001b[0mappend\u001b[0m\u001b[0;34m(\u001b[0m\u001b[0mr\u001b[0m\u001b[0;34m)\u001b[0m\u001b[0;34m\u001b[0m\u001b[0m\n\u001b[0m\u001b[1;32m     42\u001b[0m                         \u001b[0mc\u001b[0m \u001b[0;34m+=\u001b[0m \u001b[0;36m1\u001b[0m\u001b[0;34m\u001b[0m\u001b[0m\n\u001b[1;32m     43\u001b[0m \u001b[0;34m\u001b[0m\u001b[0m\n",
      "\u001b[0;31mIndexError\u001b[0m: list index out of range"
     ]
    }
   ],
   "source": [
    "import numpy as np\n",
    "\n",
    "a = np.array([[1, 2], [3, 4]])\n",
    "b = np.array([[5, 9], [7, 6]])\n",
    "print('ya', b[0][1])\n",
    "# b[:][:]\n",
    "l = []\n",
    "l1 = []\n",
    "l2 = []\n",
    "l3 = []\n",
    "l4 = []\n",
    "\n",
    "for i, x in enumerate(a):\n",
    "#     print(x[1], \"!!!\")\n",
    "    for j, y in enumerate(b):\n",
    "#         print(y[1], '@@@')\n",
    "        for i in range(x[1], y[1]):\n",
    "            l.append(i)\n",
    "# \n",
    "\n",
    "\n",
    "# rd = -1\n",
    "\n",
    "\n",
    "for i, el in enumerate(a):\n",
    "#     print(a)\n",
    "\n",
    "    count = 0\n",
    "    for f in el:\n",
    "        print(f, '!!!')\n",
    "        for j, k in enumerate(b):\n",
    "            for g in k:\n",
    "                c = 0\n",
    "                print(g, '@@@', k[0], '222')\n",
    "                    \n",
    "                if count == 0:\n",
    "                    \n",
    "                    for r in range(f, g[count] + 1):\n",
    "                        l1[count][c].append(r)\n",
    "                        c += 1\n",
    "    \n",
    "                elif count == 1:\n",
    "                    for r in range(f, g[count] + 1):\n",
    "                        print(r, '......')\n",
    "    #                     print('hi')\n",
    "    #                     rd += 1\n",
    "                        l2[count][c].append(r)\n",
    "                        c += 1\n",
    "\n",
    "                elif count == 2:\n",
    "                    for r in range(f, g[count] + 1):\n",
    "                        print(r, '......')\n",
    "    #                     print('hi')\n",
    "    #                     rd += 1\n",
    "                        l3[count][c].append(r)\n",
    "                        c += 1\n",
    "    \n",
    "                else:\n",
    "                    for r in range(f, g[count] + 1):\n",
    "                        print(r, '......')\n",
    "    #                     print('hi')\n",
    "    #                     rd += 1\n",
    "                        l4[count][c].append(r)\n",
    "                break\n",
    "                rd += 1\n",
    "    count += 1\n",
    "                \n",
    "\n",
    "# # #   np.array(f)\n",
    "# # print(f)\n",
    "# # print(len(a))\n",
    "    \n"
   ]
  },
  {
   "cell_type": "code",
   "execution_count": null,
   "metadata": {},
   "outputs": [],
   "source": []
  }
 ],
 "metadata": {
  "kernelspec": {
   "display_name": "Python 3",
   "language": "python",
   "name": "python3"
  },
  "language_info": {
   "codemirror_mode": {
    "name": "ipython",
    "version": 3
   },
   "file_extension": ".py",
   "mimetype": "text/x-python",
   "name": "python",
   "nbconvert_exporter": "python",
   "pygments_lexer": "ipython3",
   "version": "3.6.5"
  }
 },
 "nbformat": 4,
 "nbformat_minor": 2
}
