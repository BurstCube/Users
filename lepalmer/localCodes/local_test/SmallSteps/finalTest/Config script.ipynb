{
 "cells": [
  {
   "cell_type": "code",
   "execution_count": 5,
   "metadata": {},
   "outputs": [],
   "source": [
    "for i in range(0, 91):\n",
    "    if i==15 or i==30 or i==45 or i==60:\n",
    "        continue\n",
    "        \n",
    "    folder='100_' + str(i) + 'data/' + str(i) + '_100_20A'\n",
    "\n",
    "# for folder in directories:\n",
    "    \n",
    "    with open('/home/laura/Research/local_test/SmallSteps/finalTest/randomBursts/' + folder + '/config.yaml', 'r+') as file:\n",
    "        data = file.readlines()\n",
    "    data[26] = '  aznumbins: 20' + '\\n'\n",
    "    data[27] = '  basename: ' + str(i) + '_100_20A' + '\\n'\n",
    "    data[31] = '  simdir: ' + '/home/laura/Research/local_test/SmallSteps/finalTest/randomBursts/' + folder + '\\n'\n",
    "    data[32] = '  srcdir: ' + '/home/laura/Research/local_test/SmallSteps/finalTest/randomBursts/' + folder + '\\n'\n",
    "    data[33] = '  stdout_dir: ' + '/home/laura/Research/local_test/SmallSteps/finalTest/randomBursts/' + folder + '\\n'\n",
    "    data[34] = '  zemax: ' + str(i) + '\\n'\n",
    "    data[35] = '  zemin: ' + str(i) + '\\n'      \n",
    "\n",
    "    with open('/home/laura/Research/local_test/SmallSteps/finalTest/randomBursts/' + folder + '/config.yaml', 'w') as file:\n",
    "        file.writelines(data)"
   ]
  },
  {
   "cell_type": "code",
   "execution_count": null,
   "metadata": {},
   "outputs": [],
   "source": []
  }
 ],
 "metadata": {
  "kernelspec": {
   "display_name": "Python 3",
   "language": "python",
   "name": "python3"
  },
  "language_info": {
   "codemirror_mode": {
    "name": "ipython",
    "version": 3
   },
   "file_extension": ".py",
   "mimetype": "text/x-python",
   "name": "python",
   "nbconvert_exporter": "python",
   "pygments_lexer": "ipython3",
   "version": "3.6.5"
  }
 },
 "nbformat": 4,
 "nbformat_minor": 2
}
