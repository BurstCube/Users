{
 "cells": [
  {
   "cell_type": "markdown",
   "metadata": {},
   "source": [
    "This portion of the code imports the sim files from the directory containing the configuration file, and the BurstCube module is used to extract elements from the files: energy, azimuth, and zenith. \n",
    "Astropy module is also imported to allow for creation of tables/updating tables.\n"
   ]
  },
  {
   "cell_type": "code",
   "execution_count": 1,
   "metadata": {},
   "outputs": [
    {
     "name": "stdout",
     "output_type": "stream",
     "text": [
      "Enter your file name:randomBursts/315_100_60/config.yaml\n",
      "Loading /home/laura/Research/local_test/SmallSteps/finalTest/randomBursts/315_100_60//31510060_100.000keV_60.00ze_315.00az.inc1.id1.sim\n",
      "[60.0]\n"
     ]
    }
   ],
   "source": [
    "# import required modules for making a table and loading in BurstCube\n",
    "# software\n",
    "from astropy.table import Table\n",
    "from BurstCube.simGenerator import configurator\n",
    "from BurstCube.bcSim import simFiles\n",
    "\n",
    "# configuration file taken from chosen directory to load in sim files \n",
    "# (start from the current directory)\n",
    "localFile = input('Enter your file name:')\n",
    "conf = configurator(localFile)\n",
    "\n",
    "# set all simfiles as sfs\n",
    "sfs = simFiles(localFile)\n",
    "\n",
    "# use area variable to extract needed elements from simulation files\n",
    "# : azimuth, zenith, and energy\n",
    "area = sfs.calculateAeff()\n",
    "\n",
    "Energy = list(area['keV'])\n",
    "Azimuth = list(area['az'])\n",
    "Zenith = list(area['ze'])"
   ]
  },
  {
   "cell_type": "markdown",
   "metadata": {},
   "source": [
    "The detector counting variables are initialized per each sim file. The lists hitsData is also initialized to store all data (either from one file to find the unknown location of a random burst or from multiple files to store simulated data in a table).\n",
    "\n",
    "Detector counts are found by extracting lines out of simulation files containing hit data (each hit should be located on the center of a detector because the source files set the DiscretizeHits variable to TRUE):\n",
    "* each detector is located in each quadrant of the cartesian plane\n",
    "* the azimuth angle is measured counterclockwise from the x-axis\n",
    "* the absolute value of each center x-y pair is: (5.52500, 5.52500)"
   ]
  },
  {
   "cell_type": "code",
   "execution_count": 2,
   "metadata": {},
   "outputs": [
    {
     "name": "stdout",
     "output_type": "stream",
     "text": [
      "Enter 1 if this simulation is for the new localization code or enter 0 for old code:1\n"
     ]
    }
   ],
   "source": [
    "count = 0; prevLine = 'random'\n",
    "hitsData = []; trigger = []\n",
    "\n",
    "# import required modules\n",
    "import re\n",
    "import sys\n",
    "import numpy as np\n",
    "\n",
    "# loop through all sim files\n",
    "for file in sfs.sims:\n",
    "    \n",
    "    # initialize variables used to sum hits per detector \n",
    "    counter1 = 0; counter2 = 0; counter3 = 0; counter4 = 0\n",
    "    \n",
    "    # open each simulation file and loop over all lines\n",
    "    with open(file.simFile) as sim:\n",
    "#         print(file.simFile)\n",
    "        for i, line in enumerate(sim):\n",
    "            \n",
    "            # this code is not yet finished, but if the ID would\n",
    "            # be needed, this portion would go to use\n",
    "            if line.startswith('ID'):\n",
    "                ID = line.split()                  \n",
    "                    \n",
    "            # split line by semi-colons/spaces to retrieve hit positions (detector centers)\n",
    "            # to determine which detector is being hit\n",
    "            if line.startswith('HTsim'):\n",
    "                \n",
    "                data = line.split(\";\")\n",
    "                data = [w.strip(' ') for w in data]\n",
    "                # get the x-coordinate of the detector center where the hit occurs\n",
    "                data[1] = float(data[1])\n",
    "                # get the y-coordinate of the detector center where the hit occurs\n",
    "                data[2] = float(data[2])\n",
    "\n",
    "                #detector 1\n",
    "                if (abs(5.52500 - data[1]) <= 0.05) and  (abs(5.52500 - data[2]) <= .05):\n",
    "                    counter1 += 1\n",
    "#                     print('1: ', counter1)\n",
    "                #detector 2    \n",
    "                elif (abs(-5.52500 - data[1]) <= 0.05) and  (abs(5.52500 - data[2]) <= .05):\n",
    "                    counter2 += 1\n",
    "#                     print('2: ', counter2)\n",
    "                #detector 3 \n",
    "                elif (abs(-5.52500 - data[1]) <= 0.05) and  (abs(-5.52500 - data[2]) <= .05):\n",
    "                    counter3 += 1\n",
    "#                     print('3: ', counter3)\n",
    "                #detector 4\n",
    "                elif (abs(5.52500 - data[1]) <= 0.05) and  (abs(-5.52500 - data[2]) <= .05):\n",
    "                    counter4 += 1\n",
    "#                     print('4: ', counter4) \n",
    "            \n",
    "            # (not yet completed): if the previous line starts with HTsim, record that double occurence\n",
    "            if prevLine.startswith('HTsim') and line.startswith('HTsim'):\n",
    "                count += 1\n",
    "                \n",
    "#                 if fileCount == '0':\n",
    "#                     tableNames = ('Energy', 'Azimuth', 'Zenith', 'triggerID1', 'triggerID2', 'tallyOfOccurence')\n",
    "#                     dt = Table(Energy[fileCount], Azimuth[fileCount], Zenith[fileCount], prevTrigger, \n",
    "#                               trigger[counter], count, names=tableNames)\n",
    "#                     dt.write('doubleTriggerTable.txt', format='ascii.ecsv')\n",
    "                    \n",
    "#                 else:\n",
    "#                     dt.add_row(Energy[fileCount], Azimuth[fileCount], Zenith[fileCount], prevTrigger, \n",
    "#                               trigger[counter], count, names=tableNames)\n",
    "#                     dt.write('doubleTriggerTable.txt', format='ascii.ecsv')\n",
    "                \n",
    "                sfo = re.split('[_ . //]', file.simFile)\n",
    "    \n",
    "            prevLine = line           \n",
    "                \n",
    "    # append a list to hitsData for the total number of hits per each detector\n",
    "    hitsData.append([counter1, counter2, counter3, counter4])\n"
   ]
  },
  {
   "cell_type": "markdown",
   "metadata": {},
   "source": [
    "The small cell located below helps to analyze the hitsData array for future use."
   ]
  },
  {
   "cell_type": "code",
   "execution_count": 3,
   "metadata": {},
   "outputs": [
    {
     "name": "stdout",
     "output_type": "stream",
     "text": [
      "[[254, 156, 227, 363]]\n"
     ]
    }
   ],
   "source": [
    "print(hitsData)"
   ]
  },
  {
   "cell_type": "markdown",
   "metadata": {},
   "source": [
    "This cell has multiple functions:\n",
    "* First, the user is asked whether an uncertainty factor will be applied to the data (if so, the entire cell is bypassed)\n",
    "* If not, a series of statements allows the user to choose if they want to either determine the random burst location (inputDet will have the same value as hitsData), store simulated data loaded in from hitsData into a dictionary, or bypass all options.\n",
    "* In the case that a dictionary is made, all elements partaining to the burst data are extracted: the energy, azimuth, zenith, and the numbers of hits per each detector (all per each simulation file)"
   ]
  },
  {
   "cell_type": "code",
   "execution_count": 4,
   "metadata": {},
   "outputs": [
    {
     "name": "stdout",
     "output_type": "stream",
     "text": [
      "If you are storing uncertainty data, enter 1: 0\n",
      "Enter 1 if you want to determine the burst location, 0 to store data new data in a dict, and anything else to pass: 1\n"
     ]
    }
   ],
   "source": [
    "# if using the uncertainty calculation to gain accuracy in stored simulated GRB data\n",
    "uncertainty = input('If you are storing uncertainty data, enter 1: ')\n",
    "if uncertainty == '1':\n",
    "    pass\n",
    "\n",
    "else:\n",
    "    # if using new code, examine the options below\n",
    "    # if GRBfinder == '1':\n",
    "        \n",
    "        randomB = input('Enter 1 if you want to determine the burst location, 0 to store data new data in a dict, and anything else to pass: ')\n",
    "        \n",
    "        # to determine what azimuth corresponds to the random generated GRB\n",
    "        if randomB == '1':\n",
    "            inputDet = hitsData\n",
    "        \n",
    "        # to take new simulated GRB data to be stored in table, first store that data in a dictionary\n",
    "        elif randomB == '0':\n",
    "            hits = np.array(hitsData)\n",
    "            \n",
    "            # intialize dictionary, storing energy, azimuth, zenith, and hits per detector\n",
    "            LocalizationDict2 = {}\n",
    "            LocalizationDict2.update({'Energy': Energy})\n",
    "            LocalizationDict2.update({'Azimuth': Azimuth})\n",
    "            LocalizationDict2.update({'Zenith': Zenith})\n",
    "\n",
    "            LocalizationDict2['hits1'] =[]\n",
    "            LocalizationDict2['hits2'] = []\n",
    "            LocalizationDict2['hits3']= []\n",
    "            LocalizationDict2['hits4']= []\n",
    "            \n",
    "            # each list takes only the detector hits that correspond\n",
    "            # to its dictionary key title (ex: 'hits1' means all data for detector one)\n",
    "            for x in list(hits[:,0]):\n",
    "                LocalizationDict2['hits1'].append(x)\n",
    "            for y in list(hits[:,1]):\n",
    "                LocalizationDict2['hits2'].append(y)\n",
    "            for z in list(hits[:,2]):\n",
    "                LocalizationDict2['hits3'].append(z)\n",
    "            for q in list(hits[:,3]):\n",
    "                LocalizationDict2['hits4'].append(q)\n",
    "        else:\n",
    "            pass"
   ]
  },
  {
   "cell_type": "markdown",
   "metadata": {},
   "source": [
    "The user is then asked another set of options:\n",
    "* If they want to use a table to store data, they can either choose to make a table for the first time or load in new data from dictionary, adding a new row in the table per each set of data in dictionary (the table is preprogrammed to have the same titles as the dictionary to make merging easy)\n",
    "* They could also just read in the data already stored in the table if they would like to apply an uncertainty factor on select data"
   ]
  },
  {
   "cell_type": "code",
   "execution_count": 5,
   "metadata": {},
   "outputs": [
    {
     "name": "stdout",
     "output_type": "stream",
     "text": [
      "If making the data table for the first time enter 0, enter 1 for updating new code, enter 2 to read in normal data, enter 3 to work with temp data, enter 4 to read in test data, and enter 5 to store test data: 2\n"
     ]
    }
   ],
   "source": [
    "start = input('If making the data table for the first time enter 0, enter 1 for updating new code, enter 2 to read in normal data, or enter 3 to read in temp data: ')\n",
    "\n",
    "# if making table for the first time, use dictionary to \n",
    "# import values and col names\n",
    "if start == '0':\n",
    "    colnames = ('Energy', 'Azimuth', 'Zenith', 'hits1', 'hits2', 'hits3', 'hits4')\n",
    "    t = Table(LocalizationDict2, names=colnames)\n",
    "    t.write('storedBurstData.txt', format='ascii.ecsv')\n",
    "\n",
    "# addding data to table, use dictionary and add new row per simulation   \n",
    "elif start == '1':\n",
    "    t = Table.read('storedBurstData.txt', format='ascii.ecsv')\n",
    "    for i in range(0, len(hitsData)):\n",
    "        t.add_row([LocalizationDict2['Energy'][i], LocalizationDict2['Azimuth'][i],\n",
    "        LocalizationDict2['Zenith'][i], LocalizationDict2['hits1'][i],\n",
    "        LocalizationDict2['hits2'][i], LocalizationDict2['hits3'][i],\n",
    "        LocalizationDict2['hits4'][i]])\n",
    "        t.write('storedBurstData.txt', format='ascii.ecsv')\n",
    "\n",
    "# loading stored data to conduct uncertainty calculation\n",
    "elif start == '2':\n",
    "    t = Table.read('storedBurstData.txt', format='ascii.ecsv')\n",
    "\n",
    "# loading data stored in temp folder to see how uncertainty data compares to the random\n",
    "# burst on its own\n",
    "else # start == '3':\n",
    "    t = Table.read('tempBurstData.txt', format='ascii.ecsv')\n"
   ]
  },
  {
   "cell_type": "markdown",
   "metadata": {},
   "source": [
    "If the uncertainty factor is applied, an array variable trialArrayOH will contain all rows in the loaded table that have an energy of 100 keV. The table range to be extracted will be requested (using \"first\" and \"second\"), and then the number of hits per detector will be loaded from that data into the hitsArray variable. A list will then be generated corresponding to each set of detector data, and each element in each list will have the uncertainty factor applied, which is the square root of the number of triggers over the number of triggers (0.0316227766 or about 3 percent). The step size pertaining to the range of uncertainty, from a low of 3 percent lower than the current value to 3 percent higher than the current value, will also be inputted from the user. Uncertainty data will then be stored in a table."
   ]
  },
  {
   "cell_type": "code",
   "execution_count": 6,
   "metadata": {},
   "outputs": [],
   "source": [
    "if uncertainty == '1':\n",
    "    # create list variables corresponding to each detector\n",
    "    l1 = []\n",
    "    l2 = []\n",
    "    l3 = []\n",
    "    l4 = []\n",
    "    uncertAngle = []\n",
    "    \n",
    "    # generate array of data corresponding to all values with \n",
    "    # an energy of 100 keV\n",
    "    trialArrayOH = t[[t['Energy']==100]]\n",
    "    first = int(input('Enter the index in the table for the first number in the trialArrayOH range: '))\n",
    "    second = int(input('Enter the index in the table for the second number in the trialArrayOH range: '))\n",
    "    \n",
    "    # add a correction factor to make sure the table values line up\n",
    "    first = first - 13\n",
    "    second = second - 12\n",
    "\n",
    "    trialArrayOH = trialArrayOH[first:second]\n",
    "    print(trialArrayOH)\n",
    "    \n",
    "    # extract hits per each detector\n",
    "    hitsArray = np.array([trialArrayOH['hits1'], trialArrayOH['hits2'], \n",
    "                                      trialArrayOH['hits3'], trialArrayOH['hits4']])\n",
    "\n",
    "    def output_list(num, numDivisions):\n",
    "        \"\"\"Generates hits per detector data with uncertainty applied\n",
    "\n",
    "        Parameters\n",
    "        ----------\n",
    "        num : the number of hits for a certain detector occurence\n",
    "        \n",
    "        numDivisions : the number of partitions between the lower uncertainty and \n",
    "                       higher uncertainty\n",
    "\n",
    "        Returns\n",
    "        ----------\n",
    "        myList : list in which all uncertainty elements produced from one element \n",
    "                 stores the resulting data\n",
    "\n",
    "        \"\"\"\n",
    "        myList = []\n",
    "        \n",
    "        # uncertainty of about 3 percent applied\n",
    "        numRange = (num + num*.0316227766) - (num - num*.0316227766)\n",
    "        \n",
    "        # generate increments to add to each number in uncertainty range\n",
    "        divSize = numRange/(numDivisions - 1)\n",
    "        \n",
    "        # returing a list containing the element with uncertainty applied\n",
    "        # going from a low to a high of about 3 percent below/above that element\n",
    "        for x in range(0, numDivisions):\n",
    "            myList.append((num - num*.0316227766) + x*divSize)\n",
    "#             print(myList)\n",
    "        return myList\n",
    "    '''End function'''\n",
    "    \n",
    "    # determine which list to use based on the detector (l1 corresponds to detector 1)\n",
    "    for i, sublist in enumerate(hitsArray):\n",
    "        # det1\n",
    "        if i == 0:\n",
    "            useList = l1\n",
    "        # det2\n",
    "        elif i == 1:\n",
    "            useList = l2\n",
    "        # det3\n",
    "        elif i == 2:\n",
    "            useList = l3\n",
    "        # det4\n",
    "        else:\n",
    "            useList = l4\n",
    "            \n",
    "        # for each hits occurence per hits list, apply uncertainty \n",
    "        # using the variable \"steps\" for the step size between low\n",
    "        # and high values \n",
    "        \n",
    "        steps = input('What do you want your step size to be between uncertainty low and high values?: ')\n",
    "        for el in sublist:\n",
    "            tempList = output_list(el, steps)\n",
    "            for num in tempList:\n",
    "                useList.append(num)\n",
    "\n",
    "    resultArray = [l1,l2,l3,l4]\n",
    "    resultArray = np.asarray(resultArray)\n",
    "    \n",
    "    # depending on the number of partitions used to generate \n",
    "    # uncertainty data (\"steps\"), for each row in extracted table, \n",
    "    # generate an array containing the angles to be stored with the\n",
    "    # newly determined hits per each detector\n",
    "    \n",
    "    for i in range(0, len(trialArrayOH)):\n",
    "        for x in range(0, steps):\n",
    "            uncertAngle.append(trialArrayOH['Azimuth'][i])\n",
    "    \n",
    "    # to store data in strictly uncertainty table\n",
    "    storeTemp = input('Enter 1 if you are storing data in the temp table and anything else if storing it in the regular table: ')\n",
    "    \n",
    "    if storeTemp == '1':\n",
    "        t = Table.read('tempBurstData.txt', format='ascii.ecsv')\n",
    "        for i in range(0, len(l1)):\n",
    "            t.add_row([area['keV'][0], uncertAngle[i],\n",
    "            area['ze'][0], resultArray[0][i],\n",
    "            resultArray[1][i], resultArray[2][i],\n",
    "            resultArray[3][i]])\n",
    "            t.write('tempBurstData.txt', format='ascii.ecsv')\n",
    "            \n",
    "    # to store data in simulated GRB table (regular table)\n",
    "    else:\n",
    "        for i in range(0, len(l1)):\n",
    "            t.add_row([area['keV'][0], uncertAngle[i],\n",
    "            area['ze'][0], resultArray[0][i],\n",
    "            resultArray[1][i], resultArray[2][i],\n",
    "            resultArray[3][i]])\n",
    "            t.write('storedBurstData.txt', format='ascii.ecsv')\n",
    "\n",
    "else:\n",
    "    pass\n",
    "        "
   ]
  },
  {
   "cell_type": "markdown",
   "metadata": {},
   "source": [
    "If the random burst location is to be determined, the energy of the burst is requested by the user, and all rows containing that select data are generated. The user is then asked the zenith of the random burst. The user is then asked which elements are to be extracted from the table using their indexes (\"begin\" and \"end\") to compare against the random burst. The least squares calculation is then applied to the entire set of selected data against the random burst: the position where the least squares results in the lowest value is placed in the variable, \"result\". \"result\" will then be used to store burst location, categorizing it by specfied energy (\"energyRB\") and zenith (\"zenithRB\")."
   ]
  },
  {
   "cell_type": "code",
   "execution_count": 7,
   "metadata": {},
   "outputs": [
    {
     "name": "stdout",
     "output_type": "stream",
     "text": [
      "What is the energy of the random burst?: 100\n",
      "What is the desired zenith?: 60\n",
      "Enter the first number in the table corresponding to the energy range: 16\n",
      "Enter the second number in the table corresponding to the energy range: 36\n",
      "[[402 429 446 404 406 392 312 250 187 120 118 120 157 112 110 125 170 248\n",
      "  346 392]\n",
      " [126 161 188 287 364 388 403 351 375 388 349 274 231 154 110 129 160 165\n",
      "  129 143]\n",
      " [126 117 142 142 131 120 144 222 290 369 406 406 396 417 425 326 302 216\n",
      "  180 131]\n",
      " [348 295 226 167 100 100 142 179 150 124 127 202 219 318 356 422 369 372\n",
      "  347 335]]\n",
      "[[254]\n",
      " [156]\n",
      " [227]\n",
      " [363]]\n"
     ]
    }
   ],
   "source": [
    "# continue storing random burst data   \n",
    "if randomB == '1':  \n",
    "        \n",
    "    inputDet = [[inputDet[0][0]], [inputDet[0][1]], [inputDet[0][2]], [inputDet[0][3]]]\n",
    "    \n",
    "    energyRB = input('What is the energy of the random burst?: ')\n",
    "    if energyRB == '100':\n",
    "        trialArray = t[t['Energy']==100]\n",
    "    elif energyRB == '200':\n",
    "        trialArray = t[t['Energy']==200]\n",
    "    elif energyRB == '300':\n",
    "        trialArray = t[t['Energy']==300]\n",
    "    \n",
    "    zenithRB = input('What is the desired zenith?: ')\n",
    "    if zenithRB == '15':\n",
    "        trialArray = trialArray[trialArray['Zenith']==15]\n",
    "    elif zenithRB == '30':\n",
    "        trialArray = trialArray[trialArray['Zenith']==30]\n",
    "    elif zenithRB == '45':\n",
    "        trialArray = trialArray[trialArray['Zenith']==45]\n",
    "    elif zenithRB == '60':\n",
    "        trialArray = trialArray[trialArray['Zenith']==60]\n",
    "        \n",
    "    begin = int(input('Enter the first index number in the table corresponding to the energy range: '))\n",
    "    end = int(input('Enter the second index number in the table corresponding to the energy range: '))\n",
    "    trialArray = trialArray[begin:end]\n",
    "    \n",
    "    # add a correction factor to make sure the table values line up\n",
    "    begin = begin - 13\n",
    "    end = end - 12\n",
    "    \n",
    "    print(trialArray)\n",
    "    \n",
    "    hitsArray = np.array([trialArray['hits1'], trialArray['hits2'], \n",
    "                                      trialArray['hits3'], trialArray['hits4']])\n",
    "    print(hitsArray)\n",
    "    print(np.array(inputDet))\n",
    "        \n",
    "    # use the least squares method to obtain the simulated GRB azimuth\n",
    "    # that is most like the random GRB\n",
    "    result = np.argmin(np.sum((hitsArray - inputDet)**2, axis=0))\n",
    "    #     print(result) find position of angle in practiceTable\n",
    "    \n",
    "    resultDict = {'SourceDet1': inputDet[0], 'SourceDet2': inputDet[1], \n",
    "              'SourceDet3': inputDet[2], 'SourceDet4': inputDet[3],\n",
    "              'energy': [trialArray['Energy'][0]], \n",
    "                  'zenith': [trialArray['Zenith'][0]],\n",
    "              'azimuth': [trialArray['Azimuth'][result]], 'actAzimuth': area['az']}\n",
    "else:\n",
    "    pass\n",
    "        "
   ]
  },
  {
   "cell_type": "markdown",
   "metadata": {},
   "source": [
    "A series of options exists for the user in which case, if they are trying to determine the random burst location, they can either make a table for the first time to store the data, or they can add a new row, with their determined GRB info, to their pre-existing stored data."
   ]
  },
  {
   "cell_type": "code",
   "execution_count": 9,
   "metadata": {},
   "outputs": [
    {
     "name": "stdout",
     "output_type": "stream",
     "text": [
      "If you want to start determining the random burst direction for the first time enter 1, if you want to continue storing data enter 0, and 2 if you wish to pass: 0\n",
      "Enter 1 to store angle match data normally and 2 to store it for least squares test: 1\n"
     ]
    },
    {
     "name": "stderr",
     "output_type": "stream",
     "text": [
      "WARNING: AstropyDeprecationWarning: angleMatchTable.txt already exists. Automatically overwriting ASCII files is deprecated. Use the argument 'overwrite=True' in the future. [astropy.io.ascii.ui]\n"
     ]
    }
   ],
   "source": [
    "begin = input('If you want to start determining the random burst direction for the first time enter 1, if you want to continue storing data enter 0, and 2 if you wish to pass: ')     \n",
    "angleStore = input('Enter 1 to store angle match data normally and 2 to store it for least squares test: ')\n",
    "\n",
    "# if making the result table for the first time, add determined GRB data\n",
    "if begin == '1':\n",
    "    \n",
    "        if angleStore == '1':\n",
    "            resultNames = ('SourceDet1', 'SourceDet2', 'SourceDet3', 'SourceDet4', 'energy',\n",
    "                       'zenith', 'azimuth', 'actAzimuth')\n",
    "            t2 = Table(resultDict, names=resultNames)\n",
    "            t2.write('angleMatchTable.txt', format='ascii.ecsv')\n",
    "\n",
    "        elif angleStore == '2':\n",
    "            resultNames = ('SourceDet1', 'SourceDet2', 'SourceDet3', 'SourceDet4', 'energy',\n",
    "                       'zenith', 'azimuth', 'actAzimuth')\n",
    "            t2 = Table(resultDict, names=resultNames)\n",
    "            t2.write('angleleastSQTestMatch.txt', format='ascii.ecsv')\n",
    "    \n",
    "# if updating result table, input all variables corresponding to determined GRB\n",
    "elif begin == '0':\n",
    "    \n",
    "    if angleStore == '1':\n",
    "        t2 = Table.read('angleMatchTable.txt', format='ascii.ecsv')\n",
    "        # t2.write('resultTable.txt', format='ascii.ecsv')\n",
    "        t2.add_row([resultDict['SourceDet1'], resultDict['SourceDet2'], resultDict['SourceDet3'],\n",
    "                   resultDict['SourceDet4'], resultDict['energy'],\n",
    "                   resultDict['zenith'], resultDict['azimuth'], resultDict['actAzimuth']])\n",
    "        t2.write('angleMatchTable.txt', format='ascii.ecsv')\n",
    "\n",
    "    elif angleStore == '2':\n",
    "\n",
    "        t2 = Table.read('angleleastSQTestMatch.txt', format='ascii.ecsv')\n",
    "        # t2.write('resultTable.txt', format='ascii.ecsv')\n",
    "        t2.add_row([resultDict['SourceDet1'], resultDict['SourceDet2'], resultDict['SourceDet3'],\n",
    "                   resultDict['SourceDet4'], resultDict['energy'],\n",
    "                   resultDict['zenith'], resultDict['azimuth'], resultDict['actAzimuth']])\n",
    "        t2.write('angleleastSQTestMatch.txt', format='ascii.ecsv')\n",
    "        \n",
    "# if you do not want to store any new found GRB, pass       \n",
    "elif begin == '2':\n",
    "    pass"
   ]
  }
 ],
 "metadata": {
  "kernelspec": {
   "display_name": "Python 3",
   "language": "python",
   "name": "python3"
  },
  "language_info": {
   "codemirror_mode": {
    "name": "ipython",
    "version": 3
   },
   "file_extension": ".py",
   "mimetype": "text/x-python",
   "name": "python",
   "nbconvert_exporter": "python",
   "pygments_lexer": "ipython3",
   "version": "3.6.5"
  }
 },
 "nbformat": 4,
 "nbformat_minor": 2
}
