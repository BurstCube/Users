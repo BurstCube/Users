{
 "cells": [
  {
   "cell_type": "code",
   "execution_count": 1,
   "metadata": {},
   "outputs": [],
   "source": [
    "from BurstCube.bcSim import simFiles"
   ]
  },
  {
   "cell_type": "code",
   "execution_count": 2,
   "metadata": {},
   "outputs": [
    {
     "name": "stdout",
     "output_type": "stream",
     "text": [
      "Loading /home/laura/data/f_test_ze//ze_1000.000keV_0.00ze_0.00az.inc1.id1.sim\n",
      "Loading /home/laura/data/f_test_ze//ze_1000.000keV_30.00ze_0.00az.inc1.id1.sim\n",
      "Loading /home/laura/data/f_test_ze//ze_1000.000keV_60.00ze_0.00az.inc1.id1.sim\n"
     ]
    }
   ],
   "source": [
    "sfs = simFiles('config.yaml')"
   ]
  },
  {
   "cell_type": "code",
   "execution_count": 3,
   "metadata": {},
   "outputs": [],
   "source": [
    "import numpy as np\n",
    "energies = np.empty([len(sfs.sims)])\n",
    "for i, S in enumerate(sfs.sims):\n",
    "    energies[i] = S.energy"
   ]
  },
  {
   "cell_type": "code",
   "execution_count": 4,
   "metadata": {},
   "outputs": [],
   "source": [
    "area = sfs.calculateAeff(useEres=False, sigma=2.0)"
   ]
  },
  {
   "cell_type": "code",
   "execution_count": 5,
   "metadata": {},
   "outputs": [],
   "source": [
    "#Extracted the elements from the area array\n",
    "aeff = sfs.calculateAeff()\n",
    "\n",
    "gEres = list(aeff['aeff_eres'])\n",
    "bEres = list(aeff['aeff_eres_modfrac'])\n",
    "Area = list(aeff['aeff'])\n",
    "azimuth = list(aeff['az'])"
   ]
  },
  {
   "cell_type": "code",
   "execution_count": 6,
   "metadata": {},
   "outputs": [],
   "source": [
    "zens = np.empty([len(sfs.sims)])\n",
    "for i, S in enumerate(sfs.sims):\n",
    "    zens[i] = S.zenith"
   ]
  },
  {
   "cell_type": "code",
   "execution_count": 10,
   "metadata": {},
   "outputs": [
    {
     "ename": "TypeError",
     "evalue": "plotAeffvsTheta() got an unexpected keyword argument 'E'",
     "output_type": "error",
     "traceback": [
      "\u001b[0;31m---------------------------------------------------------------------------\u001b[0m",
      "\u001b[0;31mTypeError\u001b[0m                                 Traceback (most recent call last)",
      "\u001b[0;32m<ipython-input-10-f06293e8a6ea>\u001b[0m in \u001b[0;36m<module>\u001b[0;34m()\u001b[0m\n\u001b[1;32m      1\u001b[0m \u001b[0;31m#plotted the effective area against the incidence, energy is not constant (disregard title)\u001b[0m\u001b[0;34m\u001b[0m\u001b[0;34m\u001b[0m\u001b[0m\n\u001b[1;32m      2\u001b[0m \u001b[0;32mfrom\u001b[0m \u001b[0mBurstCube\u001b[0m\u001b[0;34m.\u001b[0m\u001b[0mplotSim\u001b[0m \u001b[0;32mimport\u001b[0m \u001b[0mplotAeffvsTheta\u001b[0m\u001b[0;34m\u001b[0m\u001b[0m\n\u001b[0;32m----> 3\u001b[0;31m \u001b[0mplotAeffvsTheta\u001b[0m\u001b[0;34m(\u001b[0m\u001b[0mzens\u001b[0m\u001b[0;34m,\u001b[0m \u001b[0mArea\u001b[0m\u001b[0;34m,\u001b[0m \u001b[0mgEres\u001b[0m\u001b[0;34m,\u001b[0m \u001b[0mbEres\u001b[0m\u001b[0;34m,\u001b[0m \u001b[0mE\u001b[0m\u001b[0;34m=\u001b[0m\u001b[0;34m'1000'\u001b[0m\u001b[0;34m)\u001b[0m\u001b[0;34m\u001b[0m\u001b[0m\n\u001b[0m",
      "\u001b[0;31mTypeError\u001b[0m: plotAeffvsTheta() got an unexpected keyword argument 'E'"
     ]
    }
   ],
   "source": [
    "#plotted the effective area against the incidence, energy is not constant (disregard title)\n",
    "from BurstCube.plotSim import plotAeffvsTheta\n",
    "plotAeffvsTheta(zens, Area, gEres, bEres, E='1000')"
   ]
  },
  {
   "cell_type": "code",
   "execution_count": null,
   "metadata": {},
   "outputs": [],
   "source": []
  }
 ],
 "metadata": {
  "kernelspec": {
   "display_name": "Python 3",
   "language": "python",
   "name": "python3"
  },
  "language_info": {
   "codemirror_mode": {
    "name": "ipython",
    "version": 3
   },
   "file_extension": ".py",
   "mimetype": "text/x-python",
   "name": "python",
   "nbconvert_exporter": "python",
   "pygments_lexer": "ipython3",
   "version": "3.6.5"
  }
 },
 "nbformat": 4,
 "nbformat_minor": 2
}
