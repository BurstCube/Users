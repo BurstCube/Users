{
 "cells": [
  {
   "cell_type": "code",
   "execution_count": null,
   "metadata": {},
   "outputs": [],
   "source": [
    "def plotAeffvsPhi(phi, aeff, aeff_eres, aeff_eres_modfrac,\n",
    "                    energy=100., paren=''):\n",
    "\n",
    "    \"\"\"Plots the GBM NaI effective area against the polar angle phi used\n",
    "    to generate that source.\n",
    "    \n",
    "    Parameters\n",
    "    ----------\n",
    "    phi : array\n",
    "       numpy array of the angle in deg of the source. \n",
    "    aeff : array\n",
    "        numpy array with GBM NaI effective area. \n",
    "    aeff_eres : array\n",
    "        I'll look up energy resulution later\n",
    "    aeff_eres_modfrac : array\n",
    "        plus escape? \n",
    "    Returns\n",
    "    ----------\n",
    "    a plot!\n",
    "    \"\"\"\n",
    "    plt.figure(figsize=(8, 6))\n",
    "    plt.title(r'Effective Area vs. Angle (E = {:,.0f} keV{})'\n",
    "              .format(energy, paren))\n",
    "    plt.scatter(phi, aeff, color='black')\n",
    "    plt.plot(phi, aeff, color='black', alpha=0.5, linestyle='--',\n",
    "             lw=2, label='BurstCube')\n",
    "    plt.scatter(phi, aeff_eres, color='blue')\n",
    "    plt.plot(phi, aeff_eres, color='blue', alpha=0.5, linestyle='--',\n",
    "             lw=2, label='BurstCube with E$_{\\mathrm{res}}$')\n",
    "    plt.scatter(phi, aeff_eres_modfrac, color='red')\n",
    "    plt.plot(phi, aeff_eres_modfrac, color='red', alpha=0.5, linestyle='--',\n",
    "             lw=2, label='BurstCube with E$_{\\mathrm{res}}$ + escape')\n",
    "\n",
    "    plt.xlabel('Azimuth Angle (deg)', fontsize=16)\n",
    "    plt.ylabel('Effective Area (cm$^2$)', fontsize=16)\n",
    "    plt.legend(loc='lower center', scatterpoints=1, prop={'size': 16},\n",
    "               frameon=False)\n",
    "plt.grid(True)"
   ]
  },
  {
   "cell_type": "code",
   "execution_count": null,
   "metadata": {},
   "outputs": [],
   "source": [
    "zens = np.empty([len(sfs.sims)])\n",
    "for i, S in enumerate(sfs.sims):\n",
    "    zens[i] = S.zenith"
   ]
  }
 ],
 "metadata": {
  "kernelspec": {
   "display_name": "Python 3",
   "language": "python",
   "name": "python3"
  },
  "language_info": {
   "codemirror_mode": {
    "name": "ipython",
    "version": 3
   },
   "file_extension": ".py",
   "mimetype": "text/x-python",
   "name": "python",
   "nbconvert_exporter": "python",
   "pygments_lexer": "ipython3",
   "version": "3.6.5"
  }
 },
 "nbformat": 4,
 "nbformat_minor": 2
}
