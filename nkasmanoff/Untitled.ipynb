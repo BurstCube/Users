{
 "cells": [
  {
   "cell_type": "code",
   "execution_count": 7,
   "metadata": {},
   "outputs": [],
   "source": [
    "### EXAMPLE PYTHON MODULE\n",
    "# Define some variables:\n",
    "numberone = 1\n",
    "ageofqueen = 78\n",
    "\n",
    "# define some functions\n",
    "def printhello():\n",
    "    print(\"hello\")\n",
    "    \n",
    "def timesfour(input):\n",
    "    print(input * 4)\n",
    "    \n",
    "# define a class\n",
    "class Piano:\n",
    "    def __init__(self):\n",
    "        self.type = input(\"What type of piano? \")\n",
    "        self.height = input(\"What height (in feet)? \")\n",
    "        self.price = input(\"How much did it cost? \")\n",
    "        self.age = input(\"How old is it (in years)? \")\n",
    "\t\n",
    "    def printdetails(self):\n",
    "        print(\"This piano is a/an \" + self.height + \" foot\")\n",
    "        print(self.type, \"piano, \" + self.age, \"years old and costing)\" + self.price + \" dollars.\")"
   ]
  },
  {
   "cell_type": "code",
   "execution_count": 8,
   "metadata": {},
   "outputs": [
    {
     "name": "stdout",
     "output_type": "stream",
     "text": [
      "hello\n"
     ]
    }
   ],
   "source": [
    "printhello()"
   ]
  },
  {
   "cell_type": "code",
   "execution_count": 15,
   "metadata": {},
   "outputs": [
    {
     "name": "stdout",
     "output_type": "stream",
     "text": [
      "What type of piano? Yamaha\n",
      "What height (in feet)? 5\n",
      "How much did it cost? 700\n",
      "How old is it (in years)? 4\n"
     ]
    }
   ],
   "source": [
    "cong = Piano()"
   ]
  },
  {
   "cell_type": "code",
   "execution_count": 16,
   "metadata": {},
   "outputs": [
    {
     "name": "stdout",
     "output_type": "stream",
     "text": [
      "This piano is a/an 5foot\n",
      "Yamaha piano, 4 years old and costing)700 dollars.\n"
     ]
    }
   ],
   "source": [
    "cong.printdetails()"
   ]
  },
  {
   "cell_type": "code",
   "execution_count": null,
   "metadata": {
    "collapsed": true
   },
   "outputs": [],
   "source": []
  }
 ],
 "metadata": {
  "kernelspec": {
   "display_name": "Python 3",
   "language": "python",
   "name": "python3"
  },
  "language_info": {
   "codemirror_mode": {
    "name": "ipython",
    "version": 3
   },
   "file_extension": ".py",
   "mimetype": "text/x-python",
   "name": "python",
   "nbconvert_exporter": "python",
   "pygments_lexer": "ipython3",
   "version": "3.6.1"
  }
 },
 "nbformat": 4,
 "nbformat_minor": 2
}
